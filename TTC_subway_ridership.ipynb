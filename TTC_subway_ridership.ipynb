{
 "cells": [
  {
   "cell_type": "markdown",
   "metadata": {},
   "source": [
    "# TTC Subway Ridership"
   ]
  },
  {
   "cell_type": "code",
   "execution_count": 1,
   "metadata": {},
   "outputs": [
    {
     "name": "stderr",
     "output_type": "stream",
     "text": [
      "c:\\Users\\yuqih\\AppData\\Local\\Programs\\Python\\Python39\\lib\\site-packages\\geopandas\\_compat.py:123: UserWarning: The Shapely GEOS version (3.10.2-CAPI-1.16.0) is incompatible with the GEOS version PyGEOS was compiled with (3.10.4-CAPI-1.16.2). Conversions between both will be slow.\n",
      "  warnings.warn(\n"
     ]
    }
   ],
   "source": [
    "import pandas as pd\n",
    "import matplotlib.pyplot as plt\n",
    "import numpy as np\n",
    "import geopandas as gpd\n",
    "import os"
   ]
  },
  {
   "cell_type": "markdown",
   "metadata": {},
   "source": [
    "### 1. Import and Combine Data"
   ]
  },
  {
   "cell_type": "code",
   "execution_count": 16,
   "metadata": {},
   "outputs": [
    {
     "data": {
      "text/plain": [
       "['ttc-subway-ridership-2014.csv',\n",
       " 'ttc-subway-ridership-2015.csv',\n",
       " 'ttc-subway-ridership-2016.csv',\n",
       " 'ttc-subway-ridership-2018.csv',\n",
       " 'ttc-subway-ridership-2022.csv']"
      ]
     },
     "execution_count": 16,
     "metadata": {},
     "output_type": "execute_result"
    }
   ],
   "source": [
    "# Find all ttc subway ridership data file from the path\n",
    "filenames = [file for file in os.listdir(\"TTC_ridership\") if 'ttc-subway-ridership' in file]\n",
    "filenames"
   ]
  },
  {
   "cell_type": "code",
   "execution_count": 19,
   "metadata": {},
   "outputs": [
    {
     "data": {
      "text/html": [
       "<div>\n",
       "<style scoped>\n",
       "    .dataframe tbody tr th:only-of-type {\n",
       "        vertical-align: middle;\n",
       "    }\n",
       "\n",
       "    .dataframe tbody tr th {\n",
       "        vertical-align: top;\n",
       "    }\n",
       "\n",
       "    .dataframe thead th {\n",
       "        text-align: right;\n",
       "    }\n",
       "</style>\n",
       "<table border=\"1\" class=\"dataframe\">\n",
       "  <thead>\n",
       "    <tr style=\"text-align: right;\">\n",
       "      <th></th>\n",
       "      <th>Station Name</th>\n",
       "      <th>Line</th>\n",
       "    </tr>\n",
       "  </thead>\n",
       "  <tbody>\n",
       "    <tr>\n",
       "      <th>0</th>\n",
       "      <td>Finch</td>\n",
       "      <td>1</td>\n",
       "    </tr>\n",
       "    <tr>\n",
       "      <th>1</th>\n",
       "      <td>North York Centre</td>\n",
       "      <td>1</td>\n",
       "    </tr>\n",
       "    <tr>\n",
       "      <th>2</th>\n",
       "      <td>Sheppard-Yonge (1 YONGE-UNIVERSITY)</td>\n",
       "      <td>1</td>\n",
       "    </tr>\n",
       "    <tr>\n",
       "      <th>3</th>\n",
       "      <td>York Mills</td>\n",
       "      <td>1</td>\n",
       "    </tr>\n",
       "    <tr>\n",
       "      <th>4</th>\n",
       "      <td>Lawrence</td>\n",
       "      <td>1</td>\n",
       "    </tr>\n",
       "    <tr>\n",
       "      <th>...</th>\n",
       "      <td>...</td>\n",
       "      <td>...</td>\n",
       "    </tr>\n",
       "    <tr>\n",
       "      <th>75</th>\n",
       "      <td>Lawrence East</td>\n",
       "      <td>3</td>\n",
       "    </tr>\n",
       "    <tr>\n",
       "      <th>76</th>\n",
       "      <td>Ellesmere</td>\n",
       "      <td>3</td>\n",
       "    </tr>\n",
       "    <tr>\n",
       "      <th>77</th>\n",
       "      <td>Midland</td>\n",
       "      <td>3</td>\n",
       "    </tr>\n",
       "    <tr>\n",
       "      <th>78</th>\n",
       "      <td>Scarborough Centre</td>\n",
       "      <td>3</td>\n",
       "    </tr>\n",
       "    <tr>\n",
       "      <th>79</th>\n",
       "      <td>McCowan</td>\n",
       "      <td>3</td>\n",
       "    </tr>\n",
       "  </tbody>\n",
       "</table>\n",
       "<p>80 rows × 2 columns</p>\n",
       "</div>"
      ],
      "text/plain": [
       "                           Station Name  Line\n",
       "0                                 Finch     1\n",
       "1                     North York Centre     1\n",
       "2   Sheppard-Yonge (1 YONGE-UNIVERSITY)     1\n",
       "3                            York Mills     1\n",
       "4                              Lawrence     1\n",
       "..                                  ...   ...\n",
       "75                        Lawrence East     3\n",
       "76                            Ellesmere     3\n",
       "77                              Midland     3\n",
       "78                   Scarborough Centre     3\n",
       "79                              McCowan     3\n",
       "\n",
       "[80 rows x 2 columns]"
      ]
     },
     "execution_count": 19,
     "metadata": {},
     "output_type": "execute_result"
    }
   ],
   "source": [
    "# Import the TTC subway station name list\n",
    "ttc_stations = pd.read_csv(\"TTC_ridership\\TTC_stations.csv\")\n",
    "ttc_stations"
   ]
  },
  {
   "cell_type": "code",
   "execution_count": 4,
   "metadata": {},
   "outputs": [],
   "source": [
    "# Separate the TTC subway stations to 4 subway lines\n",
    "line1 = ttc_stations[ttc_stations[\"Line\"] == 1]\n",
    "line2 = ttc_stations[ttc_stations[\"Line\"] == 2]\n",
    "line3 = ttc_stations[ttc_stations[\"Line\"] == 3]\n",
    "line4 = ttc_stations[ttc_stations[\"Line\"] == 4]"
   ]
  },
  {
   "cell_type": "code",
   "execution_count": 10,
   "metadata": {},
   "outputs": [
    {
     "data": {
      "text/html": [
       "<div>\n",
       "<style scoped>\n",
       "    .dataframe tbody tr th:only-of-type {\n",
       "        vertical-align: middle;\n",
       "    }\n",
       "\n",
       "    .dataframe tbody tr th {\n",
       "        vertical-align: top;\n",
       "    }\n",
       "\n",
       "    .dataframe thead th {\n",
       "        text-align: right;\n",
       "    }\n",
       "</style>\n",
       "<table border=\"1\" class=\"dataframe\">\n",
       "  <thead>\n",
       "    <tr style=\"text-align: right;\">\n",
       "      <th></th>\n",
       "      <th>Station Name</th>\n",
       "      <th>2014</th>\n",
       "      <th>2015</th>\n",
       "      <th>2016</th>\n",
       "      <th>2018</th>\n",
       "      <th>2022</th>\n",
       "    </tr>\n",
       "  </thead>\n",
       "  <tbody>\n",
       "    <tr>\n",
       "      <th>0</th>\n",
       "      <td>Bloor-Yonge (1 YONGE-UNIVERSITY)</td>\n",
       "      <td>216,190</td>\n",
       "      <td>216,190</td>\n",
       "      <td>204,630</td>\n",
       "      <td>204,630</td>\n",
       "      <td>155,186</td>\n",
       "    </tr>\n",
       "    <tr>\n",
       "      <th>1</th>\n",
       "      <td>Bathurst</td>\n",
       "      <td>35,510</td>\n",
       "      <td>36,460</td>\n",
       "      <td>29,320</td>\n",
       "      <td>26,900</td>\n",
       "      <td>26,234</td>\n",
       "    </tr>\n",
       "    <tr>\n",
       "      <th>2</th>\n",
       "      <td>College</td>\n",
       "      <td>47,940</td>\n",
       "      <td>47,790</td>\n",
       "      <td>47,600</td>\n",
       "      <td>44,370</td>\n",
       "      <td>42,883</td>\n",
       "    </tr>\n",
       "    <tr>\n",
       "      <th>3</th>\n",
       "      <td>Bay</td>\n",
       "      <td>31,050</td>\n",
       "      <td>30,860</td>\n",
       "      <td>27,090</td>\n",
       "      <td>32,690</td>\n",
       "      <td>24,260</td>\n",
       "    </tr>\n",
       "    <tr>\n",
       "      <th>4</th>\n",
       "      <td>Davisville</td>\n",
       "      <td>23,040</td>\n",
       "      <td>25,330</td>\n",
       "      <td>24,300</td>\n",
       "      <td>25,990</td>\n",
       "      <td>13,973</td>\n",
       "    </tr>\n",
       "  </tbody>\n",
       "</table>\n",
       "</div>"
      ],
      "text/plain": [
       "                       Station Name     2014     2015     2016     2018  \\\n",
       "0  Bloor-Yonge (1 YONGE-UNIVERSITY)  216,190  216,190  204,630  204,630   \n",
       "1                          Bathurst   35,510   36,460   29,320   26,900   \n",
       "2                           College   47,940   47,790   47,600   44,370   \n",
       "3                               Bay   31,050   30,860   27,090   32,690   \n",
       "4                        Davisville   23,040   25,330   24,300   25,990   \n",
       "\n",
       "      2022  \n",
       "0  155,186  \n",
       "1   26,234  \n",
       "2   42,883  \n",
       "3   24,260  \n",
       "4   13,973  "
      ]
     },
     "execution_count": 10,
     "metadata": {},
     "output_type": "execute_result"
    }
   ],
   "source": [
    "# Start counting\n",
    "count = 0\n",
    "\n",
    "# Run through all files to put ridership and year data\n",
    "for filename in filenames:\n",
    "    # Read the yearly ridership data\n",
    "    ridership_yearly_data = pd.read_csv(filename, header = None)\n",
    "    # Get the year from the file name\n",
    "    year = filename.split(\".\")[0][-4:]\n",
    "    # Separate the name from the data\n",
    "    name = [ridership_yearly_data[0][i] for i in range(0, len(ridership_yearly_data), 2)]\n",
    "    # Separate the corresponding ridership count from the data\n",
    "    ridership = [ridership_yearly_data[0][i] for i in range(1, len(ridership_yearly_data)+1, 2)]\n",
    "    \n",
    "    if count == 0:\n",
    "        # Create a new ridership dataframe with data\n",
    "        ttc_subway_ridership = pd.DataFrame({\"Station Name\": name, str(year): ridership})\n",
    "    else:\n",
    "        # Merge two dataframe by add a column for that year\n",
    "        ttc_subway_ridership = ttc_subway_ridership.merge(pd.DataFrame({\"Station Name\": name, str(year): ridership}), how = \"left\", on = \"Station Name\")\n",
    "    count = count + 1\n",
    "\n",
    "ttc_subway_ridership.head()\n",
    "    "
   ]
  },
  {
   "cell_type": "code",
   "execution_count": 11,
   "metadata": {},
   "outputs": [
    {
     "data": {
      "text/html": [
       "<div>\n",
       "<style scoped>\n",
       "    .dataframe tbody tr th:only-of-type {\n",
       "        vertical-align: middle;\n",
       "    }\n",
       "\n",
       "    .dataframe tbody tr th {\n",
       "        vertical-align: top;\n",
       "    }\n",
       "\n",
       "    .dataframe thead th {\n",
       "        text-align: right;\n",
       "    }\n",
       "</style>\n",
       "<table border=\"1\" class=\"dataframe\">\n",
       "  <thead>\n",
       "    <tr style=\"text-align: right;\">\n",
       "      <th></th>\n",
       "      <th>Station Name</th>\n",
       "      <th>2014</th>\n",
       "      <th>2015</th>\n",
       "      <th>2016</th>\n",
       "      <th>2018</th>\n",
       "      <th>2022</th>\n",
       "      <th>Line</th>\n",
       "    </tr>\n",
       "  </thead>\n",
       "  <tbody>\n",
       "    <tr>\n",
       "      <th>0</th>\n",
       "      <td>Bloor-Yonge (1 YONGE-UNIVERSITY)</td>\n",
       "      <td>216,190</td>\n",
       "      <td>216,190</td>\n",
       "      <td>204,630</td>\n",
       "      <td>204,630</td>\n",
       "      <td>155,186</td>\n",
       "      <td>1</td>\n",
       "    </tr>\n",
       "    <tr>\n",
       "      <th>1</th>\n",
       "      <td>Bathurst</td>\n",
       "      <td>35,510</td>\n",
       "      <td>36,460</td>\n",
       "      <td>29,320</td>\n",
       "      <td>26,900</td>\n",
       "      <td>26,234</td>\n",
       "      <td>2</td>\n",
       "    </tr>\n",
       "    <tr>\n",
       "      <th>2</th>\n",
       "      <td>College</td>\n",
       "      <td>47,940</td>\n",
       "      <td>47,790</td>\n",
       "      <td>47,600</td>\n",
       "      <td>44,370</td>\n",
       "      <td>42,883</td>\n",
       "      <td>1</td>\n",
       "    </tr>\n",
       "    <tr>\n",
       "      <th>3</th>\n",
       "      <td>Bay</td>\n",
       "      <td>31,050</td>\n",
       "      <td>30,860</td>\n",
       "      <td>27,090</td>\n",
       "      <td>32,690</td>\n",
       "      <td>24,260</td>\n",
       "      <td>2</td>\n",
       "    </tr>\n",
       "    <tr>\n",
       "      <th>4</th>\n",
       "      <td>Davisville</td>\n",
       "      <td>23,040</td>\n",
       "      <td>25,330</td>\n",
       "      <td>24,300</td>\n",
       "      <td>25,990</td>\n",
       "      <td>13,973</td>\n",
       "      <td>1</td>\n",
       "    </tr>\n",
       "  </tbody>\n",
       "</table>\n",
       "</div>"
      ],
      "text/plain": [
       "                       Station Name     2014     2015     2016     2018  \\\n",
       "0  Bloor-Yonge (1 YONGE-UNIVERSITY)  216,190  216,190  204,630  204,630   \n",
       "1                          Bathurst   35,510   36,460   29,320   26,900   \n",
       "2                           College   47,940   47,790   47,600   44,370   \n",
       "3                               Bay   31,050   30,860   27,090   32,690   \n",
       "4                        Davisville   23,040   25,330   24,300   25,990   \n",
       "\n",
       "      2022  Line  \n",
       "0  155,186     1  \n",
       "1   26,234     2  \n",
       "2   42,883     1  \n",
       "3   24,260     2  \n",
       "4   13,973     1  "
      ]
     },
     "execution_count": 11,
     "metadata": {},
     "output_type": "execute_result"
    }
   ],
   "source": [
    "# Merge TTC station line to each station\n",
    "ttc_subway_ridership = ttc_subway_ridership.merge(ttc_stations, how = \"left\", on = \"Station Name\")\n",
    "ttc_subway_ridership.head()"
   ]
  },
  {
   "cell_type": "markdown",
   "metadata": {},
   "source": [
    "### 2. Find the busiest stations "
   ]
  },
  {
   "cell_type": "code",
   "execution_count": null,
   "metadata": {},
   "outputs": [],
   "source": [
    "# "
   ]
  }
 ],
 "metadata": {
  "kernelspec": {
   "display_name": "Python 3",
   "language": "python",
   "name": "python3"
  },
  "language_info": {
   "codemirror_mode": {
    "name": "ipython",
    "version": 3
   },
   "file_extension": ".py",
   "mimetype": "text/x-python",
   "name": "python",
   "nbconvert_exporter": "python",
   "pygments_lexer": "ipython3",
   "version": "3.9.7"
  }
 },
 "nbformat": 4,
 "nbformat_minor": 2
}
