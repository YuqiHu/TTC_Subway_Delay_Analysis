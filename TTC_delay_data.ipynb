{
 "cells": [
  {
   "cell_type": "markdown",
   "metadata": {},
   "source": [
    "# TTC Delay Data"
   ]
  },
  {
   "cell_type": "code",
   "execution_count": 1,
   "metadata": {},
   "outputs": [
    {
     "name": "stderr",
     "output_type": "stream",
     "text": [
      "c:\\Users\\yuqih\\AppData\\Local\\Programs\\Python\\Python39\\lib\\site-packages\\geopandas\\_compat.py:123: UserWarning: The Shapely GEOS version (3.10.2-CAPI-1.16.0) is incompatible with the GEOS version PyGEOS was compiled with (3.10.4-CAPI-1.16.2). Conversions between both will be slow.\n",
      "  warnings.warn(\n"
     ]
    }
   ],
   "source": [
    "import pandas as pd\n",
    "import matplotlib.pyplot as plt\n",
    "import numpy as np\n",
    "import geopandas as gpd\n",
    "import os\n",
    "import seaborn as sns\n",
    "from datetime import datetime as dt"
   ]
  },
  {
   "cell_type": "markdown",
   "metadata": {},
   "source": [
    "1. import data"
   ]
  },
  {
   "cell_type": "code",
   "execution_count": 2,
   "metadata": {},
   "outputs": [
    {
     "data": {
      "text/plain": [
       "['ttc-subway-delay-data-2018.xlsx',\n",
       " 'ttc-subway-delay-data-2019.xlsx',\n",
       " 'ttc-subway-delay-data-2020.xlsx',\n",
       " 'ttc-subway-delay-data-2021.xlsx',\n",
       " 'ttc-subway-delay-data-2022.xlsx',\n",
       " 'ttc-subway-delay-data-2023.xlsx',\n",
       " 'ttc-subway-delay-jan-2014-april-2017.xlsx',\n",
       " 'ttc-subway-delay-may-december-2017.xlsx']"
      ]
     },
     "execution_count": 2,
     "metadata": {},
     "output_type": "execute_result"
    }
   ],
   "source": [
    "# Find all ttc subway ridership data file from the path\n",
    "filenames = [file for file in os.listdir(\"TTC_delay\") if ('ttc-subway-delay' in file) and (not 'readme' in file) and (not 'codes' in file)]\n",
    "filenames"
   ]
  },
  {
   "cell_type": "code",
   "execution_count": 3,
   "metadata": {},
   "outputs": [],
   "source": [
    "def combine_excel_sheets(filenames, folder_path):\n",
    "    all_dataframes = []\n",
    "\n",
    "    # Read through all sheets of Excel file and combine as a dataframe\n",
    "    for file in filenames:\n",
    "        try:\n",
    "            # Read the Excel file\n",
    "            xls = pd.ExcelFile(os.path.join(folder_path, file))\n",
    "            # Get all sheets names\n",
    "            sheet_names = xls.sheet_names\n",
    "\n",
    "            # Combine all dataframes\n",
    "            combined_df = pd.concat([xls.parse(sheet_name) for sheet_name in sheet_names], ignore_index = True)\n",
    "\n",
    "            # Append the combined dataframe to the list\n",
    "            all_dataframes.append(combined_df)\n",
    "\n",
    "        # If there are any errors to read the file\n",
    "        except Exception as e:\n",
    "            print(f\"Error reading {file}: {e}\")\n",
    "    \n",
    "    # Make all_dataframes as a dataframe\n",
    "    result_df = pd.concat(all_dataframes, ignore_index = True)\n",
    "    \n",
    "    return result_df\n",
    "\n"
   ]
  },
  {
   "cell_type": "code",
   "execution_count": 4,
   "metadata": {},
   "outputs": [
    {
     "data": {
      "text/html": [
       "<div>\n",
       "<style scoped>\n",
       "    .dataframe tbody tr th:only-of-type {\n",
       "        vertical-align: middle;\n",
       "    }\n",
       "\n",
       "    .dataframe tbody tr th {\n",
       "        vertical-align: top;\n",
       "    }\n",
       "\n",
       "    .dataframe thead th {\n",
       "        text-align: right;\n",
       "    }\n",
       "</style>\n",
       "<table border=\"1\" class=\"dataframe\">\n",
       "  <thead>\n",
       "    <tr style=\"text-align: right;\">\n",
       "      <th></th>\n",
       "      <th>Date</th>\n",
       "      <th>Time</th>\n",
       "      <th>Day</th>\n",
       "      <th>Station</th>\n",
       "      <th>Code</th>\n",
       "      <th>Min Delay</th>\n",
       "      <th>Min Gap</th>\n",
       "      <th>Bound</th>\n",
       "      <th>Line</th>\n",
       "      <th>Vehicle</th>\n",
       "    </tr>\n",
       "  </thead>\n",
       "  <tbody>\n",
       "    <tr>\n",
       "      <th>0</th>\n",
       "      <td>2018-01-01</td>\n",
       "      <td>00:29</td>\n",
       "      <td>Monday</td>\n",
       "      <td>SHEPPARD WEST STATION</td>\n",
       "      <td>MUATC</td>\n",
       "      <td>10</td>\n",
       "      <td>15</td>\n",
       "      <td>N</td>\n",
       "      <td>YU</td>\n",
       "      <td>5986</td>\n",
       "    </tr>\n",
       "    <tr>\n",
       "      <th>1</th>\n",
       "      <td>2018-01-01</td>\n",
       "      <td>01:07</td>\n",
       "      <td>Monday</td>\n",
       "      <td>DUNDAS STATION</td>\n",
       "      <td>MUNCA</td>\n",
       "      <td>0</td>\n",
       "      <td>0</td>\n",
       "      <td>NaN</td>\n",
       "      <td>YU</td>\n",
       "      <td>0</td>\n",
       "    </tr>\n",
       "    <tr>\n",
       "      <th>2</th>\n",
       "      <td>2018-01-01</td>\n",
       "      <td>01:22</td>\n",
       "      <td>Monday</td>\n",
       "      <td>MUSEUM STATION</td>\n",
       "      <td>MUSC</td>\n",
       "      <td>0</td>\n",
       "      <td>0</td>\n",
       "      <td>N</td>\n",
       "      <td>YU</td>\n",
       "      <td>5751</td>\n",
       "    </tr>\n",
       "    <tr>\n",
       "      <th>3</th>\n",
       "      <td>2018-01-01</td>\n",
       "      <td>01:28</td>\n",
       "      <td>Monday</td>\n",
       "      <td>BAY LOWER</td>\n",
       "      <td>EUOE</td>\n",
       "      <td>0</td>\n",
       "      <td>0</td>\n",
       "      <td>NaN</td>\n",
       "      <td>BD</td>\n",
       "      <td>5222</td>\n",
       "    </tr>\n",
       "    <tr>\n",
       "      <th>4</th>\n",
       "      <td>2018-01-01</td>\n",
       "      <td>01:39</td>\n",
       "      <td>Monday</td>\n",
       "      <td>MUSEUM STATION</td>\n",
       "      <td>MUO</td>\n",
       "      <td>6</td>\n",
       "      <td>11</td>\n",
       "      <td>S</td>\n",
       "      <td>YU</td>\n",
       "      <td>5781</td>\n",
       "    </tr>\n",
       "  </tbody>\n",
       "</table>\n",
       "</div>"
      ],
      "text/plain": [
       "        Date   Time     Day                Station   Code  Min Delay  Min Gap  \\\n",
       "0 2018-01-01  00:29  Monday  SHEPPARD WEST STATION  MUATC         10       15   \n",
       "1 2018-01-01  01:07  Monday         DUNDAS STATION  MUNCA          0        0   \n",
       "2 2018-01-01  01:22  Monday         MUSEUM STATION   MUSC          0        0   \n",
       "3 2018-01-01  01:28  Monday              BAY LOWER   EUOE          0        0   \n",
       "4 2018-01-01  01:39  Monday         MUSEUM STATION    MUO          6       11   \n",
       "\n",
       "  Bound Line  Vehicle  \n",
       "0     N   YU     5986  \n",
       "1   NaN   YU        0  \n",
       "2     N   YU     5751  \n",
       "3   NaN   BD     5222  \n",
       "4     S   YU     5781  "
      ]
     },
     "execution_count": 4,
     "metadata": {},
     "output_type": "execute_result"
    }
   ],
   "source": [
    "# Import TTC delay codes\n",
    "delayed_data = combine_excel_sheets(filenames, r\"TTC_delay\")\n",
    "delayed_data.head()"
   ]
  },
  {
   "cell_type": "code",
   "execution_count": 5,
   "metadata": {},
   "outputs": [
    {
     "data": {
      "text/plain": [
       "(188121, 10)"
      ]
     },
     "execution_count": 5,
     "metadata": {},
     "output_type": "execute_result"
    }
   ],
   "source": [
    "delayed_data.shape"
   ]
  },
  {
   "cell_type": "code",
   "execution_count": 6,
   "metadata": {},
   "outputs": [
    {
     "name": "stdout",
     "output_type": "stream",
     "text": [
      "<class 'pandas.core.frame.DataFrame'>\n",
      "RangeIndex: 188121 entries, 0 to 188120\n",
      "Data columns (total 10 columns):\n",
      " #   Column     Non-Null Count   Dtype         \n",
      "---  ------     --------------   -----         \n",
      " 0   Date       188121 non-null  datetime64[ns]\n",
      " 1   Time       188121 non-null  object        \n",
      " 2   Day        188121 non-null  object        \n",
      " 3   Station    188121 non-null  object        \n",
      " 4   Code       188120 non-null  object        \n",
      " 5   Min Delay  188121 non-null  int64         \n",
      " 6   Min Gap    188121 non-null  int64         \n",
      " 7   Bound      142443 non-null  object        \n",
      " 8   Line       187478 non-null  object        \n",
      " 9   Vehicle    188121 non-null  int64         \n",
      "dtypes: datetime64[ns](1), int64(3), object(6)\n",
      "memory usage: 14.4+ MB\n"
     ]
    }
   ],
   "source": [
    "delayed_data.info()"
   ]
  },
  {
   "cell_type": "markdown",
   "metadata": {},
   "source": [
    "import delay codes"
   ]
  },
  {
   "cell_type": "code",
   "execution_count": 7,
   "metadata": {},
   "outputs": [
    {
     "data": {
      "text/html": [
       "<div>\n",
       "<style scoped>\n",
       "    .dataframe tbody tr th:only-of-type {\n",
       "        vertical-align: middle;\n",
       "    }\n",
       "\n",
       "    .dataframe tbody tr th {\n",
       "        vertical-align: top;\n",
       "    }\n",
       "\n",
       "    .dataframe thead th {\n",
       "        text-align: right;\n",
       "    }\n",
       "</style>\n",
       "<table border=\"1\" class=\"dataframe\">\n",
       "  <thead>\n",
       "    <tr style=\"text-align: right;\">\n",
       "      <th></th>\n",
       "      <th>Unnamed: 0</th>\n",
       "      <th>Unnamed: 1</th>\n",
       "      <th>SUB RMENU CODE</th>\n",
       "      <th>CODE DESCRIPTION</th>\n",
       "      <th>Unnamed: 4</th>\n",
       "      <th>Unnamed: 5</th>\n",
       "      <th>SRT RMENU CODE</th>\n",
       "      <th>CODE DESCRIPTION.1</th>\n",
       "    </tr>\n",
       "  </thead>\n",
       "  <tbody>\n",
       "    <tr>\n",
       "      <th>0</th>\n",
       "      <td>NaN</td>\n",
       "      <td>1</td>\n",
       "      <td>EUAC</td>\n",
       "      <td>Air Conditioning</td>\n",
       "      <td>NaN</td>\n",
       "      <td>1.0</td>\n",
       "      <td>ERAC</td>\n",
       "      <td>Air Conditioning</td>\n",
       "    </tr>\n",
       "    <tr>\n",
       "      <th>1</th>\n",
       "      <td>NaN</td>\n",
       "      <td>2</td>\n",
       "      <td>EUAL</td>\n",
       "      <td>Alternating Current</td>\n",
       "      <td>NaN</td>\n",
       "      <td>2.0</td>\n",
       "      <td>ERBO</td>\n",
       "      <td>Body</td>\n",
       "    </tr>\n",
       "    <tr>\n",
       "      <th>2</th>\n",
       "      <td>NaN</td>\n",
       "      <td>3</td>\n",
       "      <td>EUATC</td>\n",
       "      <td>ATC RC&amp;S Equipment</td>\n",
       "      <td>NaN</td>\n",
       "      <td>3.0</td>\n",
       "      <td>ERCD</td>\n",
       "      <td>Consequential Delay (2nd Delay Same Fault)</td>\n",
       "    </tr>\n",
       "    <tr>\n",
       "      <th>3</th>\n",
       "      <td>NaN</td>\n",
       "      <td>4</td>\n",
       "      <td>EUBK</td>\n",
       "      <td>Brakes</td>\n",
       "      <td>NaN</td>\n",
       "      <td>4.0</td>\n",
       "      <td>ERCO</td>\n",
       "      <td>Couplers</td>\n",
       "    </tr>\n",
       "    <tr>\n",
       "      <th>4</th>\n",
       "      <td>NaN</td>\n",
       "      <td>5</td>\n",
       "      <td>EUBO</td>\n",
       "      <td>Body</td>\n",
       "      <td>NaN</td>\n",
       "      <td>5.0</td>\n",
       "      <td>ERDB</td>\n",
       "      <td>Disc Brakes</td>\n",
       "    </tr>\n",
       "  </tbody>\n",
       "</table>\n",
       "</div>"
      ],
      "text/plain": [
       "   Unnamed: 0  Unnamed: 1 SUB RMENU CODE     CODE DESCRIPTION  Unnamed: 4  \\\n",
       "0         NaN           1           EUAC     Air Conditioning         NaN   \n",
       "1         NaN           2           EUAL  Alternating Current         NaN   \n",
       "2         NaN           3          EUATC   ATC RC&S Equipment         NaN   \n",
       "3         NaN           4           EUBK               Brakes         NaN   \n",
       "4         NaN           5           EUBO                 Body         NaN   \n",
       "\n",
       "   Unnamed: 5 SRT RMENU CODE                          CODE DESCRIPTION.1  \n",
       "0         1.0           ERAC                            Air Conditioning  \n",
       "1         2.0           ERBO                                        Body  \n",
       "2         3.0           ERCD  Consequential Delay (2nd Delay Same Fault)  \n",
       "3         4.0           ERCO                                    Couplers  \n",
       "4         5.0           ERDB                                 Disc Brakes  "
      ]
     },
     "execution_count": 7,
     "metadata": {},
     "output_type": "execute_result"
    }
   ],
   "source": [
    "# Import TTC delay codes\n",
    "codes = pd.read_excel(os.path.join('TTC_delay', 'ttc-subway-delay-codes.xlsx'), header = 1)\n",
    "codes.head()"
   ]
  },
  {
   "cell_type": "code",
   "execution_count": 8,
   "metadata": {},
   "outputs": [
    {
     "data": {
      "text/html": [
       "<div>\n",
       "<style scoped>\n",
       "    .dataframe tbody tr th:only-of-type {\n",
       "        vertical-align: middle;\n",
       "    }\n",
       "\n",
       "    .dataframe tbody tr th {\n",
       "        vertical-align: top;\n",
       "    }\n",
       "\n",
       "    .dataframe thead th {\n",
       "        text-align: right;\n",
       "    }\n",
       "</style>\n",
       "<table border=\"1\" class=\"dataframe\">\n",
       "  <thead>\n",
       "    <tr style=\"text-align: right;\">\n",
       "      <th></th>\n",
       "      <th>Code</th>\n",
       "      <th>Code description</th>\n",
       "    </tr>\n",
       "  </thead>\n",
       "  <tbody>\n",
       "    <tr>\n",
       "      <th>0</th>\n",
       "      <td>EUAC</td>\n",
       "      <td>Air Conditioning</td>\n",
       "    </tr>\n",
       "    <tr>\n",
       "      <th>1</th>\n",
       "      <td>EUAL</td>\n",
       "      <td>Alternating Current</td>\n",
       "    </tr>\n",
       "    <tr>\n",
       "      <th>2</th>\n",
       "      <td>EUATC</td>\n",
       "      <td>ATC RC&amp;S Equipment</td>\n",
       "    </tr>\n",
       "    <tr>\n",
       "      <th>3</th>\n",
       "      <td>EUBK</td>\n",
       "      <td>Brakes</td>\n",
       "    </tr>\n",
       "    <tr>\n",
       "      <th>4</th>\n",
       "      <td>EUBO</td>\n",
       "      <td>Body</td>\n",
       "    </tr>\n",
       "  </tbody>\n",
       "</table>\n",
       "</div>"
      ],
      "text/plain": [
       "    Code     Code description\n",
       "0   EUAC     Air Conditioning\n",
       "1   EUAL  Alternating Current\n",
       "2  EUATC   ATC RC&S Equipment\n",
       "3   EUBK               Brakes\n",
       "4   EUBO                 Body"
      ]
     },
     "execution_count": 8,
     "metadata": {},
     "output_type": "execute_result"
    }
   ],
   "source": [
    "# Since the code abbreviation and code describtion are divided into four different columns, seperate them into two dataframe and concat into one\n",
    "TTC_delay_code_name_raw_1 = pd.DataFrame({\n",
    "    \"Code\": codes.iloc[:,2],\n",
    "    \"Code description\": codes.iloc[:,3]\n",
    "})\n",
    "TTC_delay_code_name_raw_2 = pd.DataFrame({\n",
    "    \"Code\": codes.iloc[:,6],\n",
    "    \"Code description\": codes.iloc[:,7]\n",
    "})\n",
    "\n",
    "TTC_delay_code_name = pd.concat([TTC_delay_code_name_raw_1, TTC_delay_code_name_raw_2], axis=0)\n",
    "\n",
    "## Reset the index\n",
    "TTC_delay_code_name = TTC_delay_code_name.reset_index(drop=True)\n",
    "\n",
    "## Take a look\n",
    "TTC_delay_code_name.head()"
   ]
  },
  {
   "cell_type": "code",
   "execution_count": 9,
   "metadata": {},
   "outputs": [
    {
     "data": {
      "text/html": [
       "<div>\n",
       "<style scoped>\n",
       "    .dataframe tbody tr th:only-of-type {\n",
       "        vertical-align: middle;\n",
       "    }\n",
       "\n",
       "    .dataframe tbody tr th {\n",
       "        vertical-align: top;\n",
       "    }\n",
       "\n",
       "    .dataframe thead th {\n",
       "        text-align: right;\n",
       "    }\n",
       "</style>\n",
       "<table border=\"1\" class=\"dataframe\">\n",
       "  <thead>\n",
       "    <tr style=\"text-align: right;\">\n",
       "      <th></th>\n",
       "      <th>Date</th>\n",
       "      <th>Time</th>\n",
       "      <th>Day</th>\n",
       "      <th>Station</th>\n",
       "      <th>Code</th>\n",
       "      <th>Min Delay</th>\n",
       "      <th>Min Gap</th>\n",
       "      <th>Bound</th>\n",
       "      <th>Line</th>\n",
       "      <th>Vehicle</th>\n",
       "      <th>Code description</th>\n",
       "    </tr>\n",
       "  </thead>\n",
       "  <tbody>\n",
       "    <tr>\n",
       "      <th>0</th>\n",
       "      <td>2018-01-01</td>\n",
       "      <td>00:29</td>\n",
       "      <td>Monday</td>\n",
       "      <td>SHEPPARD WEST STATION</td>\n",
       "      <td>MUATC</td>\n",
       "      <td>10</td>\n",
       "      <td>15</td>\n",
       "      <td>N</td>\n",
       "      <td>YU</td>\n",
       "      <td>5986</td>\n",
       "      <td>ATC Project</td>\n",
       "    </tr>\n",
       "    <tr>\n",
       "      <th>1</th>\n",
       "      <td>2018-01-01</td>\n",
       "      <td>01:07</td>\n",
       "      <td>Monday</td>\n",
       "      <td>DUNDAS STATION</td>\n",
       "      <td>MUNCA</td>\n",
       "      <td>0</td>\n",
       "      <td>0</td>\n",
       "      <td>NaN</td>\n",
       "      <td>YU</td>\n",
       "      <td>0</td>\n",
       "      <td>NaN</td>\n",
       "    </tr>\n",
       "    <tr>\n",
       "      <th>2</th>\n",
       "      <td>2018-01-01</td>\n",
       "      <td>01:22</td>\n",
       "      <td>Monday</td>\n",
       "      <td>MUSEUM STATION</td>\n",
       "      <td>MUSC</td>\n",
       "      <td>0</td>\n",
       "      <td>0</td>\n",
       "      <td>N</td>\n",
       "      <td>YU</td>\n",
       "      <td>5751</td>\n",
       "      <td>Miscellaneous Speed Control</td>\n",
       "    </tr>\n",
       "    <tr>\n",
       "      <th>3</th>\n",
       "      <td>2018-01-01</td>\n",
       "      <td>01:28</td>\n",
       "      <td>Monday</td>\n",
       "      <td>BAY LOWER</td>\n",
       "      <td>EUOE</td>\n",
       "      <td>0</td>\n",
       "      <td>0</td>\n",
       "      <td>NaN</td>\n",
       "      <td>BD</td>\n",
       "      <td>5222</td>\n",
       "      <td>Rail Cars &amp; Shops Opr. Error</td>\n",
       "    </tr>\n",
       "    <tr>\n",
       "      <th>4</th>\n",
       "      <td>2018-01-01</td>\n",
       "      <td>01:39</td>\n",
       "      <td>Monday</td>\n",
       "      <td>MUSEUM STATION</td>\n",
       "      <td>MUO</td>\n",
       "      <td>6</td>\n",
       "      <td>11</td>\n",
       "      <td>S</td>\n",
       "      <td>YU</td>\n",
       "      <td>5781</td>\n",
       "      <td>Miscellaneous Other</td>\n",
       "    </tr>\n",
       "  </tbody>\n",
       "</table>\n",
       "</div>"
      ],
      "text/plain": [
       "        Date   Time     Day                Station   Code  Min Delay  Min Gap  \\\n",
       "0 2018-01-01  00:29  Monday  SHEPPARD WEST STATION  MUATC         10       15   \n",
       "1 2018-01-01  01:07  Monday         DUNDAS STATION  MUNCA          0        0   \n",
       "2 2018-01-01  01:22  Monday         MUSEUM STATION   MUSC          0        0   \n",
       "3 2018-01-01  01:28  Monday              BAY LOWER   EUOE          0        0   \n",
       "4 2018-01-01  01:39  Monday         MUSEUM STATION    MUO          6       11   \n",
       "\n",
       "  Bound Line  Vehicle              Code description  \n",
       "0     N   YU     5986                   ATC Project  \n",
       "1   NaN   YU        0                           NaN  \n",
       "2     N   YU     5751   Miscellaneous Speed Control  \n",
       "3   NaN   BD     5222  Rail Cars & Shops Opr. Error  \n",
       "4     S   YU     5781           Miscellaneous Other  "
      ]
     },
     "execution_count": 9,
     "metadata": {},
     "output_type": "execute_result"
    }
   ],
   "source": [
    "## Add the column \"code duscription\" into TTC 2023 delay data \n",
    "delayed_data = pd.merge(delayed_data, TTC_delay_code_name, on=\"Code\", how='left')\n",
    "delayed_data.head()"
   ]
  },
  {
   "cell_type": "code",
   "execution_count": 10,
   "metadata": {},
   "outputs": [
    {
     "data": {
      "text/html": [
       "<div>\n",
       "<style scoped>\n",
       "    .dataframe tbody tr th:only-of-type {\n",
       "        vertical-align: middle;\n",
       "    }\n",
       "\n",
       "    .dataframe tbody tr th {\n",
       "        vertical-align: top;\n",
       "    }\n",
       "\n",
       "    .dataframe thead th {\n",
       "        text-align: right;\n",
       "    }\n",
       "</style>\n",
       "<table border=\"1\" class=\"dataframe\">\n",
       "  <thead>\n",
       "    <tr style=\"text-align: right;\">\n",
       "      <th></th>\n",
       "      <th>Day</th>\n",
       "      <th>Station</th>\n",
       "      <th>Code</th>\n",
       "      <th>Min Delay</th>\n",
       "      <th>Min Gap</th>\n",
       "      <th>Bound</th>\n",
       "      <th>Line</th>\n",
       "      <th>Vehicle</th>\n",
       "      <th>Code description</th>\n",
       "      <th>Datetime</th>\n",
       "    </tr>\n",
       "  </thead>\n",
       "  <tbody>\n",
       "    <tr>\n",
       "      <th>0</th>\n",
       "      <td>Monday</td>\n",
       "      <td>SHEPPARD WEST STATION</td>\n",
       "      <td>MUATC</td>\n",
       "      <td>10</td>\n",
       "      <td>15</td>\n",
       "      <td>N</td>\n",
       "      <td>YU</td>\n",
       "      <td>5986</td>\n",
       "      <td>ATC Project</td>\n",
       "      <td>2018-01-01 00:29:00</td>\n",
       "    </tr>\n",
       "    <tr>\n",
       "      <th>1</th>\n",
       "      <td>Monday</td>\n",
       "      <td>DUNDAS STATION</td>\n",
       "      <td>MUNCA</td>\n",
       "      <td>0</td>\n",
       "      <td>0</td>\n",
       "      <td>NaN</td>\n",
       "      <td>YU</td>\n",
       "      <td>0</td>\n",
       "      <td>NaN</td>\n",
       "      <td>2018-01-01 01:07:00</td>\n",
       "    </tr>\n",
       "    <tr>\n",
       "      <th>2</th>\n",
       "      <td>Monday</td>\n",
       "      <td>MUSEUM STATION</td>\n",
       "      <td>MUSC</td>\n",
       "      <td>0</td>\n",
       "      <td>0</td>\n",
       "      <td>N</td>\n",
       "      <td>YU</td>\n",
       "      <td>5751</td>\n",
       "      <td>Miscellaneous Speed Control</td>\n",
       "      <td>2018-01-01 01:22:00</td>\n",
       "    </tr>\n",
       "    <tr>\n",
       "      <th>3</th>\n",
       "      <td>Monday</td>\n",
       "      <td>BAY LOWER</td>\n",
       "      <td>EUOE</td>\n",
       "      <td>0</td>\n",
       "      <td>0</td>\n",
       "      <td>NaN</td>\n",
       "      <td>BD</td>\n",
       "      <td>5222</td>\n",
       "      <td>Rail Cars &amp; Shops Opr. Error</td>\n",
       "      <td>2018-01-01 01:28:00</td>\n",
       "    </tr>\n",
       "    <tr>\n",
       "      <th>4</th>\n",
       "      <td>Monday</td>\n",
       "      <td>MUSEUM STATION</td>\n",
       "      <td>MUO</td>\n",
       "      <td>6</td>\n",
       "      <td>11</td>\n",
       "      <td>S</td>\n",
       "      <td>YU</td>\n",
       "      <td>5781</td>\n",
       "      <td>Miscellaneous Other</td>\n",
       "      <td>2018-01-01 01:39:00</td>\n",
       "    </tr>\n",
       "    <tr>\n",
       "      <th>...</th>\n",
       "      <td>...</td>\n",
       "      <td>...</td>\n",
       "      <td>...</td>\n",
       "      <td>...</td>\n",
       "      <td>...</td>\n",
       "      <td>...</td>\n",
       "      <td>...</td>\n",
       "      <td>...</td>\n",
       "      <td>...</td>\n",
       "      <td>...</td>\n",
       "    </tr>\n",
       "    <tr>\n",
       "      <th>188173</th>\n",
       "      <td>Sunday</td>\n",
       "      <td>KEELE STATION</td>\n",
       "      <td>SUUT</td>\n",
       "      <td>0</td>\n",
       "      <td>0</td>\n",
       "      <td>W</td>\n",
       "      <td>BD</td>\n",
       "      <td>5245</td>\n",
       "      <td>Unauthorized at Track Level</td>\n",
       "      <td>2017-12-31 23:24:00</td>\n",
       "    </tr>\n",
       "    <tr>\n",
       "      <th>188174</th>\n",
       "      <td>Sunday</td>\n",
       "      <td>BAY STATION</td>\n",
       "      <td>PUMEL</td>\n",
       "      <td>0</td>\n",
       "      <td>0</td>\n",
       "      <td>NaN</td>\n",
       "      <td>BD</td>\n",
       "      <td>0</td>\n",
       "      <td>Escalator/Elevator Incident</td>\n",
       "      <td>2017-12-31 23:44:00</td>\n",
       "    </tr>\n",
       "    <tr>\n",
       "      <th>188175</th>\n",
       "      <td>Sunday</td>\n",
       "      <td>WARDEN STATION</td>\n",
       "      <td>MUSC</td>\n",
       "      <td>0</td>\n",
       "      <td>0</td>\n",
       "      <td>W</td>\n",
       "      <td>BD</td>\n",
       "      <td>5225</td>\n",
       "      <td>Miscellaneous Speed Control</td>\n",
       "      <td>2017-12-31 23:44:00</td>\n",
       "    </tr>\n",
       "    <tr>\n",
       "      <th>188176</th>\n",
       "      <td>Sunday</td>\n",
       "      <td>GLENCAIRN STATION</td>\n",
       "      <td>SUUT</td>\n",
       "      <td>10</td>\n",
       "      <td>14</td>\n",
       "      <td>S</td>\n",
       "      <td>YU</td>\n",
       "      <td>5576</td>\n",
       "      <td>Unauthorized at Track Level</td>\n",
       "      <td>2017-12-31 23:58:00</td>\n",
       "    </tr>\n",
       "    <tr>\n",
       "      <th>188177</th>\n",
       "      <td>Sunday</td>\n",
       "      <td>LAWRENCE STATION</td>\n",
       "      <td>SUUT</td>\n",
       "      <td>0</td>\n",
       "      <td>0</td>\n",
       "      <td>N</td>\n",
       "      <td>YU</td>\n",
       "      <td>6136</td>\n",
       "      <td>Unauthorized at Track Level</td>\n",
       "      <td>2017-12-31 23:59:00</td>\n",
       "    </tr>\n",
       "  </tbody>\n",
       "</table>\n",
       "<p>188178 rows × 10 columns</p>\n",
       "</div>"
      ],
      "text/plain": [
       "           Day                Station   Code  Min Delay  Min Gap Bound Line  \\\n",
       "0       Monday  SHEPPARD WEST STATION  MUATC         10       15     N   YU   \n",
       "1       Monday         DUNDAS STATION  MUNCA          0        0   NaN   YU   \n",
       "2       Monday         MUSEUM STATION   MUSC          0        0     N   YU   \n",
       "3       Monday              BAY LOWER   EUOE          0        0   NaN   BD   \n",
       "4       Monday         MUSEUM STATION    MUO          6       11     S   YU   \n",
       "...        ...                    ...    ...        ...      ...   ...  ...   \n",
       "188173  Sunday          KEELE STATION   SUUT          0        0     W   BD   \n",
       "188174  Sunday            BAY STATION  PUMEL          0        0   NaN   BD   \n",
       "188175  Sunday         WARDEN STATION   MUSC          0        0     W   BD   \n",
       "188176  Sunday      GLENCAIRN STATION   SUUT         10       14     S   YU   \n",
       "188177  Sunday       LAWRENCE STATION   SUUT          0        0     N   YU   \n",
       "\n",
       "        Vehicle              Code description            Datetime  \n",
       "0          5986                   ATC Project 2018-01-01 00:29:00  \n",
       "1             0                           NaN 2018-01-01 01:07:00  \n",
       "2          5751   Miscellaneous Speed Control 2018-01-01 01:22:00  \n",
       "3          5222  Rail Cars & Shops Opr. Error 2018-01-01 01:28:00  \n",
       "4          5781           Miscellaneous Other 2018-01-01 01:39:00  \n",
       "...         ...                           ...                 ...  \n",
       "188173     5245   Unauthorized at Track Level 2017-12-31 23:24:00  \n",
       "188174        0   Escalator/Elevator Incident 2017-12-31 23:44:00  \n",
       "188175     5225   Miscellaneous Speed Control 2017-12-31 23:44:00  \n",
       "188176     5576   Unauthorized at Track Level 2017-12-31 23:58:00  \n",
       "188177     6136   Unauthorized at Track Level 2017-12-31 23:59:00  \n",
       "\n",
       "[188178 rows x 10 columns]"
      ]
     },
     "execution_count": 10,
     "metadata": {},
     "output_type": "execute_result"
    }
   ],
   "source": [
    "# Combine date and time data and convert it to datetime type\n",
    "delayed_data[\"Datetime\"] = pd.to_datetime(delayed_data['Date'].astype(str) + ' ' + delayed_data['Time'])\n",
    "## Drop the \"Time\" and \"Date\" columns\n",
    "delayed_data = delayed_data.drop(columns='Time')\n",
    "delayed_data = delayed_data.drop(columns='Date')\n",
    "\n",
    "delayed_data"
   ]
  },
  {
   "cell_type": "code",
   "execution_count": 11,
   "metadata": {},
   "outputs": [
    {
     "data": {
      "text/html": [
       "<div>\n",
       "<style scoped>\n",
       "    .dataframe tbody tr th:only-of-type {\n",
       "        vertical-align: middle;\n",
       "    }\n",
       "\n",
       "    .dataframe tbody tr th {\n",
       "        vertical-align: top;\n",
       "    }\n",
       "\n",
       "    .dataframe thead th {\n",
       "        text-align: right;\n",
       "    }\n",
       "</style>\n",
       "<table border=\"1\" class=\"dataframe\">\n",
       "  <thead>\n",
       "    <tr style=\"text-align: right;\">\n",
       "      <th></th>\n",
       "      <th>Day</th>\n",
       "      <th>Station</th>\n",
       "      <th>Code</th>\n",
       "      <th>Min Delay</th>\n",
       "      <th>Min Gap</th>\n",
       "      <th>Bound</th>\n",
       "      <th>Line</th>\n",
       "      <th>Vehicle</th>\n",
       "      <th>Code description</th>\n",
       "    </tr>\n",
       "    <tr>\n",
       "      <th>Datetime</th>\n",
       "      <th></th>\n",
       "      <th></th>\n",
       "      <th></th>\n",
       "      <th></th>\n",
       "      <th></th>\n",
       "      <th></th>\n",
       "      <th></th>\n",
       "      <th></th>\n",
       "      <th></th>\n",
       "    </tr>\n",
       "  </thead>\n",
       "  <tbody>\n",
       "    <tr>\n",
       "      <th>2018-01-01 00:29:00</th>\n",
       "      <td>Monday</td>\n",
       "      <td>SHEPPARD WEST STATION</td>\n",
       "      <td>MUATC</td>\n",
       "      <td>10</td>\n",
       "      <td>15</td>\n",
       "      <td>N</td>\n",
       "      <td>YU</td>\n",
       "      <td>5986</td>\n",
       "      <td>ATC Project</td>\n",
       "    </tr>\n",
       "    <tr>\n",
       "      <th>2018-01-01 01:07:00</th>\n",
       "      <td>Monday</td>\n",
       "      <td>DUNDAS STATION</td>\n",
       "      <td>MUNCA</td>\n",
       "      <td>0</td>\n",
       "      <td>0</td>\n",
       "      <td>NaN</td>\n",
       "      <td>YU</td>\n",
       "      <td>0</td>\n",
       "      <td>NaN</td>\n",
       "    </tr>\n",
       "    <tr>\n",
       "      <th>2018-01-01 01:22:00</th>\n",
       "      <td>Monday</td>\n",
       "      <td>MUSEUM STATION</td>\n",
       "      <td>MUSC</td>\n",
       "      <td>0</td>\n",
       "      <td>0</td>\n",
       "      <td>N</td>\n",
       "      <td>YU</td>\n",
       "      <td>5751</td>\n",
       "      <td>Miscellaneous Speed Control</td>\n",
       "    </tr>\n",
       "    <tr>\n",
       "      <th>2018-01-01 01:28:00</th>\n",
       "      <td>Monday</td>\n",
       "      <td>BAY LOWER</td>\n",
       "      <td>EUOE</td>\n",
       "      <td>0</td>\n",
       "      <td>0</td>\n",
       "      <td>NaN</td>\n",
       "      <td>BD</td>\n",
       "      <td>5222</td>\n",
       "      <td>Rail Cars &amp; Shops Opr. Error</td>\n",
       "    </tr>\n",
       "    <tr>\n",
       "      <th>2018-01-01 01:39:00</th>\n",
       "      <td>Monday</td>\n",
       "      <td>MUSEUM STATION</td>\n",
       "      <td>MUO</td>\n",
       "      <td>6</td>\n",
       "      <td>11</td>\n",
       "      <td>S</td>\n",
       "      <td>YU</td>\n",
       "      <td>5781</td>\n",
       "      <td>Miscellaneous Other</td>\n",
       "    </tr>\n",
       "  </tbody>\n",
       "</table>\n",
       "</div>"
      ],
      "text/plain": [
       "                        Day                Station   Code  Min Delay  Min Gap  \\\n",
       "Datetime                                                                        \n",
       "2018-01-01 00:29:00  Monday  SHEPPARD WEST STATION  MUATC         10       15   \n",
       "2018-01-01 01:07:00  Monday         DUNDAS STATION  MUNCA          0        0   \n",
       "2018-01-01 01:22:00  Monday         MUSEUM STATION   MUSC          0        0   \n",
       "2018-01-01 01:28:00  Monday              BAY LOWER   EUOE          0        0   \n",
       "2018-01-01 01:39:00  Monday         MUSEUM STATION    MUO          6       11   \n",
       "\n",
       "                    Bound Line  Vehicle              Code description  \n",
       "Datetime                                                               \n",
       "2018-01-01 00:29:00     N   YU     5986                   ATC Project  \n",
       "2018-01-01 01:07:00   NaN   YU        0                           NaN  \n",
       "2018-01-01 01:22:00     N   YU     5751   Miscellaneous Speed Control  \n",
       "2018-01-01 01:28:00   NaN   BD     5222  Rail Cars & Shops Opr. Error  \n",
       "2018-01-01 01:39:00     S   YU     5781           Miscellaneous Other  "
      ]
     },
     "execution_count": 11,
     "metadata": {},
     "output_type": "execute_result"
    }
   ],
   "source": [
    "# Set the Datetime as the index\n",
    "delayed_data = delayed_data.set_index(\"Datetime\")\n",
    "delayed_data.head()"
   ]
  },
  {
   "cell_type": "code",
   "execution_count": 12,
   "metadata": {},
   "outputs": [],
   "source": [
    "# Create a function to capture the what time interval does each datetime index falls\n",
    "\n",
    "def get_hour_interval(hour):\n",
    "    start_hour = f\"{hour:02d}:00\"\n",
    "    end_hour = f\"{(hour + 1) % 24:02d}:00\"  # Use modulo 24 for the hour after 23:00 to wrap around to 00:00\n",
    "    return f\"{start_hour} - {end_hour}\""
   ]
  },
  {
   "cell_type": "code",
   "execution_count": 13,
   "metadata": {},
   "outputs": [
    {
     "data": {
      "text/html": [
       "<div>\n",
       "<style scoped>\n",
       "    .dataframe tbody tr th:only-of-type {\n",
       "        vertical-align: middle;\n",
       "    }\n",
       "\n",
       "    .dataframe tbody tr th {\n",
       "        vertical-align: top;\n",
       "    }\n",
       "\n",
       "    .dataframe thead th {\n",
       "        text-align: right;\n",
       "    }\n",
       "</style>\n",
       "<table border=\"1\" class=\"dataframe\">\n",
       "  <thead>\n",
       "    <tr style=\"text-align: right;\">\n",
       "      <th></th>\n",
       "      <th>Day</th>\n",
       "      <th>Station</th>\n",
       "      <th>Code</th>\n",
       "      <th>Min Delay</th>\n",
       "      <th>Min Gap</th>\n",
       "      <th>Bound</th>\n",
       "      <th>Line</th>\n",
       "      <th>Vehicle</th>\n",
       "      <th>Code description</th>\n",
       "      <th>time_interval</th>\n",
       "    </tr>\n",
       "    <tr>\n",
       "      <th>Datetime</th>\n",
       "      <th></th>\n",
       "      <th></th>\n",
       "      <th></th>\n",
       "      <th></th>\n",
       "      <th></th>\n",
       "      <th></th>\n",
       "      <th></th>\n",
       "      <th></th>\n",
       "      <th></th>\n",
       "      <th></th>\n",
       "    </tr>\n",
       "  </thead>\n",
       "  <tbody>\n",
       "    <tr>\n",
       "      <th>2018-01-01 00:29:00</th>\n",
       "      <td>Monday</td>\n",
       "      <td>SHEPPARD WEST STATION</td>\n",
       "      <td>MUATC</td>\n",
       "      <td>10</td>\n",
       "      <td>15</td>\n",
       "      <td>N</td>\n",
       "      <td>YU</td>\n",
       "      <td>5986</td>\n",
       "      <td>ATC Project</td>\n",
       "      <td>00:00 - 01:00</td>\n",
       "    </tr>\n",
       "    <tr>\n",
       "      <th>2018-01-01 01:07:00</th>\n",
       "      <td>Monday</td>\n",
       "      <td>DUNDAS STATION</td>\n",
       "      <td>MUNCA</td>\n",
       "      <td>0</td>\n",
       "      <td>0</td>\n",
       "      <td>NaN</td>\n",
       "      <td>YU</td>\n",
       "      <td>0</td>\n",
       "      <td>NaN</td>\n",
       "      <td>01:00 - 02:00</td>\n",
       "    </tr>\n",
       "    <tr>\n",
       "      <th>2018-01-01 01:22:00</th>\n",
       "      <td>Monday</td>\n",
       "      <td>MUSEUM STATION</td>\n",
       "      <td>MUSC</td>\n",
       "      <td>0</td>\n",
       "      <td>0</td>\n",
       "      <td>N</td>\n",
       "      <td>YU</td>\n",
       "      <td>5751</td>\n",
       "      <td>Miscellaneous Speed Control</td>\n",
       "      <td>01:00 - 02:00</td>\n",
       "    </tr>\n",
       "    <tr>\n",
       "      <th>2018-01-01 01:28:00</th>\n",
       "      <td>Monday</td>\n",
       "      <td>BAY LOWER</td>\n",
       "      <td>EUOE</td>\n",
       "      <td>0</td>\n",
       "      <td>0</td>\n",
       "      <td>NaN</td>\n",
       "      <td>BD</td>\n",
       "      <td>5222</td>\n",
       "      <td>Rail Cars &amp; Shops Opr. Error</td>\n",
       "      <td>01:00 - 02:00</td>\n",
       "    </tr>\n",
       "    <tr>\n",
       "      <th>2018-01-01 01:39:00</th>\n",
       "      <td>Monday</td>\n",
       "      <td>MUSEUM STATION</td>\n",
       "      <td>MUO</td>\n",
       "      <td>6</td>\n",
       "      <td>11</td>\n",
       "      <td>S</td>\n",
       "      <td>YU</td>\n",
       "      <td>5781</td>\n",
       "      <td>Miscellaneous Other</td>\n",
       "      <td>01:00 - 02:00</td>\n",
       "    </tr>\n",
       "  </tbody>\n",
       "</table>\n",
       "</div>"
      ],
      "text/plain": [
       "                        Day                Station   Code  Min Delay  Min Gap  \\\n",
       "Datetime                                                                        \n",
       "2018-01-01 00:29:00  Monday  SHEPPARD WEST STATION  MUATC         10       15   \n",
       "2018-01-01 01:07:00  Monday         DUNDAS STATION  MUNCA          0        0   \n",
       "2018-01-01 01:22:00  Monday         MUSEUM STATION   MUSC          0        0   \n",
       "2018-01-01 01:28:00  Monday              BAY LOWER   EUOE          0        0   \n",
       "2018-01-01 01:39:00  Monday         MUSEUM STATION    MUO          6       11   \n",
       "\n",
       "                    Bound Line  Vehicle              Code description  \\\n",
       "Datetime                                                                \n",
       "2018-01-01 00:29:00     N   YU     5986                   ATC Project   \n",
       "2018-01-01 01:07:00   NaN   YU        0                           NaN   \n",
       "2018-01-01 01:22:00     N   YU     5751   Miscellaneous Speed Control   \n",
       "2018-01-01 01:28:00   NaN   BD     5222  Rail Cars & Shops Opr. Error   \n",
       "2018-01-01 01:39:00     S   YU     5781           Miscellaneous Other   \n",
       "\n",
       "                     time_interval  \n",
       "Datetime                            \n",
       "2018-01-01 00:29:00  00:00 - 01:00  \n",
       "2018-01-01 01:07:00  01:00 - 02:00  \n",
       "2018-01-01 01:22:00  01:00 - 02:00  \n",
       "2018-01-01 01:28:00  01:00 - 02:00  \n",
       "2018-01-01 01:39:00  01:00 - 02:00  "
      ]
     },
     "execution_count": 13,
     "metadata": {},
     "output_type": "execute_result"
    }
   ],
   "source": [
    "# Create a new column for time interval\n",
    "delayed_data['time_interval'] = delayed_data.index.hour.map(get_hour_interval)\n",
    "delayed_data.head()"
   ]
  },
  {
   "cell_type": "code",
   "execution_count": 14,
   "metadata": {},
   "outputs": [
    {
     "data": {
      "text/plain": [
       "array(['YU', 'BD', 'SRT', 'SHP', 'YU/BD', nan, 'YU / BD', 'YU/ BD',\n",
       "       'YU-BD', 'BLOOR DANFORTH LINES', '999', 'BD/YU', '16 MCCOWAN',\n",
       "       'YUS', 'YONGE UNIVERSITY SERVI', '704 RAD BUS', 'B/D', 'BD LINE',\n",
       "       'YU & BD', 'YU\\\\BD', '46 MARTIN GROVE', 'RT', 'BLOOR-DANFORTH',\n",
       "       '134 PROGRESS', 'YU - BD', '985 SHEPPARD EAST EXPR', '22 COXWELL',\n",
       "       '100 FLEMINGDON PARK', 'YU LINE', '29 DUFFERIN', '95 YORK MILLS',\n",
       "       '35 JANE', 'BLOOR - DANFORTH', 'YU/BD LINE', 'YUS/BD',\n",
       "       '40 JUNCTION-DUNDAS WES', '71 RUNNYMEDE', '102 MARKHAM ROAD',\n",
       "       'YUS/DB', 'SHEP', 'YONGE/UNIVERSITY/BLOOR', '36 FINCH WEST',\n",
       "       'YUS & BD', 'YU & BD LINES', '52', '41 KEELE', 'Y/BD',\n",
       "       'YU/BD LINES', 'YUS AND BD', '69 WARDEN SOUTH', 'LINE 2 SHUTTLE',\n",
       "       '57 MIDLAND', '96 WILSON', '506 CARLTON', 'BLOOR DANFORTH & YONGE',\n",
       "       'BD LINE 2', 'BD/YUS', 'BLOOR DANFORTH', '31 GREENWOOD', '60',\n",
       "       '9 BELLAMY', '45 KIPLING', '504', '500', 'SHEPPARD', '104 FAYWOOD',\n",
       "       '60 STEELES WEST', '25 DON MILLS', '555', '126 CHRISTIE',\n",
       "       '37 ISLINGTON', '504 KING', '116 MORNINGSIDE', '73 ROYAL YORK',\n",
       "       'BLOOR DANFORTH LINE', 'YU/SHEP', '66', '341 KEELE', '510 SPADINA',\n",
       "       '11 BAYVIEW', '63 OSSINGTON', '32 EGLINTON WEST',\n",
       "       '129 MCCOWAN NORTH', 'YU BD', 'YU - BD LINE', '85 SHEPPARD EAST'],\n",
       "      dtype=object)"
      ]
     },
     "execution_count": 14,
     "metadata": {},
     "output_type": "execute_result"
    }
   ],
   "source": [
    "# Check subway lines\n",
    "delayed_data[\"Line\"].unique()"
   ]
  },
  {
   "cell_type": "code",
   "execution_count": 15,
   "metadata": {},
   "outputs": [
    {
     "data": {
      "text/plain": [
       "array(['YUS', 'BD', 'SRT', 'SHP', 'YU/BD', nan, '999', '16 MCCOWAN',\n",
       "       '704 RAD BUS', '46 MARTIN GROVE', 'RT', '134 PROGRESS',\n",
       "       '985 SHEPPARD EAST EXPR', '22 COXWELL', '100 FLEMINGDON PARK',\n",
       "       '29 DUFFERIN', '95 YORK MILLS', '35 JANE',\n",
       "       '40 JUNCTION-DUNDAS WES', '71 RUNNYMEDE', '102 MARKHAM ROAD',\n",
       "       '36 FINCH WEST', '52', '41 KEELE', '69 WARDEN SOUTH',\n",
       "       'LINE 2 SHUTTLE', '57 MIDLAND', '96 WILSON', '506 CARLTON',\n",
       "       '31 GREENWOOD', '60', '9 BELLAMY', '45 KIPLING', '504', '500',\n",
       "       '104 FAYWOOD', '60 STEELES WEST', '25 DON MILLS', '555',\n",
       "       '126 CHRISTIE', '37 ISLINGTON', '504 KING', '116 MORNINGSIDE',\n",
       "       '73 ROYAL YORK', 'YU/SHEP', '66', '341 KEELE', '510 SPADINA',\n",
       "       '11 BAYVIEW', '63 OSSINGTON', '32 EGLINTON WEST',\n",
       "       '129 MCCOWAN NORTH', '85 SHEPPARD EAST'], dtype=object)"
      ]
     },
     "execution_count": 15,
     "metadata": {},
     "output_type": "execute_result"
    }
   ],
   "source": [
    "# Replace subway line to the standard\n",
    "delayed_data[\"Line\"] = delayed_data[\"Line\"].replace(['YU / BD', 'YU/ BD', 'YU-BD', 'BD/YU', \n",
    "                                                     'YU & BD', 'YU\\\\BD', 'YU/BD LINE', \n",
    "                                                     'YUS/BD', 'YUS/DB', 'YUS & BD', \n",
    "                                                     'YU & BD LINES', 'Y/BD', 'YU/BD LINES',\n",
    "                                                     'YUS AND BD', 'BLOOR DANFORTH & YONGE',\n",
    "                                                     'BD/YUS', 'YU BD', 'YU - BD LINE', \n",
    "                                                     'YU - BD', 'YONGE/UNIVERSITY/BLOOR'] ,\"YU/BD\")\n",
    "delayed_data[\"Line\"] = delayed_data[\"Line\"].replace(['BLOOR DANFORTH LINES', 'B/D', 'BD LINE', \n",
    "                                                     'BLOOR-DANFORTH', 'BLOOR - DANFORTH', \n",
    "                                                     'BD LINE 2', 'BLOOR DANFORTH', 'BLOOR DANFORTH LINE',\n",
    "                                                     ] ,\"BD\")\n",
    "delayed_data[\"Line\"] = delayed_data[\"Line\"].replace(['YU', 'YONGE UNIVERSITY SERVI', 'YU LINE', \n",
    "                                                     'BLOOR-DANFORTH', 'BLOOR - DANFORTH', \n",
    "                                                     'BD LINE 2', 'BLOOR DANFORTH', 'BLOOR DANFORTH LINE',\n",
    "                                                     ] ,\"YUS\")\n",
    "delayed_data[\"Line\"] = delayed_data[\"Line\"].replace(['SHEPPARD', 'SHEP'] ,'SHP')\n",
    "\n",
    "delayed_data[\"Line\"].unique()\n"
   ]
  },
  {
   "cell_type": "code",
   "execution_count": 16,
   "metadata": {},
   "outputs": [
    {
     "data": {
      "text/html": [
       "<div>\n",
       "<style scoped>\n",
       "    .dataframe tbody tr th:only-of-type {\n",
       "        vertical-align: middle;\n",
       "    }\n",
       "\n",
       "    .dataframe tbody tr th {\n",
       "        vertical-align: top;\n",
       "    }\n",
       "\n",
       "    .dataframe thead th {\n",
       "        text-align: right;\n",
       "    }\n",
       "</style>\n",
       "<table border=\"1\" class=\"dataframe\">\n",
       "  <thead>\n",
       "    <tr style=\"text-align: right;\">\n",
       "      <th></th>\n",
       "      <th>Day</th>\n",
       "      <th>Station</th>\n",
       "      <th>Code</th>\n",
       "      <th>Min Delay</th>\n",
       "      <th>Min Gap</th>\n",
       "      <th>Bound</th>\n",
       "      <th>Line</th>\n",
       "      <th>Vehicle</th>\n",
       "      <th>Code description</th>\n",
       "      <th>time_interval</th>\n",
       "    </tr>\n",
       "    <tr>\n",
       "      <th>Datetime</th>\n",
       "      <th></th>\n",
       "      <th></th>\n",
       "      <th></th>\n",
       "      <th></th>\n",
       "      <th></th>\n",
       "      <th></th>\n",
       "      <th></th>\n",
       "      <th></th>\n",
       "      <th></th>\n",
       "      <th></th>\n",
       "    </tr>\n",
       "  </thead>\n",
       "  <tbody>\n",
       "    <tr>\n",
       "      <th>2018-01-01 00:29:00</th>\n",
       "      <td>Monday</td>\n",
       "      <td>SHEPPARD WEST STATION</td>\n",
       "      <td>MUATC</td>\n",
       "      <td>10</td>\n",
       "      <td>15</td>\n",
       "      <td>N</td>\n",
       "      <td>YUS</td>\n",
       "      <td>5986</td>\n",
       "      <td>ATC Project</td>\n",
       "      <td>00:00 - 01:00</td>\n",
       "    </tr>\n",
       "    <tr>\n",
       "      <th>2018-01-01 01:07:00</th>\n",
       "      <td>Monday</td>\n",
       "      <td>DUNDAS STATION</td>\n",
       "      <td>MUNCA</td>\n",
       "      <td>0</td>\n",
       "      <td>0</td>\n",
       "      <td>NaN</td>\n",
       "      <td>YUS</td>\n",
       "      <td>0</td>\n",
       "      <td>NaN</td>\n",
       "      <td>01:00 - 02:00</td>\n",
       "    </tr>\n",
       "    <tr>\n",
       "      <th>2018-01-01 01:22:00</th>\n",
       "      <td>Monday</td>\n",
       "      <td>MUSEUM STATION</td>\n",
       "      <td>MUSC</td>\n",
       "      <td>0</td>\n",
       "      <td>0</td>\n",
       "      <td>N</td>\n",
       "      <td>YUS</td>\n",
       "      <td>5751</td>\n",
       "      <td>Miscellaneous Speed Control</td>\n",
       "      <td>01:00 - 02:00</td>\n",
       "    </tr>\n",
       "    <tr>\n",
       "      <th>2018-01-01 01:28:00</th>\n",
       "      <td>Monday</td>\n",
       "      <td>BAY LOWER</td>\n",
       "      <td>EUOE</td>\n",
       "      <td>0</td>\n",
       "      <td>0</td>\n",
       "      <td>NaN</td>\n",
       "      <td>BD</td>\n",
       "      <td>5222</td>\n",
       "      <td>Rail Cars &amp; Shops Opr. Error</td>\n",
       "      <td>01:00 - 02:00</td>\n",
       "    </tr>\n",
       "    <tr>\n",
       "      <th>2018-01-01 01:39:00</th>\n",
       "      <td>Monday</td>\n",
       "      <td>MUSEUM STATION</td>\n",
       "      <td>MUO</td>\n",
       "      <td>6</td>\n",
       "      <td>11</td>\n",
       "      <td>S</td>\n",
       "      <td>YUS</td>\n",
       "      <td>5781</td>\n",
       "      <td>Miscellaneous Other</td>\n",
       "      <td>01:00 - 02:00</td>\n",
       "    </tr>\n",
       "  </tbody>\n",
       "</table>\n",
       "</div>"
      ],
      "text/plain": [
       "                        Day                Station   Code  Min Delay  Min Gap  \\\n",
       "Datetime                                                                        \n",
       "2018-01-01 00:29:00  Monday  SHEPPARD WEST STATION  MUATC         10       15   \n",
       "2018-01-01 01:07:00  Monday         DUNDAS STATION  MUNCA          0        0   \n",
       "2018-01-01 01:22:00  Monday         MUSEUM STATION   MUSC          0        0   \n",
       "2018-01-01 01:28:00  Monday              BAY LOWER   EUOE          0        0   \n",
       "2018-01-01 01:39:00  Monday         MUSEUM STATION    MUO          6       11   \n",
       "\n",
       "                    Bound Line  Vehicle              Code description  \\\n",
       "Datetime                                                                \n",
       "2018-01-01 00:29:00     N  YUS     5986                   ATC Project   \n",
       "2018-01-01 01:07:00   NaN  YUS        0                           NaN   \n",
       "2018-01-01 01:22:00     N  YUS     5751   Miscellaneous Speed Control   \n",
       "2018-01-01 01:28:00   NaN   BD     5222  Rail Cars & Shops Opr. Error   \n",
       "2018-01-01 01:39:00     S  YUS     5781           Miscellaneous Other   \n",
       "\n",
       "                     time_interval  \n",
       "Datetime                            \n",
       "2018-01-01 00:29:00  00:00 - 01:00  \n",
       "2018-01-01 01:07:00  01:00 - 02:00  \n",
       "2018-01-01 01:22:00  01:00 - 02:00  \n",
       "2018-01-01 01:28:00  01:00 - 02:00  \n",
       "2018-01-01 01:39:00  01:00 - 02:00  "
      ]
     },
     "execution_count": 16,
     "metadata": {},
     "output_type": "execute_result"
    }
   ],
   "source": [
    "# Filter subway lines out\n",
    "delayed_data = delayed_data[delayed_data[\"Line\"].isin(['YUS', 'BD', 'SRT', 'SHP', 'YU/BD', 'YU/SHEP'])]\n",
    "delayed_data.head()"
   ]
  },
  {
   "cell_type": "code",
   "execution_count": 17,
   "metadata": {},
   "outputs": [
    {
     "data": {
      "text/plain": [
       "array(['YUS', 'BD', 'SRT', 'SHP', 'YU/BD', 'YU/SHEP'], dtype=object)"
      ]
     },
     "execution_count": 17,
     "metadata": {},
     "output_type": "execute_result"
    }
   ],
   "source": [
    "# Double check\n",
    "subway_lines = delayed_data[\"Line\"].unique()\n",
    "subway_lines"
   ]
  },
  {
   "cell_type": "code",
   "execution_count": 18,
   "metadata": {},
   "outputs": [
    {
     "data": {
      "text/plain": [
       "(187474, 10)"
      ]
     },
     "execution_count": 18,
     "metadata": {},
     "output_type": "execute_result"
    }
   ],
   "source": [
    "# See the size of the delayed_data now\n",
    "delayed_data.shape"
   ]
  },
  {
   "cell_type": "markdown",
   "metadata": {},
   "source": [
    "2. Explore the time data"
   ]
  },
  {
   "cell_type": "code",
   "execution_count": 19,
   "metadata": {},
   "outputs": [
    {
     "data": {
      "text/html": [
       "<div>\n",
       "<style scoped>\n",
       "    .dataframe tbody tr th:only-of-type {\n",
       "        vertical-align: middle;\n",
       "    }\n",
       "\n",
       "    .dataframe tbody tr th {\n",
       "        vertical-align: top;\n",
       "    }\n",
       "\n",
       "    .dataframe thead th {\n",
       "        text-align: right;\n",
       "    }\n",
       "</style>\n",
       "<table border=\"1\" class=\"dataframe\">\n",
       "  <thead>\n",
       "    <tr style=\"text-align: right;\">\n",
       "      <th></th>\n",
       "      <th>Day</th>\n",
       "      <th>Station</th>\n",
       "      <th>Code</th>\n",
       "      <th>Min Delay</th>\n",
       "      <th>Min Gap</th>\n",
       "      <th>Bound</th>\n",
       "      <th>Line</th>\n",
       "      <th>Vehicle</th>\n",
       "      <th>Code description</th>\n",
       "      <th>time_interval</th>\n",
       "    </tr>\n",
       "    <tr>\n",
       "      <th>Datetime</th>\n",
       "      <th></th>\n",
       "      <th></th>\n",
       "      <th></th>\n",
       "      <th></th>\n",
       "      <th></th>\n",
       "      <th></th>\n",
       "      <th></th>\n",
       "      <th></th>\n",
       "      <th></th>\n",
       "      <th></th>\n",
       "    </tr>\n",
       "  </thead>\n",
       "  <tbody>\n",
       "    <tr>\n",
       "      <th>2018-01-01 00:29:00</th>\n",
       "      <td>Monday</td>\n",
       "      <td>SHEPPARD WEST STATION</td>\n",
       "      <td>MUATC</td>\n",
       "      <td>10</td>\n",
       "      <td>15</td>\n",
       "      <td>N</td>\n",
       "      <td>YUS</td>\n",
       "      <td>5986</td>\n",
       "      <td>ATC Project</td>\n",
       "      <td>00:00 - 01:00</td>\n",
       "    </tr>\n",
       "    <tr>\n",
       "      <th>2018-01-01 01:39:00</th>\n",
       "      <td>Monday</td>\n",
       "      <td>MUSEUM STATION</td>\n",
       "      <td>MUO</td>\n",
       "      <td>6</td>\n",
       "      <td>11</td>\n",
       "      <td>S</td>\n",
       "      <td>YUS</td>\n",
       "      <td>5781</td>\n",
       "      <td>Miscellaneous Other</td>\n",
       "      <td>01:00 - 02:00</td>\n",
       "    </tr>\n",
       "    <tr>\n",
       "      <th>2018-01-01 02:09:00</th>\n",
       "      <td>Monday</td>\n",
       "      <td>KIPLING STATION</td>\n",
       "      <td>MUSAN</td>\n",
       "      <td>3</td>\n",
       "      <td>7</td>\n",
       "      <td>E</td>\n",
       "      <td>BD</td>\n",
       "      <td>5261</td>\n",
       "      <td>Unsanitary Vehicle</td>\n",
       "      <td>02:00 - 03:00</td>\n",
       "    </tr>\n",
       "    <tr>\n",
       "      <th>2018-01-01 02:42:00</th>\n",
       "      <td>Monday</td>\n",
       "      <td>COLLEGE STATION</td>\n",
       "      <td>SUDP</td>\n",
       "      <td>7</td>\n",
       "      <td>12</td>\n",
       "      <td>N</td>\n",
       "      <td>YUS</td>\n",
       "      <td>5696</td>\n",
       "      <td>Disorderly Patron</td>\n",
       "      <td>02:00 - 03:00</td>\n",
       "    </tr>\n",
       "    <tr>\n",
       "      <th>2018-01-01 03:06:00</th>\n",
       "      <td>Monday</td>\n",
       "      <td>WARDEN STATION</td>\n",
       "      <td>MUI</td>\n",
       "      <td>3</td>\n",
       "      <td>7</td>\n",
       "      <td>E</td>\n",
       "      <td>BD</td>\n",
       "      <td>5257</td>\n",
       "      <td>Injured or ill Customer (On Train) - Transported</td>\n",
       "      <td>03:00 - 04:00</td>\n",
       "    </tr>\n",
       "  </tbody>\n",
       "</table>\n",
       "</div>"
      ],
      "text/plain": [
       "                        Day                Station   Code  Min Delay  Min Gap  \\\n",
       "Datetime                                                                        \n",
       "2018-01-01 00:29:00  Monday  SHEPPARD WEST STATION  MUATC         10       15   \n",
       "2018-01-01 01:39:00  Monday         MUSEUM STATION    MUO          6       11   \n",
       "2018-01-01 02:09:00  Monday        KIPLING STATION  MUSAN          3        7   \n",
       "2018-01-01 02:42:00  Monday        COLLEGE STATION   SUDP          7       12   \n",
       "2018-01-01 03:06:00  Monday         WARDEN STATION    MUI          3        7   \n",
       "\n",
       "                    Bound Line  Vehicle  \\\n",
       "Datetime                                  \n",
       "2018-01-01 00:29:00     N  YUS     5986   \n",
       "2018-01-01 01:39:00     S  YUS     5781   \n",
       "2018-01-01 02:09:00     E   BD     5261   \n",
       "2018-01-01 02:42:00     N  YUS     5696   \n",
       "2018-01-01 03:06:00     E   BD     5257   \n",
       "\n",
       "                                                     Code description  \\\n",
       "Datetime                                                                \n",
       "2018-01-01 00:29:00                                       ATC Project   \n",
       "2018-01-01 01:39:00                               Miscellaneous Other   \n",
       "2018-01-01 02:09:00                                Unsanitary Vehicle   \n",
       "2018-01-01 02:42:00                                 Disorderly Patron   \n",
       "2018-01-01 03:06:00  Injured or ill Customer (On Train) - Transported   \n",
       "\n",
       "                     time_interval  \n",
       "Datetime                            \n",
       "2018-01-01 00:29:00  00:00 - 01:00  \n",
       "2018-01-01 01:39:00  01:00 - 02:00  \n",
       "2018-01-01 02:09:00  02:00 - 03:00  \n",
       "2018-01-01 02:42:00  02:00 - 03:00  \n",
       "2018-01-01 03:06:00  03:00 - 04:00  "
      ]
     },
     "execution_count": 19,
     "metadata": {},
     "output_type": "execute_result"
    }
   ],
   "source": [
    "# Filter out the delays more than 1 minute\n",
    "real_delay = delayed_data.loc[(delayed_data[\"Min Delay\"] != 0) & (delayed_data[\"Min Gap\"] != 0)]\n",
    "real_delay.head()"
   ]
  },
  {
   "cell_type": "code",
   "execution_count": 20,
   "metadata": {},
   "outputs": [
    {
     "data": {
      "text/plain": [
       "(63542, 10)"
      ]
     },
     "execution_count": 20,
     "metadata": {},
     "output_type": "execute_result"
    }
   ],
   "source": [
    "# See how many real delays are there\n",
    "real_delay.shape"
   ]
  },
  {
   "cell_type": "code",
   "execution_count": 21,
   "metadata": {},
   "outputs": [
    {
     "name": "stdout",
     "output_type": "stream",
     "text": [
      "<class 'pandas.core.frame.DataFrame'>\n",
      "DatetimeIndex: 63542 entries, 2018-01-01 00:29:00 to 2017-12-31 23:58:00\n",
      "Data columns (total 10 columns):\n",
      " #   Column            Non-Null Count  Dtype \n",
      "---  ------            --------------  ----- \n",
      " 0   Day               63542 non-null  object\n",
      " 1   Station           63542 non-null  object\n",
      " 2   Code              63542 non-null  object\n",
      " 3   Min Delay         63542 non-null  int64 \n",
      " 4   Min Gap           63542 non-null  int64 \n",
      " 5   Bound             62915 non-null  object\n",
      " 6   Line              63542 non-null  object\n",
      " 7   Vehicle           63542 non-null  int64 \n",
      " 8   Code description  63279 non-null  object\n",
      " 9   time_interval     63542 non-null  object\n",
      "dtypes: int64(3), object(7)\n",
      "memory usage: 5.3+ MB\n"
     ]
    }
   ],
   "source": [
    "# Check real delay infos\n",
    "real_delay.info()"
   ]
  },
  {
   "cell_type": "code",
   "execution_count": 22,
   "metadata": {},
   "outputs": [
    {
     "data": {
      "text/html": [
       "<div>\n",
       "<style scoped>\n",
       "    .dataframe tbody tr th:only-of-type {\n",
       "        vertical-align: middle;\n",
       "    }\n",
       "\n",
       "    .dataframe tbody tr th {\n",
       "        vertical-align: top;\n",
       "    }\n",
       "\n",
       "    .dataframe thead th {\n",
       "        text-align: right;\n",
       "    }\n",
       "</style>\n",
       "<table border=\"1\" class=\"dataframe\">\n",
       "  <thead>\n",
       "    <tr style=\"text-align: right;\">\n",
       "      <th></th>\n",
       "      <th>Day</th>\n",
       "      <th>Station</th>\n",
       "      <th>Code</th>\n",
       "      <th>Min Delay</th>\n",
       "      <th>Min Gap</th>\n",
       "      <th>Bound</th>\n",
       "      <th>Line</th>\n",
       "      <th>Vehicle</th>\n",
       "      <th>Code description</th>\n",
       "      <th>time_interval</th>\n",
       "    </tr>\n",
       "    <tr>\n",
       "      <th>Datetime</th>\n",
       "      <th></th>\n",
       "      <th></th>\n",
       "      <th></th>\n",
       "      <th></th>\n",
       "      <th></th>\n",
       "      <th></th>\n",
       "      <th></th>\n",
       "      <th></th>\n",
       "      <th></th>\n",
       "      <th></th>\n",
       "    </tr>\n",
       "  </thead>\n",
       "  <tbody>\n",
       "    <tr>\n",
       "      <th>2018-01-11 00:23:00</th>\n",
       "      <td>Thursday</td>\n",
       "      <td>CASTLE FRANK STATION</td>\n",
       "      <td>PUTDN</td>\n",
       "      <td>4</td>\n",
       "      <td>8</td>\n",
       "      <td>E</td>\n",
       "      <td>BD</td>\n",
       "      <td>5112</td>\n",
       "      <td>NaN</td>\n",
       "      <td>00:00 - 01:00</td>\n",
       "    </tr>\n",
       "    <tr>\n",
       "      <th>2018-01-15 06:03:00</th>\n",
       "      <td>Monday</td>\n",
       "      <td>ISLINGTON STATION</td>\n",
       "      <td>PUTDN</td>\n",
       "      <td>3</td>\n",
       "      <td>7</td>\n",
       "      <td>E</td>\n",
       "      <td>BD</td>\n",
       "      <td>5313</td>\n",
       "      <td>NaN</td>\n",
       "      <td>06:00 - 07:00</td>\n",
       "    </tr>\n",
       "    <tr>\n",
       "      <th>2018-02-17 18:46:00</th>\n",
       "      <td>Saturday</td>\n",
       "      <td>MAIN STREET STATION</td>\n",
       "      <td>PUTDN</td>\n",
       "      <td>10</td>\n",
       "      <td>14</td>\n",
       "      <td>W</td>\n",
       "      <td>BD</td>\n",
       "      <td>5206</td>\n",
       "      <td>NaN</td>\n",
       "      <td>18:00 - 19:00</td>\n",
       "    </tr>\n",
       "    <tr>\n",
       "      <th>2018-04-04 18:11:00</th>\n",
       "      <td>Wednesday</td>\n",
       "      <td>WILSON STATION</td>\n",
       "      <td>PUTDN</td>\n",
       "      <td>8</td>\n",
       "      <td>11</td>\n",
       "      <td>S</td>\n",
       "      <td>YUS</td>\n",
       "      <td>6026</td>\n",
       "      <td>NaN</td>\n",
       "      <td>18:00 - 19:00</td>\n",
       "    </tr>\n",
       "    <tr>\n",
       "      <th>2018-05-04 17:29:00</th>\n",
       "      <td>Friday</td>\n",
       "      <td>ROSEDALE STATION</td>\n",
       "      <td>PUTDN</td>\n",
       "      <td>11</td>\n",
       "      <td>13</td>\n",
       "      <td>N</td>\n",
       "      <td>YUS</td>\n",
       "      <td>5906</td>\n",
       "      <td>NaN</td>\n",
       "      <td>17:00 - 18:00</td>\n",
       "    </tr>\n",
       "    <tr>\n",
       "      <th>...</th>\n",
       "      <td>...</td>\n",
       "      <td>...</td>\n",
       "      <td>...</td>\n",
       "      <td>...</td>\n",
       "      <td>...</td>\n",
       "      <td>...</td>\n",
       "      <td>...</td>\n",
       "      <td>...</td>\n",
       "      <td>...</td>\n",
       "      <td>...</td>\n",
       "    </tr>\n",
       "    <tr>\n",
       "      <th>2017-09-02 22:56:00</th>\n",
       "      <td>Saturday</td>\n",
       "      <td>FINCH STATION</td>\n",
       "      <td>PUTDN</td>\n",
       "      <td>12</td>\n",
       "      <td>16</td>\n",
       "      <td>N</td>\n",
       "      <td>YUS</td>\n",
       "      <td>5656</td>\n",
       "      <td>NaN</td>\n",
       "      <td>22:00 - 23:00</td>\n",
       "    </tr>\n",
       "    <tr>\n",
       "      <th>2017-10-15 18:05:00</th>\n",
       "      <td>Sunday</td>\n",
       "      <td>EGLINTON STATION</td>\n",
       "      <td>PUTDN</td>\n",
       "      <td>8</td>\n",
       "      <td>12</td>\n",
       "      <td>S</td>\n",
       "      <td>YUS</td>\n",
       "      <td>5101</td>\n",
       "      <td>NaN</td>\n",
       "      <td>18:00 - 19:00</td>\n",
       "    </tr>\n",
       "    <tr>\n",
       "      <th>2017-11-21 10:21:00</th>\n",
       "      <td>Tuesday</td>\n",
       "      <td>WARDEN STATION</td>\n",
       "      <td>PUTDN</td>\n",
       "      <td>3</td>\n",
       "      <td>6</td>\n",
       "      <td>W</td>\n",
       "      <td>BD</td>\n",
       "      <td>5082</td>\n",
       "      <td>NaN</td>\n",
       "      <td>10:00 - 11:00</td>\n",
       "    </tr>\n",
       "    <tr>\n",
       "      <th>2017-12-10 11:02:00</th>\n",
       "      <td>Sunday</td>\n",
       "      <td>BAYVIEW STATION</td>\n",
       "      <td>PUTDN</td>\n",
       "      <td>3</td>\n",
       "      <td>8</td>\n",
       "      <td>W</td>\n",
       "      <td>SHP</td>\n",
       "      <td>6171</td>\n",
       "      <td>NaN</td>\n",
       "      <td>11:00 - 12:00</td>\n",
       "    </tr>\n",
       "    <tr>\n",
       "      <th>2017-12-24 19:59:00</th>\n",
       "      <td>Sunday</td>\n",
       "      <td>DUNDAS WEST STATION</td>\n",
       "      <td>PUTDN</td>\n",
       "      <td>30</td>\n",
       "      <td>34</td>\n",
       "      <td>E</td>\n",
       "      <td>BD</td>\n",
       "      <td>5289</td>\n",
       "      <td>NaN</td>\n",
       "      <td>19:00 - 20:00</td>\n",
       "    </tr>\n",
       "  </tbody>\n",
       "</table>\n",
       "<p>263 rows × 10 columns</p>\n",
       "</div>"
      ],
      "text/plain": [
       "                           Day               Station   Code  Min Delay  \\\n",
       "Datetime                                                                 \n",
       "2018-01-11 00:23:00   Thursday  CASTLE FRANK STATION  PUTDN          4   \n",
       "2018-01-15 06:03:00     Monday     ISLINGTON STATION  PUTDN          3   \n",
       "2018-02-17 18:46:00   Saturday   MAIN STREET STATION  PUTDN         10   \n",
       "2018-04-04 18:11:00  Wednesday        WILSON STATION  PUTDN          8   \n",
       "2018-05-04 17:29:00     Friday      ROSEDALE STATION  PUTDN         11   \n",
       "...                        ...                   ...    ...        ...   \n",
       "2017-09-02 22:56:00   Saturday         FINCH STATION  PUTDN         12   \n",
       "2017-10-15 18:05:00     Sunday      EGLINTON STATION  PUTDN          8   \n",
       "2017-11-21 10:21:00    Tuesday        WARDEN STATION  PUTDN          3   \n",
       "2017-12-10 11:02:00     Sunday       BAYVIEW STATION  PUTDN          3   \n",
       "2017-12-24 19:59:00     Sunday   DUNDAS WEST STATION  PUTDN         30   \n",
       "\n",
       "                     Min Gap Bound Line  Vehicle Code description  \\\n",
       "Datetime                                                            \n",
       "2018-01-11 00:23:00        8     E   BD     5112              NaN   \n",
       "2018-01-15 06:03:00        7     E   BD     5313              NaN   \n",
       "2018-02-17 18:46:00       14     W   BD     5206              NaN   \n",
       "2018-04-04 18:11:00       11     S  YUS     6026              NaN   \n",
       "2018-05-04 17:29:00       13     N  YUS     5906              NaN   \n",
       "...                      ...   ...  ...      ...              ...   \n",
       "2017-09-02 22:56:00       16     N  YUS     5656              NaN   \n",
       "2017-10-15 18:05:00       12     S  YUS     5101              NaN   \n",
       "2017-11-21 10:21:00        6     W   BD     5082              NaN   \n",
       "2017-12-10 11:02:00        8     W  SHP     6171              NaN   \n",
       "2017-12-24 19:59:00       34     E   BD     5289              NaN   \n",
       "\n",
       "                     time_interval  \n",
       "Datetime                            \n",
       "2018-01-11 00:23:00  00:00 - 01:00  \n",
       "2018-01-15 06:03:00  06:00 - 07:00  \n",
       "2018-02-17 18:46:00  18:00 - 19:00  \n",
       "2018-04-04 18:11:00  18:00 - 19:00  \n",
       "2018-05-04 17:29:00  17:00 - 18:00  \n",
       "...                            ...  \n",
       "2017-09-02 22:56:00  22:00 - 23:00  \n",
       "2017-10-15 18:05:00  18:00 - 19:00  \n",
       "2017-11-21 10:21:00  10:00 - 11:00  \n",
       "2017-12-10 11:02:00  11:00 - 12:00  \n",
       "2017-12-24 19:59:00  19:00 - 20:00  \n",
       "\n",
       "[263 rows x 10 columns]"
      ]
     },
     "execution_count": 22,
     "metadata": {},
     "output_type": "execute_result"
    }
   ],
   "source": [
    "# See the empty Code description codes --> No description for those\n",
    "real_delay[real_delay[\"Code description\"].isnull()]"
   ]
  },
  {
   "cell_type": "markdown",
   "metadata": {},
   "source": [
    "didn't find MUNCA meaning from the code file."
   ]
  },
  {
   "cell_type": "code",
   "execution_count": 23,
   "metadata": {},
   "outputs": [
    {
     "name": "stdout",
     "output_type": "stream",
     "text": [
      "There are 33.89% of delay events caused delay more than 1 minutes.\n"
     ]
    }
   ],
   "source": [
    "# Calculate the real delay percentage\n",
    "real_delay_per = real_delay.shape[0] / delayed_data.shape[0]\n",
    "print(\"There are {}% of delay events caused delay more than 1 minutes.\".format(round(real_delay_per*100, 2)))"
   ]
  },
  {
   "cell_type": "code",
   "execution_count": 132,
   "metadata": {},
   "outputs": [],
   "source": [
    "real_delay.to_csv(\"TTC_Real_Delay_2014_to_2023.csv\")"
   ]
  },
  {
   "cell_type": "code",
   "execution_count": 24,
   "metadata": {},
   "outputs": [
    {
     "data": {
      "text/html": [
       "<div>\n",
       "<style scoped>\n",
       "    .dataframe tbody tr th:only-of-type {\n",
       "        vertical-align: middle;\n",
       "    }\n",
       "\n",
       "    .dataframe tbody tr th {\n",
       "        vertical-align: top;\n",
       "    }\n",
       "\n",
       "    .dataframe thead th {\n",
       "        text-align: right;\n",
       "    }\n",
       "</style>\n",
       "<table border=\"1\" class=\"dataframe\">\n",
       "  <thead>\n",
       "    <tr style=\"text-align: right;\">\n",
       "      <th></th>\n",
       "      <th>Day</th>\n",
       "      <th>Station</th>\n",
       "      <th>Code</th>\n",
       "      <th>Min Delay</th>\n",
       "      <th>Min Gap</th>\n",
       "      <th>Bound</th>\n",
       "      <th>Line</th>\n",
       "      <th>Vehicle</th>\n",
       "      <th>Code description</th>\n",
       "      <th>time_interval</th>\n",
       "    </tr>\n",
       "    <tr>\n",
       "      <th>Datetime</th>\n",
       "      <th></th>\n",
       "      <th></th>\n",
       "      <th></th>\n",
       "      <th></th>\n",
       "      <th></th>\n",
       "      <th></th>\n",
       "      <th></th>\n",
       "      <th></th>\n",
       "      <th></th>\n",
       "      <th></th>\n",
       "    </tr>\n",
       "  </thead>\n",
       "  <tbody>\n",
       "    <tr>\n",
       "      <th>2018-01-01 01:07:00</th>\n",
       "      <td>Monday</td>\n",
       "      <td>DUNDAS STATION</td>\n",
       "      <td>MUNCA</td>\n",
       "      <td>0</td>\n",
       "      <td>0</td>\n",
       "      <td>NaN</td>\n",
       "      <td>YUS</td>\n",
       "      <td>0</td>\n",
       "      <td>NaN</td>\n",
       "      <td>01:00 - 02:00</td>\n",
       "    </tr>\n",
       "    <tr>\n",
       "      <th>2018-01-01 01:22:00</th>\n",
       "      <td>Monday</td>\n",
       "      <td>MUSEUM STATION</td>\n",
       "      <td>MUSC</td>\n",
       "      <td>0</td>\n",
       "      <td>0</td>\n",
       "      <td>N</td>\n",
       "      <td>YUS</td>\n",
       "      <td>5751</td>\n",
       "      <td>Miscellaneous Speed Control</td>\n",
       "      <td>01:00 - 02:00</td>\n",
       "    </tr>\n",
       "    <tr>\n",
       "      <th>2018-01-01 01:28:00</th>\n",
       "      <td>Monday</td>\n",
       "      <td>BAY LOWER</td>\n",
       "      <td>EUOE</td>\n",
       "      <td>0</td>\n",
       "      <td>0</td>\n",
       "      <td>NaN</td>\n",
       "      <td>BD</td>\n",
       "      <td>5222</td>\n",
       "      <td>Rail Cars &amp; Shops Opr. Error</td>\n",
       "      <td>01:00 - 02:00</td>\n",
       "    </tr>\n",
       "    <tr>\n",
       "      <th>2018-01-01 02:00:00</th>\n",
       "      <td>Monday</td>\n",
       "      <td>BLOOR DANFORTH SUBWAY</td>\n",
       "      <td>MUGD</td>\n",
       "      <td>0</td>\n",
       "      <td>0</td>\n",
       "      <td>NaN</td>\n",
       "      <td>BD</td>\n",
       "      <td>0</td>\n",
       "      <td>Miscellaneous General Delays</td>\n",
       "      <td>02:00 - 03:00</td>\n",
       "    </tr>\n",
       "    <tr>\n",
       "      <th>2018-01-01 02:32:00</th>\n",
       "      <td>Monday</td>\n",
       "      <td>UNION STATION</td>\n",
       "      <td>MUIS</td>\n",
       "      <td>0</td>\n",
       "      <td>0</td>\n",
       "      <td>NaN</td>\n",
       "      <td>YUS</td>\n",
       "      <td>0</td>\n",
       "      <td>Injured or ill Customer (In Station) - Transpo...</td>\n",
       "      <td>02:00 - 03:00</td>\n",
       "    </tr>\n",
       "  </tbody>\n",
       "</table>\n",
       "</div>"
      ],
      "text/plain": [
       "                        Day                Station   Code  Min Delay  Min Gap  \\\n",
       "Datetime                                                                        \n",
       "2018-01-01 01:07:00  Monday         DUNDAS STATION  MUNCA          0        0   \n",
       "2018-01-01 01:22:00  Monday         MUSEUM STATION   MUSC          0        0   \n",
       "2018-01-01 01:28:00  Monday              BAY LOWER   EUOE          0        0   \n",
       "2018-01-01 02:00:00  Monday  BLOOR DANFORTH SUBWAY   MUGD          0        0   \n",
       "2018-01-01 02:32:00  Monday          UNION STATION   MUIS          0        0   \n",
       "\n",
       "                    Bound Line  Vehicle  \\\n",
       "Datetime                                  \n",
       "2018-01-01 01:07:00   NaN  YUS        0   \n",
       "2018-01-01 01:22:00     N  YUS     5751   \n",
       "2018-01-01 01:28:00   NaN   BD     5222   \n",
       "2018-01-01 02:00:00   NaN   BD        0   \n",
       "2018-01-01 02:32:00   NaN  YUS        0   \n",
       "\n",
       "                                                      Code description  \\\n",
       "Datetime                                                                 \n",
       "2018-01-01 01:07:00                                                NaN   \n",
       "2018-01-01 01:22:00                        Miscellaneous Speed Control   \n",
       "2018-01-01 01:28:00                       Rail Cars & Shops Opr. Error   \n",
       "2018-01-01 02:00:00                       Miscellaneous General Delays   \n",
       "2018-01-01 02:32:00  Injured or ill Customer (In Station) - Transpo...   \n",
       "\n",
       "                     time_interval  \n",
       "Datetime                            \n",
       "2018-01-01 01:07:00  01:00 - 02:00  \n",
       "2018-01-01 01:22:00  01:00 - 02:00  \n",
       "2018-01-01 01:28:00  01:00 - 02:00  \n",
       "2018-01-01 02:00:00  02:00 - 03:00  \n",
       "2018-01-01 02:32:00  02:00 - 03:00  "
      ]
     },
     "execution_count": 24,
     "metadata": {},
     "output_type": "execute_result"
    }
   ],
   "source": [
    "# Create the dataframe without delay\n",
    "no_delay = delayed_data.loc[(delayed_data[\"Min Delay\"] == 0) & (delayed_data[\"Min Gap\"] == 0)]\n",
    "no_delay.head()"
   ]
  },
  {
   "cell_type": "markdown",
   "metadata": {},
   "source": [
    "2. Top Five Reasons for real delay and no delay"
   ]
  },
  {
   "cell_type": "code",
   "execution_count": 25,
   "metadata": {},
   "outputs": [
    {
     "name": "stdout",
     "output_type": "stream",
     "text": [
      "2014\n",
      "Disorderly Patron                                           428\n",
      "Injured or ill Customer (On Train) - Medical Aid Refused    399\n",
      "Door Problems - Faulty Equipment                            366\n",
      "Injured or ill Customer (On Train) - Transported            349\n",
      "Passenger Assistance Alarm Activated - No Trouble Found     336\n",
      "Name: Code description, dtype: int64\n",
      "\n",
      "2015\n",
      "Disorderly Patron                                           358\n",
      "Injured or ill Customer (On Train) - Medical Aid Refused    352\n",
      "Door Problems - Faulty Equipment                            346\n",
      "Injured or ill Customer (On Train) - Transported            308\n",
      "Passenger Assistance Alarm Activated - No Trouble Found     208\n",
      "Name: Code description, dtype: int64\n",
      "\n",
      "2016\n",
      "Disorderly Patron                                           478\n",
      "Injured or ill Customer (On Train) - Medical Aid Refused    437\n",
      "Injured or ill Customer (On Train) - Transported            396\n",
      "Door Problems - Faulty Equipment                            295\n",
      "Misc. Transportation Other - Employee Non-Chargeable        193\n",
      "Name: Code description, dtype: int64\n",
      "\n",
      "2017\n",
      "Disorderly Patron                                           480\n",
      "Injured or ill Customer (On Train) - Medical Aid Refused    442\n",
      "Injured or ill Customer (On Train) - Transported            305\n",
      "Passenger Assistance Alarm Activated - No Trouble Found     282\n",
      "Door Problems - Faulty Equipment                            274\n",
      "Name: Code description, dtype: int64\n",
      "\n",
      "2018\n",
      "Disorderly Patron                                           661\n",
      "Injured or ill Customer (On Train) - Medical Aid Refused    482\n",
      "Passenger Assistance Alarm Activated - No Trouble Found     407\n",
      "Injured or ill Customer (On Train) - Transported            368\n",
      "Door Problems - Faulty Equipment                            348\n",
      "Name: Code description, dtype: int64\n",
      "\n",
      "2019\n",
      "Disorderly Patron                                           657\n",
      "Injured or ill Customer (On Train) - Medical Aid Refused    495\n",
      "Injured or ill Customer (On Train) - Transported            373\n",
      "ATC Project                                                 342\n",
      "Misc. Transportation Other - Employee Non-Chargeable        321\n",
      "Name: Code description, dtype: int64\n",
      "\n",
      "2020\n",
      "No Operator Immediately Available - Not E.S.A. Related      1190\n",
      "Disorderly Patron                                            823\n",
      "ATC Project                                                  307\n",
      "Misc. Transportation Other - Employee Non-Chargeable         257\n",
      "Injured or ill Customer (On Train) - Medical Aid Refused     252\n",
      "Name: Code description, dtype: int64\n",
      "\n",
      "2021\n",
      "Disorderly Patron                                          1057\n",
      "No Operator Immediately Available                           542\n",
      "ATC Project                                                 462\n",
      "Unauthorized at Track Level                                 309\n",
      "Passenger Assistance Alarm Activated - No Trouble Found     279\n",
      "Name: Code description, dtype: int64\n",
      "\n",
      "2022\n",
      "Disorderly Patron                                          959\n",
      "OPTO (COMMS) Train Door Monitoring                         724\n",
      "ATC Project                                                657\n",
      "Passenger Assistance Alarm Activated - No Trouble Found    529\n",
      "No Operator Immediately Available                          430\n",
      "Name: Code description, dtype: int64\n",
      "\n",
      "2023\n",
      "Disorderly Patron                                          853\n",
      "Passenger Assistance Alarm Activated - No Trouble Found    457\n",
      "OPTO (COMMS) Train Door Monitoring                         396\n",
      "Passenger Other                                            304\n",
      "Unauthorized at Track Level                                282\n",
      "Name: Code description, dtype: int64\n",
      "\n"
     ]
    }
   ],
   "source": [
    "# Top 5 Reasons for the recorded delay caused delays by years\n",
    "for i in range(2014, 2024):\n",
    "    print(i)\n",
    "    real_delay_reasons = real_delay[real_delay.index.year == i][\"Code description\"].value_counts(ascending = False)\n",
    "    print(real_delay_reasons[0:5])\n",
    "    print()"
   ]
  },
  {
   "cell_type": "markdown",
   "metadata": {},
   "source": [
    "The most common delay reason is disorderly patrons. The cases of disorderly patrons increased by almost 1.5 times since 2020. During the COVID-19 (2020-2022), no operator immediately available became one of the top five reasons. ATC project also became a significant factor in 2018-2022."
   ]
  },
  {
   "cell_type": "code",
   "execution_count": 26,
   "metadata": {},
   "outputs": [
    {
     "name": "stdout",
     "output_type": "stream",
     "text": [
      "2014\n",
      "Operator Overspeeding                                      2855\n",
      "Miscellaneous Speed Control                                2290\n",
      "Miscellaneous General Delays                               1412\n",
      "Passenger Assistance Alarm Activated - No Trouble Found    1073\n",
      "Miscellaneous Other                                         766\n",
      "Name: Code description, dtype: int64\n",
      "\n",
      "2015\n"
     ]
    },
    {
     "name": "stdout",
     "output_type": "stream",
     "text": [
      "Miscellaneous Speed Control                                4034\n",
      "Operator Overspeeding                                      3169\n",
      "Miscellaneous General Delays                               1187\n",
      "Injured or ill Customer (In Station) - Transported         1128\n",
      "Passenger Assistance Alarm Activated - No Trouble Found    1106\n",
      "Name: Code description, dtype: int64\n",
      "\n",
      "2016\n",
      "Miscellaneous Speed Control                                4267\n",
      "Operator Overspeeding                                      2512\n",
      "Injured or ill Customer (In Station) - Transported         1296\n",
      "Passenger Assistance Alarm Activated - No Trouble Found    1080\n",
      "Miscellaneous General Delays                                925\n",
      "Name: Code description, dtype: int64\n",
      "\n",
      "2017\n",
      "Miscellaneous Speed Control                                3135\n",
      "Operator Overspeeding                                      1805\n",
      "Injured or ill Customer (In Station) - Transported         1321\n",
      "Passenger Assistance Alarm Activated - No Trouble Found    1031\n",
      "Miscellaneous Other                                         673\n",
      "Name: Code description, dtype: int64\n",
      "\n",
      "2018\n",
      "Miscellaneous Speed Control                                2282\n",
      "Operator Overspeeding                                      1728\n",
      "Injured or ill Customer (In Station) - Transported         1679\n",
      "Passenger Assistance Alarm Activated - No Trouble Found    1210\n",
      "Miscellaneous Other                                         745\n",
      "Name: Code description, dtype: int64\n",
      "\n",
      "2019\n",
      "Miscellaneous Speed Control                                1905\n",
      "Injured or ill Customer (In Station) - Transported         1718\n",
      "Operator Overspeeding                                      1339\n",
      "Passenger Assistance Alarm Activated - No Trouble Found    1083\n",
      "Miscellaneous Other                                         747\n",
      "Name: Code description, dtype: int64\n",
      "\n",
      "2020\n",
      "Injured or ill Customer (In Station) - Transported         1258\n",
      "Miscellaneous Other                                         703\n",
      "Disorderly Patron                                           639\n",
      "Passenger Assistance Alarm Activated - No Trouble Found     612\n",
      "Miscellaneous Speed Control                                 554\n",
      "Name: Code description, dtype: int64\n",
      "\n",
      "2021\n",
      "Injured or ill Customer (In Station) - Transported            1596\n",
      "Disorderly Patron                                              986\n",
      "Miscellaneous Other                                            863\n",
      "Passenger Assistance Alarm Activated - No Trouble Found        791\n",
      "Injured or ill Customer (In Station) - Medical Aid Refused     612\n",
      "Name: Code description, dtype: int64\n",
      "\n",
      "2022\n",
      "Injured or ill Customer (In Station) - Transported            1913\n",
      "Miscellaneous Other                                           1054\n",
      "Disorderly Patron                                              973\n",
      "Passenger Assistance Alarm Activated - No Trouble Found        914\n",
      "Injured or ill Customer (In Station) - Medical Aid Refused     861\n",
      "Name: Code description, dtype: int64\n",
      "\n",
      "2023\n",
      "Injured or ill Customer (In Station) - Transported            1692\n",
      "Disorderly Patron                                             1472\n",
      "Passenger Other                                               1288\n",
      "Injured or ill Customer (In Station) - Medical Aid Refused     802\n",
      "Miscellaneous Other                                            678\n",
      "Name: Code description, dtype: int64\n",
      "\n"
     ]
    }
   ],
   "source": [
    "# Top 5 Reasons for the recorded delay without causing delays\n",
    "for i in range(2014, 2024):\n",
    "    print(i)\n",
    "    no_delay_reasons = no_delay[no_delay.index.year == i][\"Code description\"].value_counts(ascending = False)\n",
    "    print(no_delay_reasons[0:5])\n",
    "    print()"
   ]
  },
  {
   "cell_type": "markdown",
   "metadata": {},
   "source": [
    "The good news about the ATC project is less speed control/operator overspeeding cases happen."
   ]
  },
  {
   "cell_type": "code",
   "execution_count": 27,
   "metadata": {},
   "outputs": [
    {
     "name": "stdout",
     "output_type": "stream",
     "text": [
      "1\n",
      "Disorderly Patron                                           670\n",
      "Injured or ill Customer (On Train) - Medical Aid Refused    310\n",
      "Door Problems - Faulty Equipment                            309\n",
      "Injured or ill Customer (On Train) - Transported            304\n",
      "Passenger Assistance Alarm Activated - No Trouble Found     247\n",
      "Name: Code description, dtype: int64\n",
      "\n",
      "2\n",
      "Disorderly Patron                                           627\n",
      "Injured or ill Customer (On Train) - Medical Aid Refused    290\n",
      "Injured or ill Customer (On Train) - Transported            244\n",
      "Door Problems - Faulty Equipment                            229\n",
      "Passenger Assistance Alarm Activated - No Trouble Found     222\n",
      "Name: Code description, dtype: int64\n",
      "\n",
      "3\n",
      "Disorderly Patron                                           706\n",
      "Injured or ill Customer (On Train) - Medical Aid Refused    320\n",
      "Passenger Assistance Alarm Activated - No Trouble Found     274\n",
      "Door Problems - Faulty Equipment                            233\n",
      "Injured or ill Customer (On Train) - Transported            227\n",
      "Name: Code description, dtype: int64\n",
      "\n",
      "4\n",
      "Disorderly Patron                                           636\n",
      "No Operator Immediately Available - Not E.S.A. Related      492\n",
      "Injured or ill Customer (On Train) - Medical Aid Refused    266\n",
      "Passenger Assistance Alarm Activated - No Trouble Found     260\n",
      "Injured or ill Customer (On Train) - Transported            250\n",
      "Name: Code description, dtype: int64\n",
      "\n",
      "5\n",
      "Disorderly Patron                                           537\n",
      "Injured or ill Customer (On Train) - Medical Aid Refused    282\n",
      "Passenger Assistance Alarm Activated - No Trouble Found     277\n",
      "Injured or ill Customer (On Train) - Transported            246\n",
      "Door Problems - Faulty Equipment                            244\n",
      "Name: Code description, dtype: int64\n",
      "\n",
      "6\n",
      "Disorderly Patron                                           540\n",
      "Injured or ill Customer (On Train) - Medical Aid Refused    330\n",
      "Passenger Assistance Alarm Activated - No Trouble Found     310\n",
      "Injured or ill Customer (On Train) - Transported            244\n",
      "Door Problems - Faulty Equipment                            238\n",
      "Name: Code description, dtype: int64\n",
      "\n",
      "7\n",
      "Disorderly Patron                                           529\n",
      "No Operator Immediately Available - Not E.S.A. Related      352\n",
      "Passenger Assistance Alarm Activated - No Trouble Found     331\n",
      "Injured or ill Customer (On Train) - Medical Aid Refused    301\n",
      "Injured or ill Customer (On Train) - Transported            252\n",
      "Name: Code description, dtype: int64\n",
      "\n",
      "8\n",
      "Disorderly Patron                                           459\n",
      "Injured or ill Customer (On Train) - Medical Aid Refused    302\n",
      "Passenger Assistance Alarm Activated - No Trouble Found     296\n",
      "Injured or ill Customer (On Train) - Transported            229\n",
      "Door Problems - Faulty Equipment                            226\n",
      "Name: Code description, dtype: int64\n",
      "\n",
      "9\n",
      "Disorderly Patron                                           404\n",
      "Injured or ill Customer (On Train) - Medical Aid Refused    319\n",
      "Passenger Assistance Alarm Activated - No Trouble Found     260\n",
      "Injured or ill Customer (On Train) - Transported            217\n",
      "No Operator Immediately Available                           207\n",
      "Name: Code description, dtype: int64\n",
      "\n",
      "10\n",
      "Disorderly Patron                                           450\n",
      "Injured or ill Customer (On Train) - Medical Aid Refused    301\n",
      "Passenger Assistance Alarm Activated - No Trouble Found     250\n",
      "Injured or ill Customer (On Train) - Transported            239\n",
      "No Operator Immediately Available                           235\n",
      "Name: Code description, dtype: int64\n",
      "\n",
      "11\n",
      "Disorderly Patron                                           550\n",
      "Injured or ill Customer (On Train) - Medical Aid Refused    376\n",
      "Passenger Assistance Alarm Activated - No Trouble Found     247\n",
      "No Operator Immediately Available                           236\n",
      "Injured or ill Customer (On Train) - Transported            235\n",
      "Name: Code description, dtype: int64\n",
      "\n",
      "12\n",
      "Disorderly Patron                                           646\n",
      "Injured or ill Customer (On Train) - Medical Aid Refused    294\n",
      "Injured or ill Customer (On Train) - Transported            245\n",
      "Passenger Assistance Alarm Activated - No Trouble Found     229\n",
      "ATC Project                                                 212\n",
      "Name: Code description, dtype: int64\n",
      "\n"
     ]
    }
   ],
   "source": [
    "# Top 5 Reasons for the recorded delay caused delays by month\n",
    "for i in range(1, 13):\n",
    "    print(i)\n",
    "    real_delay_reasons = real_delay[real_delay.index.month == i][\"Code description\"].value_counts(ascending = False)\n",
    "    print(real_delay_reasons[0:5])\n",
    "    print()"
   ]
  },
  {
   "cell_type": "code",
   "execution_count": 28,
   "metadata": {},
   "outputs": [
    {
     "name": "stdout",
     "output_type": "stream",
     "text": [
      "0\n",
      "Disorderly Patron                                           331\n",
      "Unauthorized at Track Level                                 143\n",
      "Injured or ill Customer (On Train) - Medical Aid Refused    130\n",
      "Injured or ill Customer (On Train) - Transported            115\n",
      "Unsanitary Vehicle                                          110\n",
      "Name: Code description, dtype: int64\n",
      "\n",
      "1\n",
      "Disorderly Patron                                           221\n",
      "Unauthorized at Track Level                                 108\n",
      "Injured or ill Customer (On Train) - Transported             82\n",
      "Passenger Assistance Alarm Activated - No Trouble Found      81\n",
      "Injured or ill Customer (On Train) - Medical Aid Refused     74\n",
      "Name: Code description, dtype: int64\n",
      "\n",
      "2\n",
      "Disorderly Patron              18\n",
      "ATC Project                    15\n",
      "Unauthorized at Track Level    15\n",
      "Operator Violated Signal       14\n",
      "Miscellaneous Other             7\n",
      "Name: Code description, dtype: int64\n",
      "\n",
      "3\n",
      "ATC RC&S Equipment                                  3\n",
      "No Operator Immediately Available                   2\n",
      "Timeout                                             2\n",
      "Injured or ill Customer (On Train) - Transported    1\n",
      "ATC Project                                         1\n",
      "Name: Code description, dtype: int64\n",
      "\n",
      "4\n",
      "Graffiti / Scratchiti                           4\n",
      "Traction Power or Related Components Failure    1\n",
      "Yard/Carhouse Related Problems                  1\n",
      "No Equipment Available                          1\n",
      "Signals Track Weather Related                   1\n",
      "Name: Code description, dtype: int64\n",
      "\n",
      "5\n",
      "No Operator Immediately Available - Not E.S.A. Related     211\n",
      "No Operator Immediately Available                          101\n",
      "Graffiti / Scratchiti                                       85\n",
      "Miscellaneous Other                                         76\n",
      "ATC Project                                                 68\n",
      "Name: Code description, dtype: int64\n",
      "\n",
      "6\n",
      "No Operator Immediately Available - Not E.S.A. Related     426\n",
      "ATC Project                                                332\n",
      "Door Problems - Faulty Equipment                           236\n",
      "OPTO (COMMS) Train Door Monitoring                         173\n",
      "Miscellaneous Speed Control                                165\n",
      "Name: Code description, dtype: int64\n",
      "\n",
      "7\n",
      "Door Problems - Faulty Equipment                            221\n",
      "ATC Project                                                 220\n",
      "No Operator Immediately Available - Not E.S.A. Related      152\n",
      "Disorderly Patron                                           149\n",
      "Injured or ill Customer (On Train) - Medical Aid Refused    144\n",
      "Name: Code description, dtype: int64\n",
      "\n",
      "8\n",
      "Injured or ill Customer (On Train) - Medical Aid Refused    605\n",
      "Injured or ill Customer (On Train) - Transported            347\n",
      "Door Problems - Faulty Equipment                            243\n",
      "Disorderly Patron                                           200\n",
      "Passenger Assistance Alarm Activated - No Trouble Found     193\n",
      "Name: Code description, dtype: int64\n",
      "\n",
      "9\n",
      "Injured or ill Customer (On Train) - Medical Aid Refused    218\n",
      "Disorderly Patron                                           202\n",
      "Injured or ill Customer (On Train) - Transported            147\n",
      "Door Problems - Faulty Equipment                            144\n",
      "Passenger Assistance Alarm Activated - No Trouble Found     143\n",
      "Name: Code description, dtype: int64\n",
      "\n",
      "10\n",
      "Disorderly Patron                                           233\n",
      "Door Problems - Faulty Equipment                            131\n",
      "ATC Project                                                 121\n",
      "Passenger Assistance Alarm Activated - No Trouble Found     108\n",
      "Injured or ill Customer (On Train) - Medical Aid Refused    108\n",
      "Name: Code description, dtype: int64\n",
      "\n",
      "11\n",
      "Disorderly Patron                                           264\n",
      "Injured or ill Customer (On Train) - Medical Aid Refused    126\n",
      "Door Problems - Faulty Equipment                            123\n",
      "Passenger Assistance Alarm Activated - No Trouble Found     121\n",
      "ATC Project                                                 112\n",
      "Name: Code description, dtype: int64\n",
      "\n",
      "12\n",
      "Disorderly Patron                                           289\n",
      "Passenger Assistance Alarm Activated - No Trouble Found     126\n",
      "Injured or ill Customer (On Train) - Medical Aid Refused    117\n",
      "Injured or ill Customer (On Train) - Transported            112\n",
      "Passenger Other                                             109\n",
      "Name: Code description, dtype: int64\n",
      "\n",
      "13\n",
      "Disorderly Patron                                          357\n",
      "Injured or ill Customer (On Train) - Transported           146\n",
      "No Operator Immediately Available                          145\n",
      "Passenger Assistance Alarm Activated - No Trouble Found    143\n",
      "No Operator Immediately Available - Not E.S.A. Related     126\n",
      "Name: Code description, dtype: int64\n",
      "\n",
      "14\n",
      "Disorderly Patron                                           384\n",
      "Passenger Assistance Alarm Activated - No Trouble Found     180\n",
      "Injured or ill Customer (On Train) - Medical Aid Refused    164\n",
      "No Operator Immediately Available - Not E.S.A. Related      154\n",
      "Misc. Transportation Other - Employee Non-Chargeable        140\n",
      "Name: Code description, dtype: int64\n",
      "\n",
      "15\n",
      "Disorderly Patron                                           441\n",
      "Passenger Assistance Alarm Activated - No Trouble Found     236\n",
      "Injured or ill Customer (On Train) - Medical Aid Refused    203\n",
      "Door Problems - Faulty Equipment                            156\n",
      "Injured or ill Customer (On Train) - Transported            152\n",
      "Name: Code description, dtype: int64\n",
      "\n",
      "16\n",
      "Disorderly Patron                                           457\n",
      "Injured or ill Customer (On Train) - Medical Aid Refused    256\n",
      "Passenger Assistance Alarm Activated - No Trouble Found     248\n",
      "Injured or ill Customer (On Train) - Transported            214\n",
      "Door Problems - Faulty Equipment                            199\n",
      "Name: Code description, dtype: int64\n",
      "\n",
      "17\n",
      "Disorderly Patron                                           505\n",
      "Injured or ill Customer (On Train) - Medical Aid Refused    367\n",
      "Passenger Assistance Alarm Activated - No Trouble Found     340\n",
      "No Operator Immediately Available                           222\n",
      "Injured or ill Customer (On Train) - Transported            202\n",
      "Name: Code description, dtype: int64\n",
      "\n",
      "18\n",
      "Disorderly Patron                                           457\n",
      "Passenger Assistance Alarm Activated - No Trouble Found     241\n",
      "Injured or ill Customer (On Train) - Medical Aid Refused    225\n",
      "Injured or ill Customer (On Train) - Transported            170\n",
      "No Operator Immediately Available                           154\n",
      "Name: Code description, dtype: int64\n",
      "\n",
      "19\n",
      "Disorderly Patron                                           463\n",
      "Passenger Assistance Alarm Activated - No Trouble Found     186\n",
      "Injured or ill Customer (On Train) - Transported            166\n",
      "Injured or ill Customer (On Train) - Medical Aid Refused    163\n",
      "Passenger Other                                             125\n",
      "Name: Code description, dtype: int64\n",
      "\n",
      "20\n",
      "Disorderly Patron                                           468\n",
      "Passenger Assistance Alarm Activated - No Trouble Found     177\n",
      "Injured or ill Customer (On Train) - Medical Aid Refused    148\n",
      "Injured or ill Customer (On Train) - Transported            139\n",
      "Passenger Other                                             130\n",
      "Name: Code description, dtype: int64\n",
      "\n",
      "21\n",
      "Disorderly Patron                                           417\n",
      "Passenger Assistance Alarm Activated - No Trouble Found     174\n",
      "Injured or ill Customer (On Train) - Transported            159\n",
      "Injured or ill Customer (On Train) - Medical Aid Refused    149\n",
      "Passenger Other                                             144\n",
      "Name: Code description, dtype: int64\n",
      "\n",
      "22\n",
      "Disorderly Patron                                           421\n",
      "Injured or ill Customer (On Train) - Medical Aid Refused    165\n",
      "Passenger Assistance Alarm Activated - No Trouble Found     147\n",
      "Injured or ill Customer (On Train) - Transported            136\n",
      "Passenger Other                                             126\n",
      "Name: Code description, dtype: int64\n",
      "\n",
      "23\n",
      "Disorderly Patron                                           370\n",
      "Injured or ill Customer (On Train) - Medical Aid Refused    156\n",
      "Injured or ill Customer (On Train) - Transported            155\n",
      "Unauthorized at Track Level                                 139\n",
      "Passenger Assistance Alarm Activated - No Trouble Found     126\n",
      "Name: Code description, dtype: int64\n",
      "\n"
     ]
    }
   ],
   "source": [
    "# Top 5 Reasons for the recorded delay caused delays by hour\n",
    "for i in range(0, 24):\n",
    "    print(i)\n",
    "    real_delay_reasons = real_delay[real_delay.index.hour == i][\"Code description\"].value_counts(ascending = False)\n",
    "    print(real_delay_reasons[0:5])\n",
    "    print()"
   ]
  },
  {
   "cell_type": "markdown",
   "metadata": {},
   "source": [
    "4. Time"
   ]
  },
  {
   "cell_type": "code",
   "execution_count": 29,
   "metadata": {},
   "outputs": [
    {
     "data": {
      "image/png": "[encoded data removed]",
      "text/plain": [
       "<Figure size 864x432 with 1 Axes>"
      ]
     },
     "metadata": {
      "needs_background": "light"
     },
     "output_type": "display_data"
    }
   ],
   "source": [
    "# Total delay counts by year\n",
    "yearly_delay_time = real_delay.groupby(real_delay.index.year)[\"Min Delay\"].sum()\n",
    "yearly_delay_time.plot(kind = \"bar\", figsize = (12, 6))\n",
    "plt.title(\"Yearly TTC Subway Total Delay Time\", fontsize = 20)\n",
    "plt.xlabel(\"Year\", fontsize = 14)\n",
    "plt.ylabel(\"Total Delay Time (min)\", fontsize = 14)\n",
    "\n",
    "plt.show()"
   ]
  },
  {
   "cell_type": "markdown",
   "metadata": {},
   "source": [
    "More delay events during 2022."
   ]
  },
  {
   "cell_type": "code",
   "execution_count": 30,
   "metadata": {},
   "outputs": [
    {
     "data": {
      "image/png": "[encoded data removed]",
      "text/plain": [
       "<Figure size 1440x576 with 4 Axes>"
      ]
     },
     "metadata": {
      "needs_background": "light"
     },
     "output_type": "display_data"
    }
   ],
   "source": [
    "# Total delay counts by year\n",
    "fig, axs = plt.subplots(1, 4, figsize = (20, 8), sharey= True)\n",
    "subway_lines = [\"YUS\", \"BD\", \"SHP\", \"SRT\"]\n",
    "\n",
    "for i in range(4):\n",
    "    line = real_delay[real_delay[\"Line\"] == subway_lines[i]]    \n",
    "    yearly_delay_time_line = line.groupby(line.index.year)[\"Min Delay\"].sum()\n",
    "    yearly_delay_time_line.plot(ax = axs[i], kind = \"bar\")\n",
    "    axs[i].set_title(f\"TTC Subway Total Delay Time - {subway_lines[i]}\", fontsize = 14)\n",
    "    axs[i].set_xlabel(\"Year\", fontsize = 12)\n",
    "    axs[i].set_ylabel(\"Total Delay Time (min)\", fontsize = 12)\n",
    "\n",
    "plt.subplots_adjust(top=0.5)\n",
    "plt.show()\n"
   ]
  },
  {
   "cell_type": "code",
   "execution_count": 31,
   "metadata": {},
   "outputs": [
    {
     "data": {
      "image/png": "[encoded data removed]",
      "text/plain": [
       "<Figure size 864x432 with 1 Axes>"
      ]
     },
     "metadata": {
      "needs_background": "light"
     },
     "output_type": "display_data"
    }
   ],
   "source": [
    "# Total number of delay by year\n",
    "yearly_delay_count = real_delay.groupby(real_delay.index.year)[\"Min Delay\"].count()\n",
    "yearly_delay_count.plot(kind = \"bar\", figsize = (12, 6))\n",
    "plt.title(\"Yearly TTC Subway Total Delay Count\", fontsize = 20)\n",
    "plt.xlabel(\"Year\", fontsize = 14)\n",
    "plt.ylabel(\"Total Delay Events\", fontsize = 14)\n",
    "\n",
    "plt.show()"
   ]
  },
  {
   "cell_type": "code",
   "execution_count": 32,
   "metadata": {},
   "outputs": [
    {
     "data": {
      "image/png": "[encoded data removed]",
      "text/plain": [
       "<Figure size 1440x576 with 4 Axes>"
      ]
     },
     "metadata": {
      "needs_background": "light"
     },
     "output_type": "display_data"
    }
   ],
   "source": [
    "# Total number of delay by year\n",
    "fig, axs = plt.subplots(1, 4, figsize = (20, 8), sharey= True)\n",
    "subway_lines = [\"YUS\", \"BD\", \"SHP\", \"SRT\"]\n",
    "\n",
    "for i in range(4):\n",
    "    line = real_delay[real_delay[\"Line\"] == subway_lines[i]]    \n",
    "    yearly_delay_count_line = line.groupby(line.index.year)[\"Min Delay\"].count()\n",
    "    yearly_delay_count_line.plot(ax = axs[i], kind = \"bar\")\n",
    "    axs[i].set_title(f\"TTC Subway Total Delay Count - {subway_lines[i]}\", fontsize = 14)\n",
    "    axs[i].set_xlabel(\"Year\", fontsize = 12)\n",
    "    axs[i].set_ylabel(\"Total Delay Events\", fontsize = 12)\n",
    "\n",
    "plt.subplots_adjust(top=0.5)\n",
    "plt.show()\n"
   ]
  },
  {
   "cell_type": "markdown",
   "metadata": {},
   "source": [
    "Overall, the number of delays events are the same for Bloor-Danford line, Sheppard line and Scarbough Rail Transit. However, Line 1 had significant increasing in delay time and the number of the delay events since 2018. The potential cause is the ATC project."
   ]
  },
  {
   "cell_type": "code",
   "execution_count": 33,
   "metadata": {},
   "outputs": [
    {
     "data": {
      "text/plain": [
       "array(['MUO', 'MUSAN', 'SUDP', 'MUI', 'TUNOA', 'ERTC', 'EUDO', 'EUBK',\n",
       "       'ERPR', 'PUSO', 'SUUT', 'TUO', 'MUPR1', 'MUPAA', 'PUSNT', 'MRWEA',\n",
       "       'MUNOA', 'PUSTS', 'EUTRD', 'PUSSW', 'TUSUP', 'PRSA', 'MUCL',\n",
       "       'TUNIP', 'PRSO', 'MUIR', 'SUO', 'MRTO', 'MUPLB', 'EUNT', 'TUOS',\n",
       "       'MRO', 'TRNOA', 'SUSP', 'PUTWZ', 'EUTL', 'PUTIS', 'MUPLA', 'MUDD',\n",
       "       'MUWR', 'MUD', 'PUSIS', 'ERDB', 'EUBO', 'MUSC', 'PUSRA', 'MUTO',\n",
       "       'PUTR', 'TUS', 'EUCD', 'PUSCR', 'SUAP', 'ERDO', 'TUMVS', 'MUFM',\n",
       "       'EUPI', 'PUSI', 'EUO', 'ERLV', 'SRDP', 'TUSC', 'TRTC', 'PUTDN',\n",
       "       'EUOE', 'EUVE', 'TUCC', 'MUTD', 'EUTR', 'EUME', 'PUTIJ', 'EUYRD',\n",
       "       'MUIS', 'PRW', 'EUSC', 'SUCOL', 'ERTL', 'PUSTP', 'EUAL', 'PUOPO',\n",
       "       'MRNOA', 'PUSCA', 'MRDD', 'SUAE', 'PUTSC', 'SUEAS', 'EUCA', 'EUAC',\n",
       "       'MUFS', 'TUKEY', 'SUBT', 'ERNT', 'SUPOL', 'MUIRS', 'MUWEA',\n",
       "       'EUNEA', 'ERAC', 'TUDOE', 'MRPLB', 'PUSTC', 'SRO', 'TRNIP', 'PUTO',\n",
       "       'SUROB', 'EUVA', 'ERO', 'PUCSC', 'MUIE', 'SRAP', 'PUTOE', 'SUSA',\n",
       "       'EUTM', 'MRUI', 'EUCO', 'ERCO', 'EUECD', 'ERTR', 'ERBO', 'TRO',\n",
       "       'PUTTC', 'PUTD', 'SUG', 'PRS', 'TUST', 'MUESA', 'PUTTP', 'PRSW',\n",
       "       'SRCOL', 'PUSZC', 'SRAE', 'MRPAA', 'PRO', 'PUEO', 'MRESA', 'SREAS',\n",
       "       'PUMST', 'MRD', 'EULV', 'PUEWZ', 'TUOPO', 'ERWA', 'MRSAN', 'MUPF',\n",
       "       'PUTSM', 'PUMO', 'ERTB', 'MRUIR', 'TUML', 'ERNEA', 'PUSAC', 'MRCL',\n",
       "       'ERRA', 'EUHV', 'MUEC', 'TRSET', 'PUTNT', 'MRIE', 'ERCD', 'PUTS',\n",
       "       'PUCSS', 'ERHV', 'PUMEL', 'ERVE', 'PRTST', 'PUSWZ', 'ERME',\n",
       "       'EUOPO', 'SRBT', 'PUDCS', 'SRUT', 'ERWS', 'PUSIO', 'ERLT', 'MUPLC',\n",
       "       'MRPLA', 'EULT', 'PUEME', 'PRSP', 'TUSET', 'PRSL', 'MUGD', 'SUPD',\n",
       "       'MRPR1', 'EUTAC', 'MRSTM', 'PUTCD', 'MRPLC', 'MRFS', 'EUCH',\n",
       "       'ERTO', 'TUTD', 'PREL', 'TRST', 'TRDOE', 'PUSEA'], dtype=object)"
      ]
     },
     "execution_count": 33,
     "metadata": {},
     "output_type": "execute_result"
    }
   ],
   "source": [
    "no_ATC = real_delay[~real_delay[\"Code\"].str.contains(\"ATC\")]\n",
    "no_ATC[\"Code\"].unique()"
   ]
  },
  {
   "cell_type": "code",
   "execution_count": 34,
   "metadata": {},
   "outputs": [
    {
     "data": {
      "image/png": "[encoded data removed]",
      "text/plain": [
       "<Figure size 1440x576 with 4 Axes>"
      ]
     },
     "metadata": {
      "needs_background": "light"
     },
     "output_type": "display_data"
    }
   ],
   "source": [
    "# Total delay counts by year\n",
    "fig, axs = plt.subplots(1, 4, figsize = (20, 8), sharey= True)\n",
    "subway_lines = [\"YUS\", \"BD\", \"SHP\", \"SRT\"]\n",
    "\n",
    "for i in range(4):\n",
    "    line = no_ATC[no_ATC[\"Line\"] == subway_lines[i]]    \n",
    "    yearly_delay_time_line_no_ATC = line.groupby(line.index.year)[\"Min Delay\"].sum()\n",
    "    yearly_delay_time_line_no_ATC.plot(ax = axs[i], kind = \"bar\")\n",
    "    axs[i].set_title(f\"TTC Subway Total Delay Time - {subway_lines[i]}\", fontsize = 14)\n",
    "    axs[i].set_xlabel(\"Year\", fontsize = 12)\n",
    "    axs[i].set_ylabel(\"Total Delay Time (min)\", fontsize = 12)\n",
    "\n",
    "plt.subplots_adjust(top=0.5)\n",
    "plt.show()\n"
   ]
  },
  {
   "cell_type": "markdown",
   "metadata": {},
   "source": [
    "How about delay time caused by no operator immediately available?"
   ]
  },
  {
   "cell_type": "code",
   "execution_count": 35,
   "metadata": {},
   "outputs": [
    {
     "data": {
      "image/png": "[encoded data removed]",
      "text/plain": [
       "<Figure size 1440x576 with 3 Axes>"
      ]
     },
     "metadata": {
      "needs_background": "light"
     },
     "output_type": "display_data"
    }
   ],
   "source": [
    "# Total delay minutes due to no operator immediate available\n",
    "fig, axs = plt.subplots(1, 3, figsize = (20, 8), sharey= True)\n",
    "subway_lines = [\"YUS\", \"BD\", \"SHP\", \"SRT\"]\n",
    "\n",
    "for i in range(3):\n",
    "    line = real_delay[(real_delay[\"Line\"] == subway_lines[i]) & ((real_delay[\"Code\"] == \"MUESA\") | (real_delay[\"Code\"] == \"MUNOA\") | (real_delay[\"Code\"] == \"TUNOA\"))]    \n",
    "    yearly_delay_time_line_no_operator = line.groupby(line.index.year)[\"Min Delay\"].sum()\n",
    "    yearly_delay_time_line_no_operator.plot(ax = axs[i], kind = \"bar\")\n",
    "    axs[i].set_title(f\"TTC Subway Total Delay Time - {subway_lines[i]}\", fontsize = 14)\n",
    "    axs[i].set_xlabel(\"Year\", fontsize = 12)\n",
    "    axs[i].set_ylabel(\"Total Delay Time (min)\", fontsize = 12)\n",
    "\n",
    "plt.subplots_adjust(top=0.5)\n",
    "plt.show()\n"
   ]
  },
  {
   "cell_type": "code",
   "execution_count": 36,
   "metadata": {},
   "outputs": [
    {
     "data": {
      "image/png": "[encoded data removed]",
      "text/plain": [
       "<Figure size 1440x576 with 4 Axes>"
      ]
     },
     "metadata": {
      "needs_background": "light"
     },
     "output_type": "display_data"
    }
   ],
   "source": [
    "# Total delay minutes due to disorderly patrons\n",
    "fig, axs = plt.subplots(1, 4, figsize = (20, 8), sharey= True)\n",
    "subway_lines = [\"YUS\", \"BD\", \"SHP\", \"SRT\"]\n",
    "\n",
    "for i in range(4):\n",
    "    line = real_delay[(real_delay[\"Line\"] == subway_lines[i]) & ((real_delay[\"Code\"] == \"SUDP\") | (real_delay[\"Code\"] == \"SRDP\"))]    \n",
    "    yearly_delay_time_line_patrons = line.groupby(line.index.year)[\"Min Delay\"].sum()\n",
    "    yearly_delay_time_line_patrons.plot(ax = axs[i], kind = \"bar\")\n",
    "    axs[i].set_title(f\"TTC Subway Total Delay Time - {subway_lines[i]}\", fontsize = 14)\n",
    "    axs[i].set_xlabel(\"Year\", fontsize = 12)\n",
    "    axs[i].set_ylabel(\"Total Delay Time (min)\", fontsize = 12)\n",
    "\n",
    "plt.subplots_adjust(top=0.5)\n",
    "plt.show()\n"
   ]
  },
  {
   "cell_type": "code",
   "execution_count": 37,
   "metadata": {},
   "outputs": [
    {
     "data": {
      "image/png": "[encoded data removed]",
      "text/plain": [
       "<Figure size 1440x576 with 4 Axes>"
      ]
     },
     "metadata": {
      "needs_background": "light"
     },
     "output_type": "display_data"
    }
   ],
   "source": [
    "# Total delay minutes due to OPTO (COMMS) Train Door Monitoring or door problem - faulty equipment\n",
    "fig, axs = plt.subplots(1, 4, figsize = (20, 8), sharey= True)\n",
    "subway_lines = [\"YUS\", \"BD\", \"SHP\", \"SRT\"]\n",
    "\n",
    "for i in range(4):\n",
    "    line = real_delay[(real_delay[\"Line\"] == subway_lines[i]) & real_delay[\"Code\"].isin([\"PUOPO\", \"EUDO\", \"ERDO\"])]    \n",
    "    yearly_delay_time_line_faulty_door = line.groupby(line.index.year)[\"Min Delay\"].count()\n",
    "    yearly_delay_time_line_faulty_door.plot(ax = axs[i], kind = \"bar\")\n",
    "    axs[i].set_title(f\"TTC Subway Total Delay Time - {subway_lines[i]}\", fontsize = 14)\n",
    "    axs[i].set_xlabel(\"Year\", fontsize = 12)\n",
    "    axs[i].set_ylabel(\"Total Delay Events\", fontsize = 12)\n",
    "\n",
    "plt.subplots_adjust(top=0.5)\n",
    "plt.show()\n"
   ]
  },
  {
   "cell_type": "code",
   "execution_count": 38,
   "metadata": {},
   "outputs": [
    {
     "data": {
      "image/png": "[encoded data removed]",
      "text/plain": [
       "<Figure size 1440x576 with 4 Axes>"
      ]
     },
     "metadata": {
      "needs_background": "light"
     },
     "output_type": "display_data"
    }
   ],
   "source": [
    "# Total delay minutes due to Door Problems - Passenger Related or Door Problems - Debris Related\n",
    "fig, axs = plt.subplots(1, 4, figsize = (20, 8), sharey= True)\n",
    "subway_lines = [\"YUS\", \"BD\", \"SHP\", \"SRT\"]\n",
    "\n",
    "for i in range(4):\n",
    "    line = real_delay[(real_delay[\"Line\"] == subway_lines[i]) & real_delay[\"Code\"].isin([\"MUD\", \"MUDD\", \"MRD\", \"MRDD\"])]    \n",
    "    yearly_delay_time_line_obstacle_door = line.groupby(line.index.year)[\"Min Delay\"].count()\n",
    "    yearly_delay_time_line_obstacle_door.plot(ax = axs[i], kind = \"bar\")\n",
    "    axs[i].set_title(f\"TTC Subway Total Delay Time - {subway_lines[i]}\", fontsize = 14)\n",
    "    axs[i].set_xlabel(\"Year\", fontsize = 12)\n",
    "    axs[i].set_ylabel(\"Total Delay Events\", fontsize = 12)\n",
    "\n",
    "plt.subplots_adjust(top=0.5)\n",
    "plt.show()\n"
   ]
  },
  {
   "cell_type": "code",
   "execution_count": 39,
   "metadata": {},
   "outputs": [
    {
     "data": {
      "image/png": "[encoded data removed]",
      "text/plain": [
       "<Figure size 864x432 with 1 Axes>"
      ]
     },
     "metadata": {
      "needs_background": "light"
     },
     "output_type": "display_data"
    }
   ],
   "source": [
    "# Total delay time by months\n",
    "monthly_delay_time = real_delay.groupby(real_delay.index.month)[\"Min Delay\"].sum()\n",
    "monthly_delay_time.plot(kind = \"bar\", figsize = (12, 6))\n",
    "plt.title(\"Monthly TTC Subway Total Delay Time\", fontsize = 20)\n",
    "plt.xlabel(\"Month\", fontsize = 14)\n",
    "plt.ylabel(\"Total Delay Time (min)\", fontsize = 14)\n",
    "plt.xticks(ticks = np.arange(12), labels = [\"January\",\"February\",\"March\",\"April\",\"May\",\"June\",\"July\", \"August\", \"September\", \"October\", \"November\", \"December\"])\n",
    "\n",
    "plt.show()"
   ]
  },
  {
   "cell_type": "code",
   "execution_count": 40,
   "metadata": {},
   "outputs": [
    {
     "data": {
      "image/png": "[encoded data removed]",
      "text/plain": [
       "<Figure size 1440x576 with 4 Axes>"
      ]
     },
     "metadata": {
      "needs_background": "light"
     },
     "output_type": "display_data"
    }
   ],
   "source": [
    "# Total number of delay by month\n",
    "fig, axs = plt.subplots(1, 4, figsize = (20, 8), sharey= True)\n",
    "subway_lines = [\"YUS\", \"BD\", \"SHP\", \"SRT\"]\n",
    "\n",
    "for i in range(4):\n",
    "    line = real_delay[real_delay[\"Line\"] == subway_lines[i]]    \n",
    "    monthly_delay_time_line = line.groupby(line.index.month)[\"Min Delay\"].sum()\n",
    "    monthly_delay_time_line.plot(ax = axs[i], kind = \"bar\")\n",
    "    axs[i].set_title(f\"TTC Subway Total Delay Time - {subway_lines[i]}\", fontsize = 14)\n",
    "    axs[i].set_xlabel(\"Month\", fontsize = 12)\n",
    "    axs[i].set_ylabel(\"Total Delay Events\", fontsize = 12)\n",
    "    axs[i].set_xticks(ticks = np.arange(12), labels = [\"January\",\"February\",\"March\",\"April\",\"May\",\"June\",\"July\", \"August\", \"September\", \"October\", \"November\", \"December\"])\n",
    "\n",
    "plt.subplots_adjust(top=0.5)\n",
    "plt.show()\n"
   ]
  },
  {
   "cell_type": "code",
   "execution_count": 41,
   "metadata": {},
   "outputs": [
    {
     "data": {
      "image/png": "[encoded data removed]",
      "text/plain": [
       "<Figure size 864x432 with 1 Axes>"
      ]
     },
     "metadata": {
      "needs_background": "light"
     },
     "output_type": "display_data"
    }
   ],
   "source": [
    "## Total number of delay by months\n",
    "monthly_delay_count = real_delay.groupby(real_delay.index.month)[\"Min Delay\"].count()\n",
    "monthly_delay_count.plot(kind = \"bar\", figsize = (12, 6))\n",
    "plt.title(\"Monthly TTC Subway Total Delay Time\", fontsize = 20)\n",
    "plt.xlabel(\"Month\", fontsize = 14)\n",
    "plt.ylabel(\"Total Delay Time (min)\", fontsize = 14)\n",
    "plt.xticks(ticks = np.arange(12), labels = [\"January\",\"February\",\"March\",\"April\",\"May\",\"June\",\"July\", \"August\", \"September\", \"October\", \"November\", \"December\"])\n",
    "\n",
    "plt.show()"
   ]
  },
  {
   "cell_type": "code",
   "execution_count": 42,
   "metadata": {},
   "outputs": [
    {
     "data": {
      "image/png": "[encoded data removed]",
      "text/plain": [
       "<Figure size 1440x576 with 4 Axes>"
      ]
     },
     "metadata": {
      "needs_background": "light"
     },
     "output_type": "display_data"
    }
   ],
   "source": [
    "# Total number of delay by month\n",
    "fig, axs = plt.subplots(1, 4, figsize = (20, 8), sharey= True)\n",
    "subway_lines = [\"YUS\", \"BD\", \"SHP\", \"SRT\"]\n",
    "\n",
    "for i in range(4):\n",
    "    line = real_delay[real_delay[\"Line\"] == subway_lines[i]]    \n",
    "    monthly_delay_count_line = line.groupby(line.index.month)[\"Min Delay\"].count()\n",
    "    monthly_delay_count_line.plot(ax = axs[i], kind = \"bar\")\n",
    "    axs[i].set_title(f\"TTC Subway Total Delay Count - {subway_lines[i]}\", fontsize = 14)\n",
    "    axs[i].set_xlabel(\"Month\", fontsize = 12)\n",
    "    axs[i].set_ylabel(\"Total Delay Events\", fontsize = 12)\n",
    "    axs[i].set_xticks(ticks = np.arange(12), labels = [\"January\",\"February\",\"March\",\"April\",\"May\",\"June\",\"July\", \"August\", \"September\", \"October\", \"November\", \"December\"])\n",
    "\n",
    "plt.subplots_adjust(top=0.5)\n",
    "plt.show()\n"
   ]
  },
  {
   "cell_type": "code",
   "execution_count": 43,
   "metadata": {},
   "outputs": [
    {
     "data": {
      "image/png": "[encoded data removed]",
      "text/plain": [
       "<Figure size 864x432 with 1 Axes>"
      ]
     },
     "metadata": {
      "needs_background": "light"
     },
     "output_type": "display_data"
    }
   ],
   "source": [
    "# Total delay time by hours\n",
    "hourly_delay_time = real_delay.groupby(real_delay.index.hour)[\"Min Delay\"].sum()\n",
    "hourly_delay_time.plot(kind = \"bar\", figsize = (12, 6))\n",
    "plt.title(\"Hourly TTC Subway Total Delay Time\", fontsize = 20)\n",
    "plt.xlabel(\"Hour\", fontsize = 14)\n",
    "plt.ylabel(\"Total Delay Time (min)\", fontsize = 14)\n",
    "\n",
    "\n",
    "plt.show()"
   ]
  },
  {
   "cell_type": "code",
   "execution_count": 44,
   "metadata": {},
   "outputs": [
    {
     "data": {
      "image/png": "[encoded data removed]",
      "text/plain": [
       "<Figure size 1440x576 with 4 Axes>"
      ]
     },
     "metadata": {
      "needs_background": "light"
     },
     "output_type": "display_data"
    }
   ],
   "source": [
    "# Total number of delay by hour\n",
    "fig, axs = plt.subplots(1, 4, figsize = (20, 8), sharey= True)\n",
    "subway_lines = [\"YUS\", \"BD\", \"SHP\", \"SRT\"]\n",
    "\n",
    "for i in range(4):\n",
    "    line = real_delay[real_delay[\"Line\"] == subway_lines[i]]    \n",
    "    hourly_delay_time_line = line.groupby(line.index.hour)[\"Min Delay\"].count()\n",
    "    hourly_delay_time_line.plot(ax = axs[i], kind = \"bar\")\n",
    "    axs[i].set_title(f\"TTC Subway Total Delay Time - {subway_lines[i]}\", fontsize = 14)\n",
    "    axs[i].set_xlabel(\"Hour\", fontsize = 12)\n",
    "    axs[i].set_ylabel(\"Total Delay Time (min)\", fontsize = 12)\n",
    "\n",
    "plt.subplots_adjust(top=0.5)\n",
    "plt.show()\n"
   ]
  },
  {
   "cell_type": "code",
   "execution_count": 45,
   "metadata": {},
   "outputs": [
    {
     "data": {
      "image/png": "[encoded data removed]",
      "text/plain": [
       "<Figure size 864x432 with 1 Axes>"
      ]
     },
     "metadata": {
      "needs_background": "light"
     },
     "output_type": "display_data"
    }
   ],
   "source": [
    "## Total number of delay by hours\n",
    "hourly_delay_count = real_delay.groupby(real_delay.index.hour)[\"Min Delay\"].count()\n",
    "hourly_delay_count.plot(kind = \"bar\", figsize = (12, 6))\n",
    "plt.title(\"Hourly TTC Subway Total Delay Count\", fontsize = 20)\n",
    "plt.xlabel(\"Hour\", fontsize = 14)\n",
    "plt.ylabel(\"Total Delay Events\", fontsize = 14)\n",
    "\n",
    "plt.show()"
   ]
  },
  {
   "cell_type": "code",
   "execution_count": 46,
   "metadata": {},
   "outputs": [
    {
     "data": {
      "image/png": "[encoded data removed]",
      "text/plain": [
       "<Figure size 1440x576 with 4 Axes>"
      ]
     },
     "metadata": {
      "needs_background": "light"
     },
     "output_type": "display_data"
    }
   ],
   "source": [
    "# Total number of delay by month\n",
    "fig, axs = plt.subplots(1, 4, figsize = (20, 8), sharey= True)\n",
    "subway_lines = [\"YUS\", \"BD\", \"SHP\", \"SRT\"]\n",
    "\n",
    "for i in range(4):\n",
    "    line = real_delay[real_delay[\"Line\"] == subway_lines[i]]    \n",
    "    hourly_delay_count_line = line.groupby(line.index.hour)[\"Min Delay\"].count()\n",
    "    hourly_delay_count_line.plot(ax = axs[i], kind = \"bar\")\n",
    "    axs[i].set_title(f\"TTC Subway Total Delay Count - {subway_lines[i]}\", fontsize = 14)\n",
    "    axs[i].set_xlabel(\"Hour\", fontsize = 12)\n",
    "    axs[i].set_ylabel(\"Total Delay Events\", fontsize = 12)\n",
    "\n",
    "plt.subplots_adjust(top=0.5)\n",
    "plt.show()\n"
   ]
  },
  {
   "cell_type": "code",
   "execution_count": 47,
   "metadata": {},
   "outputs": [
    {
     "data": {
      "image/png": "[encoded data removed]",
      "text/plain": [
       "<Figure size 864x432 with 1 Axes>"
      ]
     },
     "metadata": {
      "needs_background": "light"
     },
     "output_type": "display_data"
    }
   ],
   "source": [
    "## Total number of delay by hours\n",
    "daily_delay_count = real_delay.groupby(real_delay.index.day)[\"Min Delay\"].count()\n",
    "daily_delay_count.plot(kind = \"bar\", figsize = (12, 6))\n",
    "plt.title(\"Daily TTC Subway Total Delay Count\", fontsize = 20)\n",
    "plt.xlabel(\"Day\", fontsize = 14)\n",
    "plt.ylabel(\"Total Delay Events\", fontsize = 14)\n",
    "\n",
    "plt.show()"
   ]
  },
  {
   "cell_type": "markdown",
   "metadata": {},
   "source": [
    "Every day seems have the same amount of delays."
   ]
  },
  {
   "cell_type": "code",
   "execution_count": 48,
   "metadata": {},
   "outputs": [
    {
     "data": {
      "image/png": "[encoded data removed]",
      "text/plain": [
       "<Figure size 864x432 with 1 Axes>"
      ]
     },
     "metadata": {
      "needs_background": "light"
     },
     "output_type": "display_data"
    }
   ],
   "source": [
    "## Total number of delay by hours\n",
    "weekdays_delay_count = real_delay.groupby(real_delay.index.dayofweek)[\"Min Delay\"].count()\n",
    "weekdays_delay_count.plot(kind = \"bar\", figsize = (12, 6))\n",
    "plt.title(\"Daily TTC Subway Total Delay Count\", fontsize = 20)\n",
    "plt.xlabel(\"Day of the Week\", fontsize = 14)\n",
    "plt.ylabel(\"Total Delay Events\", fontsize = 14)\n",
    "plt.xticks(ticks = np.arange(7), labels = [\"Monday\",\"Tuesday\",\"Wednesday\",\"Thursday\",\"Friday\",\"Saturday\",\"Sunday\"])\n",
    "\n",
    "plt.show()"
   ]
  },
  {
   "cell_type": "markdown",
   "metadata": {},
   "source": [
    "5. Top five reasons for short time and long time delays"
   ]
  },
  {
   "cell_type": "code",
   "execution_count": 49,
   "metadata": {},
   "outputs": [
    {
     "data": {
      "text/plain": [
       "Disorderly Patron                                           5941\n",
       "Injured or ill Customer (On Train) - Medical Aid Refused    3352\n",
       "Passenger Assistance Alarm Activated - No Trouble Found     3183\n",
       "Door Problems - Faulty Equipment                            2529\n",
       "ATC Project                                                 2083\n",
       "Name: Code description, dtype: int64"
      ]
     },
     "execution_count": 49,
     "metadata": {},
     "output_type": "execute_result"
    }
   ],
   "source": [
    "# Top delay reasons less than 10 minutes in terms of total delay frequency\n",
    "short_delay_reason = real_delay[real_delay[\"Min Delay\"] <= 10][\"Code description\"].value_counts()\n",
    "short_delay_reason.head(5)"
   ]
  },
  {
   "cell_type": "code",
   "execution_count": 50,
   "metadata": {},
   "outputs": [
    {
     "data": {
      "text/plain": [
       "Code description\n",
       "Disorderly Patron                                           28477\n",
       "Injured or ill Customer (On Train) - Medical Aid Refused    15777\n",
       "Door Problems - Faulty Equipment                            12478\n",
       "Passenger Assistance Alarm Activated - No Trouble Found     11716\n",
       "Injured or ill Customer (On Train) - Transported            11137\n",
       "Name: Min Delay, dtype: int64"
      ]
     },
     "execution_count": 50,
     "metadata": {},
     "output_type": "execute_result"
    }
   ],
   "source": [
    "# Top delay reasons less than 10 minutes in terms of total delay time\n",
    "short_delay_reason_time = real_delay[real_delay[\"Min Delay\"] <= 10].groupby(\"Code description\")[\"Min Delay\"].sum().sort_values(ascending = False)\n",
    "short_delay_reason_time.head(5)"
   ]
  },
  {
   "cell_type": "code",
   "execution_count": 51,
   "metadata": {},
   "outputs": [
    {
     "data": {
      "text/plain": [
       "['Door Problems - Faulty Equipment',\n",
       " 'ATC Project',\n",
       " 'Disorderly Patron',\n",
       " 'Passenger Assistance Alarm Activated - No Trouble Found',\n",
       " 'Injured or ill Customer (On Train) - Medical Aid Refused',\n",
       " 'Injured or ill Customer (On Train) - Transported']"
      ]
     },
     "execution_count": 51,
     "metadata": {},
     "output_type": "execute_result"
    }
   ],
   "source": [
    "# Top delay reasons for less than 10 minutes\n",
    "top_short_delay_reasons = list(set(list(short_delay_reason[0:5].index) + list(short_delay_reason_time[0:5].index)))\n",
    "top_short_delay_reasons"
   ]
  },
  {
   "cell_type": "code",
   "execution_count": 52,
   "metadata": {},
   "outputs": [
    {
     "data": {
      "text/html": [
       "<div>\n",
       "<style scoped>\n",
       "    .dataframe tbody tr th:only-of-type {\n",
       "        vertical-align: middle;\n",
       "    }\n",
       "\n",
       "    .dataframe tbody tr th {\n",
       "        vertical-align: top;\n",
       "    }\n",
       "\n",
       "    .dataframe thead th {\n",
       "        text-align: right;\n",
       "    }\n",
       "</style>\n",
       "<table border=\"1\" class=\"dataframe\">\n",
       "  <thead>\n",
       "    <tr style=\"text-align: right;\">\n",
       "      <th></th>\n",
       "      <th>Day</th>\n",
       "      <th>Station</th>\n",
       "      <th>Code</th>\n",
       "      <th>Min Delay</th>\n",
       "      <th>Min Gap</th>\n",
       "      <th>Bound</th>\n",
       "      <th>Line</th>\n",
       "      <th>Vehicle</th>\n",
       "      <th>Code description</th>\n",
       "      <th>time_interval</th>\n",
       "    </tr>\n",
       "    <tr>\n",
       "      <th>Datetime</th>\n",
       "      <th></th>\n",
       "      <th></th>\n",
       "      <th></th>\n",
       "      <th></th>\n",
       "      <th></th>\n",
       "      <th></th>\n",
       "      <th></th>\n",
       "      <th></th>\n",
       "      <th></th>\n",
       "      <th></th>\n",
       "    </tr>\n",
       "  </thead>\n",
       "  <tbody>\n",
       "    <tr>\n",
       "      <th>2018-01-01 00:29:00</th>\n",
       "      <td>Monday</td>\n",
       "      <td>SHEPPARD WEST STATION</td>\n",
       "      <td>MUATC</td>\n",
       "      <td>10</td>\n",
       "      <td>15</td>\n",
       "      <td>N</td>\n",
       "      <td>YUS</td>\n",
       "      <td>5986</td>\n",
       "      <td>ATC Project</td>\n",
       "      <td>00:00 - 01:00</td>\n",
       "    </tr>\n",
       "    <tr>\n",
       "      <th>2018-01-01 02:42:00</th>\n",
       "      <td>Monday</td>\n",
       "      <td>COLLEGE STATION</td>\n",
       "      <td>SUDP</td>\n",
       "      <td>7</td>\n",
       "      <td>12</td>\n",
       "      <td>N</td>\n",
       "      <td>YUS</td>\n",
       "      <td>5696</td>\n",
       "      <td>Disorderly Patron</td>\n",
       "      <td>02:00 - 03:00</td>\n",
       "    </tr>\n",
       "    <tr>\n",
       "      <th>2018-01-01 03:06:00</th>\n",
       "      <td>Monday</td>\n",
       "      <td>WARDEN STATION</td>\n",
       "      <td>MUI</td>\n",
       "      <td>3</td>\n",
       "      <td>7</td>\n",
       "      <td>E</td>\n",
       "      <td>BD</td>\n",
       "      <td>5257</td>\n",
       "      <td>Injured or ill Customer (On Train) - Transported</td>\n",
       "      <td>03:00 - 04:00</td>\n",
       "    </tr>\n",
       "    <tr>\n",
       "      <th>2018-01-01 08:41:00</th>\n",
       "      <td>Monday</td>\n",
       "      <td>VICTORIA PARK STATION</td>\n",
       "      <td>EUDO</td>\n",
       "      <td>6</td>\n",
       "      <td>10</td>\n",
       "      <td>W</td>\n",
       "      <td>BD</td>\n",
       "      <td>5030</td>\n",
       "      <td>Door Problems - Faulty Equipment</td>\n",
       "      <td>08:00 - 09:00</td>\n",
       "    </tr>\n",
       "    <tr>\n",
       "      <th>2018-01-01 15:36:00</th>\n",
       "      <td>Monday</td>\n",
       "      <td>SHERBOURNE STATION</td>\n",
       "      <td>SUDP</td>\n",
       "      <td>5</td>\n",
       "      <td>10</td>\n",
       "      <td>E</td>\n",
       "      <td>BD</td>\n",
       "      <td>5269</td>\n",
       "      <td>Disorderly Patron</td>\n",
       "      <td>15:00 - 16:00</td>\n",
       "    </tr>\n",
       "    <tr>\n",
       "      <th>...</th>\n",
       "      <td>...</td>\n",
       "      <td>...</td>\n",
       "      <td>...</td>\n",
       "      <td>...</td>\n",
       "      <td>...</td>\n",
       "      <td>...</td>\n",
       "      <td>...</td>\n",
       "      <td>...</td>\n",
       "      <td>...</td>\n",
       "      <td>...</td>\n",
       "    </tr>\n",
       "    <tr>\n",
       "      <th>2017-12-31 14:57:00</th>\n",
       "      <td>Sunday</td>\n",
       "      <td>EGLINTON STATION</td>\n",
       "      <td>SUDP</td>\n",
       "      <td>3</td>\n",
       "      <td>7</td>\n",
       "      <td>N</td>\n",
       "      <td>YUS</td>\n",
       "      <td>5931</td>\n",
       "      <td>Disorderly Patron</td>\n",
       "      <td>14:00 - 15:00</td>\n",
       "    </tr>\n",
       "    <tr>\n",
       "      <th>2017-12-31 20:46:00</th>\n",
       "      <td>Sunday</td>\n",
       "      <td>DAVISVILLE STATION</td>\n",
       "      <td>SUDP</td>\n",
       "      <td>9</td>\n",
       "      <td>14</td>\n",
       "      <td>N</td>\n",
       "      <td>YUS</td>\n",
       "      <td>5446</td>\n",
       "      <td>Disorderly Patron</td>\n",
       "      <td>20:00 - 21:00</td>\n",
       "    </tr>\n",
       "    <tr>\n",
       "      <th>2017-12-31 21:52:00</th>\n",
       "      <td>Sunday</td>\n",
       "      <td>YORK MILLS STATION</td>\n",
       "      <td>SUDP</td>\n",
       "      <td>3</td>\n",
       "      <td>8</td>\n",
       "      <td>N</td>\n",
       "      <td>YUS</td>\n",
       "      <td>5851</td>\n",
       "      <td>Disorderly Patron</td>\n",
       "      <td>21:00 - 22:00</td>\n",
       "    </tr>\n",
       "    <tr>\n",
       "      <th>2017-12-31 22:46:00</th>\n",
       "      <td>Sunday</td>\n",
       "      <td>BROADVIEW STATION</td>\n",
       "      <td>SUDP</td>\n",
       "      <td>4</td>\n",
       "      <td>8</td>\n",
       "      <td>E</td>\n",
       "      <td>BD</td>\n",
       "      <td>5261</td>\n",
       "      <td>Disorderly Patron</td>\n",
       "      <td>22:00 - 23:00</td>\n",
       "    </tr>\n",
       "    <tr>\n",
       "      <th>2017-12-31 23:06:00</th>\n",
       "      <td>Sunday</td>\n",
       "      <td>WARDEN STATION</td>\n",
       "      <td>EUDO</td>\n",
       "      <td>4</td>\n",
       "      <td>8</td>\n",
       "      <td>E</td>\n",
       "      <td>BD</td>\n",
       "      <td>5330</td>\n",
       "      <td>Door Problems - Faulty Equipment</td>\n",
       "      <td>23:00 - 00:00</td>\n",
       "    </tr>\n",
       "  </tbody>\n",
       "</table>\n",
       "<p>21463 rows × 10 columns</p>\n",
       "</div>"
      ],
      "text/plain": [
       "                        Day                Station   Code  Min Delay  Min Gap  \\\n",
       "Datetime                                                                        \n",
       "2018-01-01 00:29:00  Monday  SHEPPARD WEST STATION  MUATC         10       15   \n",
       "2018-01-01 02:42:00  Monday        COLLEGE STATION   SUDP          7       12   \n",
       "2018-01-01 03:06:00  Monday         WARDEN STATION    MUI          3        7   \n",
       "2018-01-01 08:41:00  Monday  VICTORIA PARK STATION   EUDO          6       10   \n",
       "2018-01-01 15:36:00  Monday     SHERBOURNE STATION   SUDP          5       10   \n",
       "...                     ...                    ...    ...        ...      ...   \n",
       "2017-12-31 14:57:00  Sunday       EGLINTON STATION   SUDP          3        7   \n",
       "2017-12-31 20:46:00  Sunday     DAVISVILLE STATION   SUDP          9       14   \n",
       "2017-12-31 21:52:00  Sunday     YORK MILLS STATION   SUDP          3        8   \n",
       "2017-12-31 22:46:00  Sunday      BROADVIEW STATION   SUDP          4        8   \n",
       "2017-12-31 23:06:00  Sunday         WARDEN STATION   EUDO          4        8   \n",
       "\n",
       "                    Bound Line  Vehicle  \\\n",
       "Datetime                                  \n",
       "2018-01-01 00:29:00     N  YUS     5986   \n",
       "2018-01-01 02:42:00     N  YUS     5696   \n",
       "2018-01-01 03:06:00     E   BD     5257   \n",
       "2018-01-01 08:41:00     W   BD     5030   \n",
       "2018-01-01 15:36:00     E   BD     5269   \n",
       "...                   ...  ...      ...   \n",
       "2017-12-31 14:57:00     N  YUS     5931   \n",
       "2017-12-31 20:46:00     N  YUS     5446   \n",
       "2017-12-31 21:52:00     N  YUS     5851   \n",
       "2017-12-31 22:46:00     E   BD     5261   \n",
       "2017-12-31 23:06:00     E   BD     5330   \n",
       "\n",
       "                                                     Code description  \\\n",
       "Datetime                                                                \n",
       "2018-01-01 00:29:00                                       ATC Project   \n",
       "2018-01-01 02:42:00                                 Disorderly Patron   \n",
       "2018-01-01 03:06:00  Injured or ill Customer (On Train) - Transported   \n",
       "2018-01-01 08:41:00                  Door Problems - Faulty Equipment   \n",
       "2018-01-01 15:36:00                                 Disorderly Patron   \n",
       "...                                                               ...   \n",
       "2017-12-31 14:57:00                                 Disorderly Patron   \n",
       "2017-12-31 20:46:00                                 Disorderly Patron   \n",
       "2017-12-31 21:52:00                                 Disorderly Patron   \n",
       "2017-12-31 22:46:00                                 Disorderly Patron   \n",
       "2017-12-31 23:06:00                  Door Problems - Faulty Equipment   \n",
       "\n",
       "                     time_interval  \n",
       "Datetime                            \n",
       "2018-01-01 00:29:00  00:00 - 01:00  \n",
       "2018-01-01 02:42:00  02:00 - 03:00  \n",
       "2018-01-01 03:06:00  03:00 - 04:00  \n",
       "2018-01-01 08:41:00  08:00 - 09:00  \n",
       "2018-01-01 15:36:00  15:00 - 16:00  \n",
       "...                            ...  \n",
       "2017-12-31 14:57:00  14:00 - 15:00  \n",
       "2017-12-31 20:46:00  20:00 - 21:00  \n",
       "2017-12-31 21:52:00  21:00 - 22:00  \n",
       "2017-12-31 22:46:00  22:00 - 23:00  \n",
       "2017-12-31 23:06:00  23:00 - 00:00  \n",
       "\n",
       "[21463 rows x 10 columns]"
      ]
     },
     "execution_count": 52,
     "metadata": {},
     "output_type": "execute_result"
    }
   ],
   "source": [
    "# Filter out short delays\n",
    "top_short_delay_time = real_delay[real_delay[\"Code description\"].isin(top_short_delay_reasons)]\n",
    "top_short_delay_time"
   ]
  },
  {
   "cell_type": "code",
   "execution_count": 53,
   "metadata": {},
   "outputs": [
    {
     "name": "stdout",
     "output_type": "stream",
     "text": [
      "['Door Problems\\n - Faulty Equipment', 'ATC Project', 'Disorderly Patron', 'Passenger Assistance Alarm Activated\\n - No Trouble Found', 'Injured or ill Customer (On Train)\\n - Medical Aid Refused', 'Injured or ill Customer (On Train)\\n - Transported']\n"
     ]
    },
    {
     "data": {
      "image/png": "[encoded data removed]",
      "text/plain": [
       "<Figure size 864x432 with 1 Axes>"
      ]
     },
     "metadata": {
      "needs_background": "light"
     },
     "output_type": "display_data"
    }
   ],
   "source": [
    "plt.figure(figsize = (12, 6))\n",
    "formatted_legend = ['\\n - '.join(s.split(' - ')) if ' - ' in s else s for s in top_short_delay_reasons]\n",
    "print(formatted_legend)\n",
    "sns.boxplot(x=top_short_delay_time[\"Code description\"], y=top_short_delay_time[\"Min Delay\"])\n",
    "plt.title(\"TTC Top Delay Reaons (less than 10 minutes)\", fontsize = 16)\n",
    "plt.xlabel(\"Top Reasons\", fontsize = 14)\n",
    "plt.ylabel(\"Minimum Delay Minutes\", fontsize = 14)\n",
    "plt.xticks(range(len(formatted_legend)), formatted_legend, rotation = 90)\n",
    "plt.ylim(0,30)\n",
    "plt.show()"
   ]
  },
  {
   "cell_type": "code",
   "execution_count": 54,
   "metadata": {},
   "outputs": [
    {
     "data": {
      "text/plain": [
       "Injured or ill Customer (On Train) - Transported    974\n",
       "Unauthorized at Track Level                         854\n",
       "Disorderly Patron                                   813\n",
       "Fire/Smoke Plan B - Source TTC                      633\n",
       "Passenger Other                                     482\n",
       "Name: Code description, dtype: int64"
      ]
     },
     "execution_count": 54,
     "metadata": {},
     "output_type": "execute_result"
    }
   ],
   "source": [
    "# Top delay reasons more than 10 minutes\n",
    "long_delay_reason = real_delay[real_delay[\"Min Delay\"] > 10][\"Code description\"].value_counts()\n",
    "long_delay_reason.head(5)"
   ]
  },
  {
   "cell_type": "code",
   "execution_count": 55,
   "metadata": {},
   "outputs": [
    {
     "data": {
      "text/plain": [
       "Code description\n",
       "Priority One - Train in Contact With Person         24548\n",
       "Unauthorized at Track Level                         18341\n",
       "Fire/Smoke Plan B - Source TTC                      17357\n",
       "Injured or ill Customer (On Train) - Transported    16617\n",
       "Disorderly Patron                                   13363\n",
       "Name: Min Delay, dtype: int64"
      ]
     },
     "execution_count": 55,
     "metadata": {},
     "output_type": "execute_result"
    }
   ],
   "source": [
    "long_delay_reason_time = real_delay[real_delay[\"Min Delay\"] > 10].groupby(\"Code description\")[\"Min Delay\"].sum().sort_values(ascending = False)\n",
    "long_delay_reason_time.head(5)"
   ]
  },
  {
   "cell_type": "code",
   "execution_count": 56,
   "metadata": {},
   "outputs": [
    {
     "data": {
      "text/plain": [
       "['Passenger Other',\n",
       " 'Disorderly Patron',\n",
       " 'Unauthorized at Track Level',\n",
       " 'Fire/Smoke Plan B - Source TTC',\n",
       " 'Injured or ill Customer (On Train) - Transported',\n",
       " 'Priority One - Train in Contact With Person']"
      ]
     },
     "execution_count": 56,
     "metadata": {},
     "output_type": "execute_result"
    }
   ],
   "source": [
    "top_long_delay_reasons = list(set(list(long_delay_reason[0:5].index) + list(long_delay_reason_time[0:5].index)))\n",
    "top_long_delay_reasons"
   ]
  },
  {
   "cell_type": "code",
   "execution_count": 57,
   "metadata": {},
   "outputs": [
    {
     "data": {
      "text/html": [
       "<div>\n",
       "<style scoped>\n",
       "    .dataframe tbody tr th:only-of-type {\n",
       "        vertical-align: middle;\n",
       "    }\n",
       "\n",
       "    .dataframe tbody tr th {\n",
       "        vertical-align: top;\n",
       "    }\n",
       "\n",
       "    .dataframe thead th {\n",
       "        text-align: right;\n",
       "    }\n",
       "</style>\n",
       "<table border=\"1\" class=\"dataframe\">\n",
       "  <thead>\n",
       "    <tr style=\"text-align: right;\">\n",
       "      <th></th>\n",
       "      <th>Day</th>\n",
       "      <th>Station</th>\n",
       "      <th>Code</th>\n",
       "      <th>Min Delay</th>\n",
       "      <th>Min Gap</th>\n",
       "      <th>Bound</th>\n",
       "      <th>Line</th>\n",
       "      <th>Vehicle</th>\n",
       "      <th>Code description</th>\n",
       "      <th>time_interval</th>\n",
       "    </tr>\n",
       "    <tr>\n",
       "      <th>Datetime</th>\n",
       "      <th></th>\n",
       "      <th></th>\n",
       "      <th></th>\n",
       "      <th></th>\n",
       "      <th></th>\n",
       "      <th></th>\n",
       "      <th></th>\n",
       "      <th></th>\n",
       "      <th></th>\n",
       "      <th></th>\n",
       "    </tr>\n",
       "  </thead>\n",
       "  <tbody>\n",
       "    <tr>\n",
       "      <th>2018-01-01 02:42:00</th>\n",
       "      <td>Monday</td>\n",
       "      <td>COLLEGE STATION</td>\n",
       "      <td>SUDP</td>\n",
       "      <td>7</td>\n",
       "      <td>12</td>\n",
       "      <td>N</td>\n",
       "      <td>YUS</td>\n",
       "      <td>5696</td>\n",
       "      <td>Disorderly Patron</td>\n",
       "      <td>02:00 - 03:00</td>\n",
       "    </tr>\n",
       "    <tr>\n",
       "      <th>2018-01-01 03:06:00</th>\n",
       "      <td>Monday</td>\n",
       "      <td>WARDEN STATION</td>\n",
       "      <td>MUI</td>\n",
       "      <td>3</td>\n",
       "      <td>7</td>\n",
       "      <td>E</td>\n",
       "      <td>BD</td>\n",
       "      <td>5257</td>\n",
       "      <td>Injured or ill Customer (On Train) - Transported</td>\n",
       "      <td>03:00 - 04:00</td>\n",
       "    </tr>\n",
       "    <tr>\n",
       "      <th>2018-01-01 11:46:00</th>\n",
       "      <td>Monday</td>\n",
       "      <td>KENNEDY BD STATION</td>\n",
       "      <td>SUUT</td>\n",
       "      <td>4</td>\n",
       "      <td>8</td>\n",
       "      <td>W</td>\n",
       "      <td>BD</td>\n",
       "      <td>5046</td>\n",
       "      <td>Unauthorized at Track Level</td>\n",
       "      <td>11:00 - 12:00</td>\n",
       "    </tr>\n",
       "    <tr>\n",
       "      <th>2018-01-01 15:36:00</th>\n",
       "      <td>Monday</td>\n",
       "      <td>SHERBOURNE STATION</td>\n",
       "      <td>SUDP</td>\n",
       "      <td>5</td>\n",
       "      <td>10</td>\n",
       "      <td>E</td>\n",
       "      <td>BD</td>\n",
       "      <td>5269</td>\n",
       "      <td>Disorderly Patron</td>\n",
       "      <td>15:00 - 16:00</td>\n",
       "    </tr>\n",
       "    <tr>\n",
       "      <th>2018-01-01 16:47:00</th>\n",
       "      <td>Monday</td>\n",
       "      <td>VICTORIA PARK STATION</td>\n",
       "      <td>MUPR1</td>\n",
       "      <td>62</td>\n",
       "      <td>67</td>\n",
       "      <td>W</td>\n",
       "      <td>BD</td>\n",
       "      <td>5225</td>\n",
       "      <td>Priority One - Train in Contact With Person</td>\n",
       "      <td>16:00 - 17:00</td>\n",
       "    </tr>\n",
       "    <tr>\n",
       "      <th>...</th>\n",
       "      <td>...</td>\n",
       "      <td>...</td>\n",
       "      <td>...</td>\n",
       "      <td>...</td>\n",
       "      <td>...</td>\n",
       "      <td>...</td>\n",
       "      <td>...</td>\n",
       "      <td>...</td>\n",
       "      <td>...</td>\n",
       "      <td>...</td>\n",
       "    </tr>\n",
       "    <tr>\n",
       "      <th>2017-12-31 20:46:00</th>\n",
       "      <td>Sunday</td>\n",
       "      <td>DAVISVILLE STATION</td>\n",
       "      <td>SUDP</td>\n",
       "      <td>9</td>\n",
       "      <td>14</td>\n",
       "      <td>N</td>\n",
       "      <td>YUS</td>\n",
       "      <td>5446</td>\n",
       "      <td>Disorderly Patron</td>\n",
       "      <td>20:00 - 21:00</td>\n",
       "    </tr>\n",
       "    <tr>\n",
       "      <th>2017-12-31 21:33:00</th>\n",
       "      <td>Sunday</td>\n",
       "      <td>QUEEN STATION</td>\n",
       "      <td>SUUT</td>\n",
       "      <td>5</td>\n",
       "      <td>9</td>\n",
       "      <td>N</td>\n",
       "      <td>YUS</td>\n",
       "      <td>5736</td>\n",
       "      <td>Unauthorized at Track Level</td>\n",
       "      <td>21:00 - 22:00</td>\n",
       "    </tr>\n",
       "    <tr>\n",
       "      <th>2017-12-31 21:52:00</th>\n",
       "      <td>Sunday</td>\n",
       "      <td>YORK MILLS STATION</td>\n",
       "      <td>SUDP</td>\n",
       "      <td>3</td>\n",
       "      <td>8</td>\n",
       "      <td>N</td>\n",
       "      <td>YUS</td>\n",
       "      <td>5851</td>\n",
       "      <td>Disorderly Patron</td>\n",
       "      <td>21:00 - 22:00</td>\n",
       "    </tr>\n",
       "    <tr>\n",
       "      <th>2017-12-31 22:46:00</th>\n",
       "      <td>Sunday</td>\n",
       "      <td>BROADVIEW STATION</td>\n",
       "      <td>SUDP</td>\n",
       "      <td>4</td>\n",
       "      <td>8</td>\n",
       "      <td>E</td>\n",
       "      <td>BD</td>\n",
       "      <td>5261</td>\n",
       "      <td>Disorderly Patron</td>\n",
       "      <td>22:00 - 23:00</td>\n",
       "    </tr>\n",
       "    <tr>\n",
       "      <th>2017-12-31 23:58:00</th>\n",
       "      <td>Sunday</td>\n",
       "      <td>GLENCAIRN STATION</td>\n",
       "      <td>SUUT</td>\n",
       "      <td>10</td>\n",
       "      <td>14</td>\n",
       "      <td>S</td>\n",
       "      <td>YUS</td>\n",
       "      <td>5576</td>\n",
       "      <td>Unauthorized at Track Level</td>\n",
       "      <td>23:00 - 00:00</td>\n",
       "    </tr>\n",
       "  </tbody>\n",
       "</table>\n",
       "<p>14990 rows × 10 columns</p>\n",
       "</div>"
      ],
      "text/plain": [
       "                        Day                Station   Code  Min Delay  Min Gap  \\\n",
       "Datetime                                                                        \n",
       "2018-01-01 02:42:00  Monday        COLLEGE STATION   SUDP          7       12   \n",
       "2018-01-01 03:06:00  Monday         WARDEN STATION    MUI          3        7   \n",
       "2018-01-01 11:46:00  Monday     KENNEDY BD STATION   SUUT          4        8   \n",
       "2018-01-01 15:36:00  Monday     SHERBOURNE STATION   SUDP          5       10   \n",
       "2018-01-01 16:47:00  Monday  VICTORIA PARK STATION  MUPR1         62       67   \n",
       "...                     ...                    ...    ...        ...      ...   \n",
       "2017-12-31 20:46:00  Sunday     DAVISVILLE STATION   SUDP          9       14   \n",
       "2017-12-31 21:33:00  Sunday          QUEEN STATION   SUUT          5        9   \n",
       "2017-12-31 21:52:00  Sunday     YORK MILLS STATION   SUDP          3        8   \n",
       "2017-12-31 22:46:00  Sunday      BROADVIEW STATION   SUDP          4        8   \n",
       "2017-12-31 23:58:00  Sunday      GLENCAIRN STATION   SUUT         10       14   \n",
       "\n",
       "                    Bound Line  Vehicle  \\\n",
       "Datetime                                  \n",
       "2018-01-01 02:42:00     N  YUS     5696   \n",
       "2018-01-01 03:06:00     E   BD     5257   \n",
       "2018-01-01 11:46:00     W   BD     5046   \n",
       "2018-01-01 15:36:00     E   BD     5269   \n",
       "2018-01-01 16:47:00     W   BD     5225   \n",
       "...                   ...  ...      ...   \n",
       "2017-12-31 20:46:00     N  YUS     5446   \n",
       "2017-12-31 21:33:00     N  YUS     5736   \n",
       "2017-12-31 21:52:00     N  YUS     5851   \n",
       "2017-12-31 22:46:00     E   BD     5261   \n",
       "2017-12-31 23:58:00     S  YUS     5576   \n",
       "\n",
       "                                                     Code description  \\\n",
       "Datetime                                                                \n",
       "2018-01-01 02:42:00                                 Disorderly Patron   \n",
       "2018-01-01 03:06:00  Injured or ill Customer (On Train) - Transported   \n",
       "2018-01-01 11:46:00                       Unauthorized at Track Level   \n",
       "2018-01-01 15:36:00                                 Disorderly Patron   \n",
       "2018-01-01 16:47:00       Priority One - Train in Contact With Person   \n",
       "...                                                               ...   \n",
       "2017-12-31 20:46:00                                 Disorderly Patron   \n",
       "2017-12-31 21:33:00                       Unauthorized at Track Level   \n",
       "2017-12-31 21:52:00                                 Disorderly Patron   \n",
       "2017-12-31 22:46:00                                 Disorderly Patron   \n",
       "2017-12-31 23:58:00                       Unauthorized at Track Level   \n",
       "\n",
       "                     time_interval  \n",
       "Datetime                            \n",
       "2018-01-01 02:42:00  02:00 - 03:00  \n",
       "2018-01-01 03:06:00  03:00 - 04:00  \n",
       "2018-01-01 11:46:00  11:00 - 12:00  \n",
       "2018-01-01 15:36:00  15:00 - 16:00  \n",
       "2018-01-01 16:47:00  16:00 - 17:00  \n",
       "...                            ...  \n",
       "2017-12-31 20:46:00  20:00 - 21:00  \n",
       "2017-12-31 21:33:00  21:00 - 22:00  \n",
       "2017-12-31 21:52:00  21:00 - 22:00  \n",
       "2017-12-31 22:46:00  22:00 - 23:00  \n",
       "2017-12-31 23:58:00  23:00 - 00:00  \n",
       "\n",
       "[14990 rows x 10 columns]"
      ]
     },
     "execution_count": 57,
     "metadata": {},
     "output_type": "execute_result"
    }
   ],
   "source": [
    "top_long_delay_time = real_delay[real_delay[\"Code description\"].isin(top_long_delay_reasons)]\n",
    "top_long_delay_time"
   ]
  },
  {
   "cell_type": "code",
   "execution_count": 58,
   "metadata": {},
   "outputs": [
    {
     "data": {
      "image/png": "[encoded data removed]",
      "text/plain": [
       "<Figure size 864x432 with 1 Axes>"
      ]
     },
     "metadata": {
      "needs_background": "light"
     },
     "output_type": "display_data"
    }
   ],
   "source": [
    "plt.figure(figsize = (12, 6))\n",
    "formatted_legend = ['\\n - '.join(s.split(' - ')) if ' - ' in s else s for s in top_long_delay_reasons]\n",
    "sns.boxplot(x=top_long_delay_time[\"Code description\"], y=top_long_delay_time[\"Min Delay\"])\n",
    "plt.title(\"TTC Top Delay Reaons (more than 10 minutes)\", fontsize = 16)\n",
    "plt.xlabel(\"Reasons\", fontsize = 14)\n",
    "plt.ylabel(\"Minimum Delay Minutes\", fontsize = 14)\n",
    "plt.xticks(range(len(formatted_legend)), formatted_legend, rotation = 90)\n",
    "plt.ylim(0, 250)\n",
    "plt.minorticks_on()\n",
    "plt.show()"
   ]
  },
  {
   "cell_type": "markdown",
   "metadata": {},
   "source": [
    "6. Mechanical Issues"
   ]
  },
  {
   "cell_type": "markdown",
   "metadata": {},
   "source": [
    "Codes start with \"E\" or \"P\" are mechanical or signal issues from TTC."
   ]
  },
  {
   "cell_type": "code",
   "execution_count": 59,
   "metadata": {},
   "outputs": [
    {
     "name": "stdout",
     "output_type": "stream",
     "text": [
      "<class 'pandas.core.frame.DataFrame'>\n",
      "RangeIndex: 258 entries, 0 to 257\n",
      "Data columns (total 2 columns):\n",
      " #   Column            Non-Null Count  Dtype \n",
      "---  ------            --------------  ----- \n",
      " 0   Code              200 non-null    object\n",
      " 1   Code description  200 non-null    object\n",
      "dtypes: object(2)\n",
      "memory usage: 4.2+ KB\n"
     ]
    }
   ],
   "source": [
    "TTC_delay_code_name.info()"
   ]
  },
  {
   "cell_type": "code",
   "execution_count": 60,
   "metadata": {},
   "outputs": [
    {
     "name": "stdout",
     "output_type": "stream",
     "text": [
      "['EUAC', 'EUAL', 'EUATC', 'EUBK', 'EUBO', 'EUCA', 'EUCD', 'EUCH', 'EUCO', 'EUDO', 'EUECD', 'EUHV', 'EULT', 'EULV', 'EUME', 'EUNEA', 'EUNT', 'EUO', 'EUOE', 'EUOPO', 'EUPI', 'EUSC', 'EUTL', 'EUTM', 'EUTR', 'EUTRD', 'EUVA', 'EUVE', 'EUYRD', 'PUATC', 'PUCBI', 'PUCSC', 'PUCSS', 'PUDCS', 'PUMEL', 'PUMO', 'PUMST', 'PUOPO', 'PUSAC', 'PUSBE', 'PUSCA', 'PUSCR', 'PUSEA', 'PUSI', 'PUSIO', 'PUSIS', 'PUSLC', 'PUSNT', 'PUSO', 'PUSRA', 'PUSSW', 'PUSTC', 'PUSTP', 'PUSTS', 'PUSWZ', 'PUSZC', 'PUTCD', 'PUTD', 'PUTDN ', 'PUTIJ', 'PUTIS', 'PUTNT', 'PUTO', 'PUTOE', 'PUTR', 'PUTS', 'PUTSC', 'PUTSM', 'PUTTC', 'PUTTP', 'PUTWZ', 'ERAC', 'ERBO', 'ERCD', 'ERCO', 'ERDB', 'ERDO', 'ERHV', 'ERLT', 'ERLV', 'ERME', 'ERNEA', 'ERNT', 'ERO', 'ERPR', 'ERRA', 'ERTB', 'ERTC', 'ERTL', 'ERTR', 'ERVE', 'ERWA', 'ERWS', 'PREL', 'PRO', 'PRS', 'PRSA', 'PRSL', 'PRSO', 'PRSP', 'PRST', 'PRSW', 'PRTST', 'PRW']\n"
     ]
    }
   ],
   "source": [
    "mech_code = [TTC_delay_code_name[\"Code\"][i] for i in range(len(TTC_delay_code_name[\"Code\"])) if isinstance(TTC_delay_code_name[\"Code\"][i], str) and (TTC_delay_code_name[\"Code\"][i].startswith(\"E\") or TTC_delay_code_name[\"Code\"][i].startswith(\"P\"))]\n",
    "print(mech_code)"
   ]
  },
  {
   "cell_type": "code",
   "execution_count": 61,
   "metadata": {},
   "outputs": [
    {
     "data": {
      "text/plain": [
       "Code\n",
       "EUDO     2128\n",
       "PUOPO    1549\n",
       "EUNT      994\n",
       "EUBK      874\n",
       "PUSTS     571\n",
       "ERDO      521\n",
       "ERTC      503\n",
       "EUBO      492\n",
       "EUPI      385\n",
       "PUSTC     352\n",
       "Name: Min Delay, dtype: int64"
      ]
     },
     "execution_count": 61,
     "metadata": {},
     "output_type": "execute_result"
    }
   ],
   "source": [
    "# Most common mechanical issues\n",
    "mech_issues = real_delay[real_delay[\"Code\"].isin(mech_code)].groupby(\"Code\")[\"Min Delay\"].count().sort_values(ascending = False)\n",
    "mech_issues.head(10)"
   ]
  },
  {
   "cell_type": "markdown",
   "metadata": {},
   "source": [
    "As the table above, door issues (EUDO, PUOPO, ERDO) are the most common mechanical issues. Followed by break issues."
   ]
  },
  {
   "cell_type": "code",
   "execution_count": 62,
   "metadata": {},
   "outputs": [
    {
     "data": {
      "text/plain": [
       "15394"
      ]
     },
     "execution_count": 62,
     "metadata": {},
     "output_type": "execute_result"
    }
   ],
   "source": [
    "# Total number of mechanical issues over ten years\n",
    "mech_issues.values.sum()"
   ]
  },
  {
   "cell_type": "code",
   "execution_count": 63,
   "metadata": {},
   "outputs": [
    {
     "name": "stdout",
     "output_type": "stream",
     "text": [
      "There are 24.23% of delay caused by mechanical issues.\n"
     ]
    }
   ],
   "source": [
    "print(\"There are {}% of delay caused by mechanical issues.\".format(round(mech_issues.values.sum() / len(real_delay.index)*100, 2)))"
   ]
  },
  {
   "cell_type": "code",
   "execution_count": 64,
   "metadata": {},
   "outputs": [
    {
     "name": "stdout",
     "output_type": "stream",
     "text": [
      "There are 41.38% of mechanical issues were related to doors.\n"
     ]
    }
   ],
   "source": [
    "# Number of door issues\n",
    "door_issues = real_delay[real_delay[\"Code\"].isin([\"PUOPO\", \"EUDO\", \"ERDO\", \"MUD\", \"MUDD\", \"MRD\", \"MRDD\"])]\n",
    "print(\"There are {}% of mechanical issues were related to doors.\".format(round(door_issues[\"Vehicle\"].count()/mech_issues.values.sum() * 100, 2)))"
   ]
  },
  {
   "cell_type": "code",
   "execution_count": 65,
   "metadata": {},
   "outputs": [
    {
     "name": "stdout",
     "output_type": "stream",
     "text": [
      "There are 5.68% of mechanical issues were related to brakes.\n"
     ]
    }
   ],
   "source": [
    "# Number of brake issues\n",
    "brake_issues = real_delay[real_delay[\"Code\"]==\"EUBK\"]\n",
    "print(\"There are {}% of mechanical issues were related to brakes.\".format(round(brake_issues[\"Vehicle\"].count()/mech_issues.values.sum() * 100, 2)))"
   ]
  },
  {
   "cell_type": "code",
   "execution_count": 66,
   "metadata": {},
   "outputs": [
    {
     "name": "stdout",
     "output_type": "stream",
     "text": [
      "There were 900 trains experienced delay.\n"
     ]
    }
   ],
   "source": [
    "print(\"There were {} trains experienced delay.\".format(real_delay[\"Vehicle\"].nunique()))"
   ]
  },
  {
   "cell_type": "code",
   "execution_count": 67,
   "metadata": {},
   "outputs": [
    {
     "data": {
      "text/html": [
       "<div>\n",
       "<style scoped>\n",
       "    .dataframe tbody tr th:only-of-type {\n",
       "        vertical-align: middle;\n",
       "    }\n",
       "\n",
       "    .dataframe tbody tr th {\n",
       "        vertical-align: top;\n",
       "    }\n",
       "\n",
       "    .dataframe thead th {\n",
       "        text-align: right;\n",
       "    }\n",
       "</style>\n",
       "<table border=\"1\" class=\"dataframe\">\n",
       "  <thead>\n",
       "    <tr style=\"text-align: right;\">\n",
       "      <th></th>\n",
       "      <th>Count</th>\n",
       "    </tr>\n",
       "    <tr>\n",
       "      <th>Vehicle</th>\n",
       "      <th></th>\n",
       "    </tr>\n",
       "  </thead>\n",
       "  <tbody>\n",
       "    <tr>\n",
       "      <th>3007</th>\n",
       "      <td>133</td>\n",
       "    </tr>\n",
       "    <tr>\n",
       "      <th>3017</th>\n",
       "      <td>103</td>\n",
       "    </tr>\n",
       "    <tr>\n",
       "      <th>3025</th>\n",
       "      <td>94</td>\n",
       "    </tr>\n",
       "    <tr>\n",
       "      <th>3013</th>\n",
       "      <td>90</td>\n",
       "    </tr>\n",
       "    <tr>\n",
       "      <th>3000</th>\n",
       "      <td>88</td>\n",
       "    </tr>\n",
       "  </tbody>\n",
       "</table>\n",
       "</div>"
      ],
      "text/plain": [
       "         Count\n",
       "Vehicle       \n",
       "3007       133\n",
       "3017       103\n",
       "3025        94\n",
       "3013        90\n",
       "3000        88"
      ]
     },
     "execution_count": 67,
     "metadata": {},
     "output_type": "execute_result"
    }
   ],
   "source": [
    "# Creat a new Dataframe\n",
    "train = pd.DataFrame()\n",
    "# Count how many delay from each train\n",
    "train[\"Count\"] = real_delay[(real_delay[\"Code\"].isin(mech_code)) & (real_delay[\"Vehicle\"] != 0)].groupby([\"Vehicle\"])[\"Code\"].count().sort_values(ascending = False)\n",
    "train.head()"
   ]
  },
  {
   "cell_type": "code",
   "execution_count": 68,
   "metadata": {},
   "outputs": [
    {
     "data": {
      "text/html": [
       "<div>\n",
       "<style scoped>\n",
       "    .dataframe tbody tr th:only-of-type {\n",
       "        vertical-align: middle;\n",
       "    }\n",
       "\n",
       "    .dataframe tbody tr th {\n",
       "        vertical-align: top;\n",
       "    }\n",
       "\n",
       "    .dataframe thead th {\n",
       "        text-align: right;\n",
       "    }\n",
       "</style>\n",
       "<table border=\"1\" class=\"dataframe\">\n",
       "  <thead>\n",
       "    <tr style=\"text-align: right;\">\n",
       "      <th></th>\n",
       "      <th>Count</th>\n",
       "      <th>Line</th>\n",
       "    </tr>\n",
       "    <tr>\n",
       "      <th>Vehicle</th>\n",
       "      <th></th>\n",
       "      <th></th>\n",
       "    </tr>\n",
       "  </thead>\n",
       "  <tbody>\n",
       "    <tr>\n",
       "      <th>3007</th>\n",
       "      <td>133</td>\n",
       "      <td>BD, SRT</td>\n",
       "    </tr>\n",
       "    <tr>\n",
       "      <th>3017</th>\n",
       "      <td>103</td>\n",
       "      <td>SRT</td>\n",
       "    </tr>\n",
       "    <tr>\n",
       "      <th>3025</th>\n",
       "      <td>94</td>\n",
       "      <td>SRT</td>\n",
       "    </tr>\n",
       "    <tr>\n",
       "      <th>3013</th>\n",
       "      <td>90</td>\n",
       "      <td>SRT</td>\n",
       "    </tr>\n",
       "    <tr>\n",
       "      <th>3000</th>\n",
       "      <td>88</td>\n",
       "      <td>SRT</td>\n",
       "    </tr>\n",
       "  </tbody>\n",
       "</table>\n",
       "</div>"
      ],
      "text/plain": [
       "         Count     Line\n",
       "Vehicle                \n",
       "3007       133  BD, SRT\n",
       "3017       103      SRT\n",
       "3025        94      SRT\n",
       "3013        90      SRT\n",
       "3000        88      SRT"
      ]
     },
     "execution_count": 68,
     "metadata": {},
     "output_type": "execute_result"
    }
   ],
   "source": [
    "# Find the subway lines for each vehicle\n",
    "train[\"Line\"] = [real_delay[real_delay[\"Vehicle\"] == num][\"Line\"].unique() for num in train.index]\n",
    "# Convert the list to string\n",
    "train['Line'] = train['Line'].apply(lambda x: ', '.join(sorted(x)))\n",
    "train.head()"
   ]
  },
  {
   "cell_type": "code",
   "execution_count": 69,
   "metadata": {},
   "outputs": [
    {
     "data": {
      "text/html": [
       "<div>\n",
       "<style scoped>\n",
       "    .dataframe tbody tr th:only-of-type {\n",
       "        vertical-align: middle;\n",
       "    }\n",
       "\n",
       "    .dataframe tbody tr th {\n",
       "        vertical-align: top;\n",
       "    }\n",
       "\n",
       "    .dataframe thead th {\n",
       "        text-align: right;\n",
       "    }\n",
       "</style>\n",
       "<table border=\"1\" class=\"dataframe\">\n",
       "  <thead>\n",
       "    <tr style=\"text-align: right;\">\n",
       "      <th></th>\n",
       "      <th>Count</th>\n",
       "      <th>Line</th>\n",
       "      <th>Year</th>\n",
       "    </tr>\n",
       "    <tr>\n",
       "      <th>Vehicle</th>\n",
       "      <th></th>\n",
       "      <th></th>\n",
       "      <th></th>\n",
       "    </tr>\n",
       "  </thead>\n",
       "  <tbody>\n",
       "    <tr>\n",
       "      <th>3007</th>\n",
       "      <td>133</td>\n",
       "      <td>BD, SRT</td>\n",
       "      <td>2014, 2015, 2016, 2017, 2018, 2019, 2020, 2021...</td>\n",
       "    </tr>\n",
       "    <tr>\n",
       "      <th>3017</th>\n",
       "      <td>103</td>\n",
       "      <td>SRT</td>\n",
       "      <td>2014, 2015, 2016, 2017, 2018, 2019, 2020, 2021...</td>\n",
       "    </tr>\n",
       "    <tr>\n",
       "      <th>3025</th>\n",
       "      <td>94</td>\n",
       "      <td>SRT</td>\n",
       "      <td>2014, 2015, 2016, 2017, 2018, 2019, 2020, 2021...</td>\n",
       "    </tr>\n",
       "    <tr>\n",
       "      <th>3013</th>\n",
       "      <td>90</td>\n",
       "      <td>SRT</td>\n",
       "      <td>2014, 2015, 2016, 2017, 2018, 2019, 2020, 2021...</td>\n",
       "    </tr>\n",
       "    <tr>\n",
       "      <th>3000</th>\n",
       "      <td>88</td>\n",
       "      <td>SRT</td>\n",
       "      <td>2014, 2015, 2016, 2017, 2018, 2019, 2020, 2021...</td>\n",
       "    </tr>\n",
       "  </tbody>\n",
       "</table>\n",
       "</div>"
      ],
      "text/plain": [
       "         Count     Line                                               Year\n",
       "Vehicle                                                                   \n",
       "3007       133  BD, SRT  2014, 2015, 2016, 2017, 2018, 2019, 2020, 2021...\n",
       "3017       103      SRT  2014, 2015, 2016, 2017, 2018, 2019, 2020, 2021...\n",
       "3025        94      SRT  2014, 2015, 2016, 2017, 2018, 2019, 2020, 2021...\n",
       "3013        90      SRT  2014, 2015, 2016, 2017, 2018, 2019, 2020, 2021...\n",
       "3000        88      SRT  2014, 2015, 2016, 2017, 2018, 2019, 2020, 2021..."
      ]
     },
     "execution_count": 69,
     "metadata": {},
     "output_type": "execute_result"
    }
   ],
   "source": [
    "# Find the subway lines for each vehicle\n",
    "train[\"Year\"] = [real_delay[real_delay[\"Vehicle\"] == num].index.year.unique().astype(str) for num in train.index]\n",
    "# Convert the list to string\n",
    "train['Year'] = train['Year'].apply(lambda x: ', '.join(sorted(x)))\n",
    "train.head()"
   ]
  },
  {
   "cell_type": "code",
   "execution_count": 70,
   "metadata": {},
   "outputs": [
    {
     "data": {
      "text/plain": [
       "<Figure size 864x576 with 0 Axes>"
      ]
     },
     "metadata": {},
     "output_type": "display_data"
    },
    {
     "data": {
      "image/png": "[encoded data removed]",
      "text/plain": [
       "<Figure size 360x360 with 1 Axes>"
      ]
     },
     "metadata": {
      "needs_background": "light"
     },
     "output_type": "display_data"
    }
   ],
   "source": [
    "plt.figure(figsize = (12, 8))\n",
    "# Plot the histogram of the delay event related to number of vehicles\n",
    "sns.displot(train[\"Count\"])\n",
    "plt.title(\"Histogram of Delay Sorted by Vehicle Number\", fontsize = 16)\n",
    "plt.xlabel(\"Number of Delays\", fontsize = 14)\n",
    "plt.ylabel(\"Number of Vehicles\", fontsize = 14)\n",
    "plt.xlim(0)\n",
    "\n",
    "plt.show()"
   ]
  },
  {
   "cell_type": "code",
   "execution_count": 71,
   "metadata": {},
   "outputs": [
    {
     "name": "stderr",
     "output_type": "stream",
     "text": [
      "C:\\Users\\yuqih\\AppData\\Local\\Temp\\ipykernel_4680\\1597058450.py:4: UserWarning: \n",
      "\n",
      "`distplot` is a deprecated function and will be removed in seaborn v0.14.0.\n",
      "\n",
      "Please adapt your code to use either `displot` (a figure-level function with\n",
      "similar flexibility) or `histplot` (an axes-level function for histograms).\n",
      "\n",
      "For a guide to updating your code to use the new functions, please see\n",
      "https://gist.github.com/mwaskom/de44147ed2974457ad6372750bbe5751\n",
      "\n",
      "  sns.distplot(train[\"Count\"])\n"
     ]
    },
    {
     "data": {
      "image/png": "[encoded data removed]",
      "text/plain": [
       "<Figure size 864x576 with 1 Axes>"
      ]
     },
     "metadata": {
      "needs_background": "light"
     },
     "output_type": "display_data"
    }
   ],
   "source": [
    "# Set the figure size\n",
    "plt.figure(figsize = (12, 8))\n",
    "# Plot the histogram of the delay event related to number of vehicles\n",
    "sns.distplot(train[\"Count\"])\n",
    "\n",
    "# Add plot title, labels and set the limit\n",
    "plt.title(\"Histogram of Delay Sorted by Vehicle Number\", fontsize = 16)\n",
    "plt.xlabel(\"Number of Delays\", fontsize = 14)\n",
    "plt.ylabel(\"Density\", fontsize = 14)\n",
    "plt.xlim(0)\n",
    "\n",
    "plt.show()"
   ]
  },
  {
   "cell_type": "code",
   "execution_count": 72,
   "metadata": {},
   "outputs": [
    {
     "data": {
      "image/png": "[encoded data removed]",
      "text/plain": [
       "<Figure size 864x576 with 1 Axes>"
      ]
     },
     "metadata": {
      "needs_background": "light"
     },
     "output_type": "display_data"
    }
   ],
   "source": [
    "# See the vehicle number correlation\n",
    "plt.figure(figsize = (12, 8))\n",
    "sns.scatterplot(x = train.index, y = train[\"Count\"], hue = train[\"Line\"])\n",
    "plt.xlim(0,10000)\n",
    "\n",
    "plt.show()"
   ]
  },
  {
   "cell_type": "markdown",
   "metadata": {},
   "source": [
    "7. Top Delay Reason for each station"
   ]
  },
  {
   "cell_type": "code",
   "execution_count": 105,
   "metadata": {},
   "outputs": [
    {
     "data": {
      "text/plain": [
       "array(['SHEPPARD WEST STATION', 'MUSEUM STATION', 'KIPLING STATION',\n",
       "       'COLLEGE STATION', 'WARDEN STATION', 'DONLANDS STATION',\n",
       "       'KEELE STATION', 'KENNEDY SRT STATION', 'VICTORIA PARK STATION',\n",
       "       'OLD MILL STATION', 'DAVISVILLE STATION', 'KENNEDY BD STATION',\n",
       "       'ST GEORGE BD STATION', 'SHERBOURNE STATION', 'EGLINTON STATION',\n",
       "       'PAPE STATION', 'BLOOR STATION', 'ST PATRICK STATION',\n",
       "       'MCCOWAN STATION', 'YORK MILLS STATION', 'FINCH STATION',\n",
       "       'GREENWOOD STATION', 'KING STATION', 'WILSON STATION',\n",
       "       'VAUGHAN MC STATION', 'WILSON YARD', 'GREENWOOD YARD',\n",
       "       'UNION STATION', 'FINCH WEST STATION', 'COXWELL STATION',\n",
       "       'YORKDALE STATION', 'ST CLAIR STATION', 'JANE STATION',\n",
       "       'LAWRENCE STATION', 'MIDLAND STATION', 'BAY STATION',\n",
       "       'EGLINTON WEST STATION', 'DUPONT STATION', 'WELLESLEY STATION',\n",
       "       \"QUEEN'S PARK STATION\", 'ISLINGTON STATION', 'SPADINA YUS STATION',\n",
       "       'DUFFERIN STATION', 'ELLESMERE STATION', 'ST CLAIR WEST STATION',\n",
       "       'DOWNSVIEW PARK STATION', 'ROYAL YORK STATION',\n",
       "       'CASTLE FRANK STATION', 'YONGE BD STATION', 'DUNDAS WEST STATION',\n",
       "       'LAWRENCE EAST STATION', 'ROSEDALE STATION', 'SHEPPARD STATION',\n",
       "       'HIGHWAY 407 STATION', 'ST GEORGE YUS STATION',\n",
       "       'KIPLING STATION TO KEN', 'KENNEDY STATION TO KIP',\n",
       "       'NORTH YORK CTR STATION', 'SPADINA BD STATION', 'BATHURST STATION',\n",
       "       'CHRISTIE STATION', 'LANSDOWNE STATION', 'LAWRENCE WEST STATION',\n",
       "       'BLOOR DANFORTH SUBWAY', 'ST ANDREW STATION',\n",
       "       'MAIN STREET STATION', 'SUMMERHILL STATION', 'BROADVIEW STATION',\n",
       "       'CHESTER STATION', 'OSGOODE STATION', 'GLENCAIRN STATION',\n",
       "       'WOODBINE STATION', 'TYSSE LINE', 'YONGE SHP STATION',\n",
       "       'SCARB CTR STATION', 'OSSINGTON STATION', 'DUNDAS STATION',\n",
       "       'PIONEER VILLAGE STATIO', 'HIGH PARK STATION',\n",
       "       'SHEPPARD WEST MIGRATI', 'UNION TO ST GEORGE',\n",
       "       'LAWRENCE EAST TO ELLES', 'LESLIE STATION', 'DON MILLS STATION',\n",
       "       'QUEEN STATION', 'EGLINTON WEST TO VMC', 'MCCOWAN YARD',\n",
       "       'RUNNYMEDE STATION', 'UNION STATION TO FINCH',\n",
       "       'LEAVING LAWRENCE EAST', 'MCCOWAN TO KENNEDY STA',\n",
       "       'YORK UNIVERSITY STATIO', 'DUFFERIN TO LANSDOWNE',\n",
       "       'BESSARION STATION', 'BAYVIEW STATION', 'WILSON TO EGLINTON',\n",
       "       'SHEPPARD WEST PORTAL', 'GREENWOOD WYE', 'TRANSIT CONTROL CENTRE',\n",
       "       'DAVISVILLE YARD', 'ST CLAIR WEST TO EGLIN',\n",
       "       'SHEPPARD WEST MIGRATIO', 'ST CLAIR WEST TO DUPON',\n",
       "       'KIPLING TO ROYAL YORK', 'SHEPPARD LINE', 'KING TO UNION',\n",
       "       'SHEPPARD WEST TO WILSO', 'UNION TO ST ANDREW',\n",
       "       'DAVISVILLE HOSTLER', 'WILSON HOSTLER', 'VMC TO SHEPPARD WEST',\n",
       "       'OSGOODE POCKET', 'SYSTEM WIDE', 'WILSON HOSLTER', 'KEELE YARD',\n",
       "       'SHEPPARD YONGE STATION', 'UNION STATION TO KING',\n",
       "       'SPADINA STATION', 'SOUTH OF LAWRENCE SRT', 'SOUTH OF MIDLAND SRT',\n",
       "       'DAVISVILLE BUILD UP', 'SCARBOROUGH RAPID TRAN',\n",
       "       'UNION TO KING STATION', 'UNION (TO ST ANDREW)',\n",
       "       'BESSARIAN STATION', 'LAWRENCE TO EGLINTON S',\n",
       "       'FINCH TO UNION STATION', 'YONGE UNIVERSITY LINE',\n",
       "       'YUS/BD/SHEPPARD SUBWAY', 'ATC TERRITORY', 'SRT LINE',\n",
       "       'GREENWOOD PORTAL', 'DAVISVILLE BUILD-UP', 'KIPLING TO KENNEDY',\n",
       "       'BATHUSRT STATION', 'YORK MILLS CENTRE TRAC', 'BROADVIEW TO YONGE',\n",
       "       'SHEPPARD WEST TO DOWNS', 'YONGE BD STATION (LEAV',\n",
       "       'SCARBOROUGH CTR STATIO', 'DUPONT MIGRATION POINT',\n",
       "       'SHEPPARD-YONGE STATION', 'UNION TO KING',\n",
       "       'FINCH STATION TO DUPON', 'UNION STATION (TO KING', 'SYSTEMWIDE',\n",
       "       'BLOOR VIA DUCT', 'WARDEN TO VICTORIA PAR', 'KIPLING TO HIGH PARK',\n",
       "       'KIPLING TO KENNEDY STN', 'KIPLING TO COXWELL',\n",
       "       'YORKDALE TO FINCH STAT', 'UNION STATION TO ST AN',\n",
       "       'WILSON TO SHEPPARD WES', 'UNION TO FINCH',\n",
       "       'S/O EGLINTON TO ST CLA', \"QUEEN'S PARK TO ST CLA\",\n",
       "       'KENNEDY TO KIPLING STA', 'KENNEDY TO KIPLING',\n",
       "       'DAVISVILLE BUID-UP', 'WILSON STATION TO YORK', 'BLOOR SATION',\n",
       "       'WILSON STATION- HOSTLE', 'BROADVIEW TO KIPLING S', 'E13',\n",
       "       'UNION STATION (TO ST A', 'YONGE STATION', 'KEELE TO DUNDAS WEST',\n",
       "       'UNION TO FINCH STATION', 'CHESTER TO WARDEN',\n",
       "       'YONGE TO COXWELL STATI', 'KIPLING TO KENNEDY STA',\n",
       "       'QUEENS PARK STATION', 'CHURCH EMERGENCY EXIT',\n",
       "       'WILSON YARD - NORTH HO', 'W/O CASTLE FRANK TO GR',\n",
       "       'SCARBORUGH RAPID TRANS', 'WARDEN AND KENNEDY',\n",
       "       'UNION STATION (KING)', 'BLOOR TO ST.CLAIR',\n",
       "       'VMC STATION TO SHEPPAR', 'BLOOR TO UNION',\n",
       "       'ALLEN RD (N OF EGLINTO', 'SPADINA YUS STATION (L',\n",
       "       'FINCH TO NORTH YORK CT', 'KENNEDY TO LAWRENCE EA',\n",
       "       'FINCH TO VAUGHAN METRO', 'KENNEDY BD TO KIPLING',\n",
       "       'YONGE SHEP STATION', 'SHEPPARD SUBWAY LINE',\n",
       "       'MUSEUM TO FINCH STATIO', 'YORK MILLS CENTER TRAC', 'GLENCAIRN',\n",
       "       'FINCH TO QUEEN STATION', 'OSSINGTON STAITON', 'ATC AREA',\n",
       "       'SPADINA STATION YUS', 'YONGE - SHEPPARD (LEAV',\n",
       "       'KENNEDY TO MCCOWAN', 'COXWELL TO KENNEDY STA',\n",
       "       'DUFFERIN TO KIPLING ST', 'KEELE STATION TO KIPLI',\n",
       "       'ST CLAIR TO BLOOR STAT', 'UNION STATION TO ST. A',\n",
       "       'WILSON SOUTH HOSTLER', 'WILSON YARD NORTH HOST',\n",
       "       'KENNEDY STATION', 'KIPLING - KENNEDY', 'ISLINGTON CENTRE TRACK',\n",
       "       'YORK MILLS STATION (AP', 'SHEPPARD- YONGE STATIO',\n",
       "       'VAUGHAN MC STATIO', 'BLOOR VIADUCT', 'ROYAL YORK TO ISLINGTO',\n",
       "       'MARKDALE EE', 'LEAVING DON MILLS', 'QUEEN TO FINCH STATION',\n",
       "       'QUEEN TO KING STATIONS', 'ST. CLAIR STATION',\n",
       "       'ST. CLAIR WEST STATION', 'FICNH STATION',\n",
       "       'KIPLING STATION TO COX', 'ST CLAIR WEST TO VMC S',\n",
       "       'BLOOR TO MUSUEM STATIO', 'EGLINTON TO DAVISVILLE',\n",
       "       'ST GEORGE TO BAY STATI', 'ST GEORGE AND BROADVIE',\n",
       "       'YORK MILLS TO LAWRENCE', 'YORK MILLS CENTRE',\n",
       "       'N/O WILSON TO S/O SHEP', 'ST GEORGE YU STATION',\n",
       "       'EGLINTON STATION (APPR', 'EGLINTON STATION (LEAV',\n",
       "       'KENNEDY TO MCCOWAN - L', 'SHEPPARD-YONGE (TAIL T',\n",
       "       'SUMMERHILL TO BLOOR ST', 'DAVISVILLE BUILDUP', 'ZONE 1',\n",
       "       'YONGE UNIVERSITY SUBWA', 'KIPLING TO ISLINGTON',\n",
       "       'LESLIE STATION (LEAVIN', 'YONGE AND SHEPPARD',\n",
       "       'LAWERENCE STATION', 'YONGE-UNIVERSITY AND B',\n",
       "       'DAVISVILLE BUILDD UP', 'FINCH TO ROSEDALE',\n",
       "       'FINCH WEST TO WILSON', 'WARDEN TO KENNEDY',\n",
       "       'WILSON TO LAWRENCE WES', 'EGLINTON STATION TO VA',\n",
       "       'LAWRENCE WEST CENTRE', 'EGLINTON STATION APPRO',\n",
       "       'VMC TO EGLINTON STATIO', 'EGLINTON STATION - MIG',\n",
       "       'YOUNGE UNIVERSITY SPAD', 'EGLINTON STATION (MIGR',\n",
       "       'BLOOR DANFORTH LINE', 'YUS LINE', 'ZONE 2',\n",
       "       'EGLINTON STATION ( MIG', 'LINE 1 YUS', 'SHEPPARD WEST TO UNION',\n",
       "       'KIPLING TO JANE', 'YORK MILLS (APPROACHIN',\n",
       "       'KENNEDY SRT STATION TO', 'EGLINTON PSUDO STATION',\n",
       "       'MUSEUM TO EGLINTON STA', 'UNION STATION TOWARDS',\n",
       "       'N/B TOWARDS FINCH', 'VMC TO LAWRENCE', 'EGLINTON (MIGRATION)',\n",
       "       'ST. GEORGE STATION', 'GLENCARIN STATION', 'KING TO COLLEGE',\n",
       "       'COLLEGE TO KING', 'SCARBOROUGH CENTRE STA',\n",
       "       'ST CLAIR STATION (APPR', 'YONGE STATION TO GREEN',\n",
       "       'BAY LOWER STATION', 'MIGRATION POINT EGLINT',\n",
       "       'BLOOR-DANFORTH LINE', 'SHEPPARD-YONGE AND DON',\n",
       "       'VICTORIA PARK TO WARDE', 'EGLINTON MIGRATION',\n",
       "       'DUNDAS WEST TO KEELE S', 'MAIN STREET STATION (E',\n",
       "       'LINE 1 BLOOR TO QUEEN', 'OSSINGTON CENTRE TRACK',\n",
       "       'MAIN TO VICTORIA PARK', 'GUNN BUILDING', 'EGLINTON MIGRATION POI',\n",
       "       'EATON CENTRE', 'VIADUCT', 'KENNEDY SRT STATION -',\n",
       "       'MIGRATION POINT', 'BLOOR/DANFORTH LINE', 'WILSON YARD HOSTLER 2',\n",
       "       'UNION STATION (TOWARDS', 'UNION STATION - ST AND',\n",
       "       'MC COWAN STATION', 'UNION - KING', 'STATION',\n",
       "       'SOUTH BOUND SOUTH OF L', 'WILSON HOLSER',\n",
       "       'FINCH TO QUEENS PARK S', 'UNION STATION (ST ANDR',\n",
       "       'UNION STATION - KING S', 'BLOOR/YONGE', 'KIPLING STATION - KENN',\n",
       "       'MIDLAND APPROACHING', 'NORTH YORK CENTRE STAT',\n",
       "       'LAWRENCE TO YORK MILLS', 'OSSINGTON STATION(APPR',\n",
       "       'KENNEDY SRT STATION (D', 'KENNEDY SRT STATION (L',\n",
       "       'BLOOR TO DAVISVILLE ST', 'CHESTER CENTRE TRACK',\n",
       "       'WOODBINE STATION (LEAV', 'ST GEORGE STAION - LE',\n",
       "       'UNION STATION FROM KIN', 'MUSEUM STATION ST. GEO',\n",
       "       'TRANSIT CONTROL', 'KENNEDY SRT STATION (A', 'SCARBOROUGH RT',\n",
       "       'SHEPPARD - YONGE (LINE', 'WOODBINE STATION LEAVI',\n",
       "       'MUSEUM STATION TO FINC', 'ROSEDALE TO BLOOR',\n",
       "       'KENNEDY SRT STATION (E', 'UNION STATION-KING',\n",
       "       'ST GEORGE TO QUEENS PA', 'SPADINA TO ST ANDREW', 'LINE 2',\n",
       "       'FINCH TO EGLINTON STAT', 'LAWRENCE', 'UNION TO ST. ANDREW ST',\n",
       "       'UNION STATION TOWARD K', 'YORK UNIVERSITY',\n",
       "       'MIDLAND STATION TO ELL', 'EGLINTON STATION TO ST',\n",
       "       'KENNEDY TO MCCOWAN STA', 'BATHURST TO CASTLE FRA',\n",
       "       'KIPLING TAIL TRACK 2', 'MCCOWAN STATION TO KEN',\n",
       "       'WILSON CARHOUSE', 'FINCH TO DOWNSVIEW', 'EGLINTON TO LAWRENCE S',\n",
       "       'EGLINTON WEST TO BLOOR', 'CHESTER TO CASTLEFRANK',\n",
       "       'LYTTON EMERGENCY EXIT', 'CHESTER TO BROADVIEW',\n",
       "       'EGLINTON TO FINCH', 'UNION STATION (DOWNSVI',\n",
       "       'JANE STATION (APPROACH', 'DOWNSVIEW STATION',\n",
       "       'OLD MILL STATION (EXIT', 'DUPONT STATION (APPROA',\n",
       "       'ST GEORGE BD STATION -', 'DAVISVILLE STATION - L',\n",
       "       'KENNEDY BD STATION PLA', 'KENNEDY BD STATION (AP',\n",
       "       'DONLANDS TO KIPLING ST', 'ROSEDALE STATION (APP',\n",
       "       'KIPLING STATION (PLATF', 'GLENCAIRN STATION (APP',\n",
       "       'JANE STATION (ENTERING', 'DONLANDS STATION (APPR',\n",
       "       'MCCOWAN STATION (DEPAR', 'KIPLING STATION (APPRO',\n",
       "       'KENNEDY BD STATION (EX', 'LEAVING KENNEDY STATIO',\n",
       "       'SCARB CENTRE STATION', 'KIPLING STATION (ENTER',\n",
       "       'KENNEDY PLATFORM 1', 'DUNDAS STATION E/S',\n",
       "       'MUSEUM STATION (APPROA', 'ELLESMERE STATION DEPA',\n",
       "       'KENNEDY BD STATION (PL', 'ROSEDALE STATION (APPR',\n",
       "       'BROADVIEW TO YONGE STA', 'CHESTER STATION (LEAVI',\n",
       "       'WELLESLEY TO COLLEGE', 'VICTORIA PARK', 'GREENWOOD CARHOUSE',\n",
       "       'CLANTON PARK PORTAL', 'EGLINTON POCKET'], dtype=object)"
      ]
     },
     "execution_count": 105,
     "metadata": {},
     "output_type": "execute_result"
    }
   ],
   "source": [
    "real_delay[\"Station\"].unique()"
   ]
  },
  {
   "cell_type": "code",
   "execution_count": 125,
   "metadata": {},
   "outputs": [
    {
     "data": {
      "text/html": [
       "<div>\n",
       "<style scoped>\n",
       "    .dataframe tbody tr th:only-of-type {\n",
       "        vertical-align: middle;\n",
       "    }\n",
       "\n",
       "    .dataframe tbody tr th {\n",
       "        vertical-align: top;\n",
       "    }\n",
       "\n",
       "    .dataframe thead th {\n",
       "        text-align: right;\n",
       "    }\n",
       "</style>\n",
       "<table border=\"1\" class=\"dataframe\">\n",
       "  <thead>\n",
       "    <tr style=\"text-align: right;\">\n",
       "      <th></th>\n",
       "      <th>total_count</th>\n",
       "      <th>max_delay_code</th>\n",
       "    </tr>\n",
       "    <tr>\n",
       "      <th>Station</th>\n",
       "      <th></th>\n",
       "      <th></th>\n",
       "    </tr>\n",
       "  </thead>\n",
       "  <tbody>\n",
       "    <tr>\n",
       "      <th>FINCH STATION</th>\n",
       "      <td>2762</td>\n",
       "      <td>TUSUP</td>\n",
       "    </tr>\n",
       "    <tr>\n",
       "      <th>KENNEDY BD STATION</th>\n",
       "      <td>2742</td>\n",
       "      <td>TUSUP</td>\n",
       "    </tr>\n",
       "    <tr>\n",
       "      <th>VAUGHAN MC STATION</th>\n",
       "      <td>2387</td>\n",
       "      <td>TUSUP</td>\n",
       "    </tr>\n",
       "    <tr>\n",
       "      <th>EGLINTON STATION</th>\n",
       "      <td>2320</td>\n",
       "      <td>TUSUP</td>\n",
       "    </tr>\n",
       "    <tr>\n",
       "      <th>KIPLING STATION</th>\n",
       "      <td>2281</td>\n",
       "      <td>TUSUP</td>\n",
       "    </tr>\n",
       "  </tbody>\n",
       "</table>\n",
       "</div>"
      ],
      "text/plain": [
       "                    total_count max_delay_code\n",
       "Station                                       \n",
       "FINCH STATION              2762          TUSUP\n",
       "KENNEDY BD STATION         2742          TUSUP\n",
       "VAUGHAN MC STATION         2387          TUSUP\n",
       "EGLINTON STATION           2320          TUSUP\n",
       "KIPLING STATION            2281          TUSUP"
      ]
     },
     "execution_count": 125,
     "metadata": {},
     "output_type": "execute_result"
    }
   ],
   "source": [
    "## The count here shows number \n",
    "TTC_delay_stations_count = real_delay.groupby([\"Station\"]).agg(total_count=('Code', 'count'), max_delay_code=('Code', 'max')).sort_values(by='total_count', ascending=False)\n",
    "TTC_delay_stations_count.head()"
   ]
  },
  {
   "cell_type": "code",
   "execution_count": 74,
   "metadata": {},
   "outputs": [
    {
     "data": {
      "text/plain": [
       "array(['TUSUP', 'TUSC', 'TRTC', 'TUSET', 'TUS', 'TUTD', 'TUOS', 'TUST',\n",
       "       'TRSET', 'TUATC', 'PUTSM', 'SRO', 'TUNOA', 'TUO', 'SUUT', 'TUMVS',\n",
       "       'TRO', 'PRSO', 'SUDP', 'TUNIP', 'PUSRA', 'PUSTS', 'SUEAS', 'TUCC',\n",
       "       'MUTO', 'PUSNT', 'MRTO', 'ERTC', 'PUTIJ', 'PUTWZ', 'MUATC', 'PUTR',\n",
       "       'PUCSS', 'MUIS', 'PUSI', 'PUCSC', 'PUSSW', 'PUSWZ', 'MUTD', 'MUSC',\n",
       "       'MUNOA', 'ERDO', 'MUPLB', 'EUBK', 'PUSCA', 'PUSZC', 'SUPOL',\n",
       "       'PUEO', 'SUO', 'EUVE', 'MUFM', 'MUO', 'EUTRD', 'PRS', 'MUPAA',\n",
       "       'PRO', 'PRSA', 'MUDD', 'PUTO', 'PUSTC', 'PUSO', 'PRSL', 'PUSIO',\n",
       "       'EUSC', 'EUPI', 'PUMO', 'SUAP', 'EUDO', 'EUTM', 'PUTS', 'MUSAN',\n",
       "       'EUATC', 'ERHV', 'PUEWZ', 'PUSIS', 'EUNT', 'PUOPO', 'PUATC',\n",
       "       'MUPR1', 'ERPR', 'SREAS', 'MUI', 'MRWEA', 'PUSAC', 'PRW', 'EUBO',\n",
       "       'SUG'], dtype=object)"
      ]
     },
     "execution_count": 74,
     "metadata": {},
     "output_type": "execute_result"
    }
   ],
   "source": [
    "TTC_delay_stations_count[\"max_delay_code\"].unique()"
   ]
  },
  {
   "cell_type": "code",
   "execution_count": 129,
   "metadata": {},
   "outputs": [
    {
     "data": {
      "text/html": [
       "<div>\n",
       "<style scoped>\n",
       "    .dataframe tbody tr th:only-of-type {\n",
       "        vertical-align: middle;\n",
       "    }\n",
       "\n",
       "    .dataframe tbody tr th {\n",
       "        vertical-align: top;\n",
       "    }\n",
       "\n",
       "    .dataframe thead th {\n",
       "        text-align: right;\n",
       "    }\n",
       "</style>\n",
       "<table border=\"1\" class=\"dataframe\">\n",
       "  <thead>\n",
       "    <tr style=\"text-align: right;\">\n",
       "      <th></th>\n",
       "      <th>total_count</th>\n",
       "      <th>max_delay_code</th>\n",
       "    </tr>\n",
       "    <tr>\n",
       "      <th>Station</th>\n",
       "      <th></th>\n",
       "      <th></th>\n",
       "    </tr>\n",
       "  </thead>\n",
       "  <tbody>\n",
       "    <tr>\n",
       "      <th>MCCOWAN STATION</th>\n",
       "      <td>1551</td>\n",
       "      <td>TRTC</td>\n",
       "    </tr>\n",
       "    <tr>\n",
       "      <th>WARDEN STATION</th>\n",
       "      <td>1280</td>\n",
       "      <td>TUSET</td>\n",
       "    </tr>\n",
       "    <tr>\n",
       "      <th>KENNEDY SRT STATION</th>\n",
       "      <td>957</td>\n",
       "      <td>TRTC</td>\n",
       "    </tr>\n",
       "    <tr>\n",
       "      <th>ST CLAIR STATION</th>\n",
       "      <td>888</td>\n",
       "      <td>TUS</td>\n",
       "    </tr>\n",
       "    <tr>\n",
       "      <th>ISLINGTON STATION</th>\n",
       "      <td>787</td>\n",
       "      <td>TUTD</td>\n",
       "    </tr>\n",
       "    <tr>\n",
       "      <th>COLLEGE STATION</th>\n",
       "      <td>691</td>\n",
       "      <td>TUOS</td>\n",
       "    </tr>\n",
       "    <tr>\n",
       "      <th>WELLESLEY STATION</th>\n",
       "      <td>684</td>\n",
       "      <td>TUS</td>\n",
       "    </tr>\n",
       "    <tr>\n",
       "      <th>OSSINGTON STATION</th>\n",
       "      <td>668</td>\n",
       "      <td>TUST</td>\n",
       "    </tr>\n",
       "    <tr>\n",
       "      <th>SPADINA BD STATION</th>\n",
       "      <td>637</td>\n",
       "      <td>TUS</td>\n",
       "    </tr>\n",
       "    <tr>\n",
       "      <th>SPADINA YUS STATION</th>\n",
       "      <td>607</td>\n",
       "      <td>TUS</td>\n",
       "    </tr>\n",
       "  </tbody>\n",
       "</table>\n",
       "</div>"
      ],
      "text/plain": [
       "                     total_count max_delay_code\n",
       "Station                                        \n",
       "MCCOWAN STATION             1551           TRTC\n",
       "WARDEN STATION              1280          TUSET\n",
       "KENNEDY SRT STATION          957           TRTC\n",
       "ST CLAIR STATION             888            TUS\n",
       "ISLINGTON STATION            787           TUTD\n",
       "COLLEGE STATION              691           TUOS\n",
       "WELLESLEY STATION            684            TUS\n",
       "OSSINGTON STATION            668           TUST\n",
       "SPADINA BD STATION           637            TUS\n",
       "SPADINA YUS STATION          607            TUS"
      ]
     },
     "execution_count": 129,
     "metadata": {},
     "output_type": "execute_result"
    }
   ],
   "source": [
    "TTC_delay_stations_count[~TTC_delay_stations_count[\"max_delay_code\"].isin([\"TUSUP\", \"TUSC\"])].head(10)"
   ]
  },
  {
   "cell_type": "markdown",
   "metadata": {},
   "source": [
    "We are suspect that the door problem usually happen at the exchange stations between two lines since people may run to catch the subway. The relevent codes are: [\"MUD\", \"MUDD\", \"MRD\", \"MRDD\"]"
   ]
  },
  {
   "cell_type": "code",
   "execution_count": 128,
   "metadata": {},
   "outputs": [
    {
     "data": {
      "text/plain": [
       "Station\n",
       "YONGE BD STATION         168\n",
       "ST GEORGE BD STATION     109\n",
       "KENNEDY BD STATION        83\n",
       "SHERBOURNE STATION        65\n",
       "ISLINGTON STATION         65\n",
       "WARDEN STATION            61\n",
       "SPADINA BD STATION        61\n",
       "KIPLING STATION           56\n",
       "VICTORIA PARK STATION     55\n",
       "DUFFERIN STATION          53\n",
       "Name: Min Delay, dtype: int64"
      ]
     },
     "execution_count": 128,
     "metadata": {},
     "output_type": "execute_result"
    }
   ],
   "source": [
    "real_delay[real_delay[\"Code\"].isin([\"MUD\", \"MUDD\", \"MRD\", \"MRDD\"])].groupby(\"Station\")[\"Min Delay\"].count().sort_values(ascending = False).head(10)"
   ]
  },
  {
   "cell_type": "code",
   "execution_count": 131,
   "metadata": {},
   "outputs": [
    {
     "data": {
      "text/plain": [
       "Station\n",
       "HIGHWAY 407 STATION      198\n",
       "SPADINA YUS STATION      131\n",
       "YORKDALE STATION         124\n",
       "LAWRENCE EAST STATION    105\n",
       "ST GEORGE YUS STATION    104\n",
       "LESLIE STATION           104\n",
       "WILSON STATION           100\n",
       "KENNEDY SRT STATION       99\n",
       "KENNEDY BD STATION        98\n",
       "MCCOWAN STATION           90\n",
       "Name: Min Delay, dtype: int64"
      ]
     },
     "execution_count": 131,
     "metadata": {},
     "output_type": "execute_result"
    }
   ],
   "source": [
    "real_delay[real_delay[\"Code\"].isin([\"PUOPO\", \"EUDO\", \"ERDO\"])].groupby(\"Station\")[\"Min Delay\"].count().sort_values(ascending = False).head(10)"
   ]
  },
  {
   "cell_type": "markdown",
   "metadata": {},
   "source": [
    "Yonge BD station and St. George BD station are two main interchange station with the most significant door issues due to passengers and debris. The potential reason is the subway schedule for two lines are too close. Passengers tried to exchange the subway at the last minute."
   ]
  },
  {
   "cell_type": "markdown",
   "metadata": {},
   "source": [
    "8. Weather Issue"
   ]
  },
  {
   "cell_type": "code",
   "execution_count": 76,
   "metadata": {},
   "outputs": [
    {
     "data": {
      "image/png": "[encoded data removed]",
      "text/plain": [
       "<Figure size 1440x576 with 2 Axes>"
      ]
     },
     "metadata": {
      "needs_background": "light"
     },
     "output_type": "display_data"
    }
   ],
   "source": [
    "# Total delay minutes due to weather\n",
    "fig, axs = plt.subplots(1, 2, figsize = (20, 8), sharey= True)\n",
    "subway_lines = [\"YUS\", \"BD\", \"SHP\", \"SRT\"]\n",
    "\n",
    "for i in range(2):\n",
    "    line = real_delay[(real_delay[\"Line\"] == subway_lines[i]) & ((real_delay[\"Code\"] == \"MUWEA\") | (real_delay[\"Code\"] == \"PUSIS\") | (real_delay[\"Code\"] == \"MRWEA\"))]    \n",
    "    weather_delay_time_line = line.groupby(line.index.year)[\"Min Delay\"].sum()\n",
    "    weather_delay_time_line.plot(ax = axs[i], kind = \"bar\")\n",
    "    axs[i].set_title(f\"TTC Subway Total Delay Time - {subway_lines[i]}\", fontsize = 14)\n",
    "    axs[i].set_xlabel(\"Year\", fontsize = 12)\n",
    "    axs[i].set_ylabel(\"Total Delay Time (min)\", fontsize = 12)\n",
    "\n",
    "plt.subplots_adjust(top=0.5)\n",
    "plt.show()\n"
   ]
  },
  {
   "cell_type": "code",
   "execution_count": 77,
   "metadata": {},
   "outputs": [
    {
     "data": {
      "image/png": "[encoded data removed]",
      "text/plain": [
       "<Figure size 1440x576 with 2 Axes>"
      ]
     },
     "metadata": {
      "needs_background": "light"
     },
     "output_type": "display_data"
    }
   ],
   "source": [
    "# Total delay events due to weather\n",
    "fig, axs = plt.subplots(1, 2, figsize = (20, 8), sharey= True)\n",
    "subway_lines = [\"YUS\", \"BD\", \"SHP\", \"SRT\"]\n",
    "\n",
    "for i in range(2):\n",
    "    line = real_delay[(real_delay[\"Line\"] == subway_lines[i]) & ((real_delay[\"Code\"] == \"MUWEA\") | (real_delay[\"Code\"] == \"PUSIS\") | (real_delay[\"Code\"] == \"MRWEA\"))]    \n",
    "    weather_delay_count_line = line.groupby(line.index.year)[\"Min Delay\"].count()\n",
    "    weather_delay_count_line.plot(ax = axs[i], kind = \"bar\")\n",
    "    axs[i].set_title(f\"TTC Subway Total Delay Time - {subway_lines[i]}\", fontsize = 14)\n",
    "    axs[i].set_xlabel(\"Year\", fontsize = 12)\n",
    "    axs[i].set_ylabel(\"Total Delay Events\", fontsize = 12)\n",
    "\n",
    "plt.subplots_adjust(top=0.5)\n",
    "plt.show()\n"
   ]
  },
  {
   "cell_type": "code",
   "execution_count": 78,
   "metadata": {},
   "outputs": [
    {
     "data": {
      "image/png": "[encoded data removed]",
      "text/plain": [
       "<Figure size 1440x576 with 2 Axes>"
      ]
     },
     "metadata": {
      "needs_background": "light"
     },
     "output_type": "display_data"
    }
   ],
   "source": [
    "# Total delay events due to weather\n",
    "fig, axs = plt.subplots(1, 2, figsize = (20, 8), sharey= True)\n",
    "subway_lines = [\"YUS\", \"BD\", \"SHP\", \"SRT\"]\n",
    "\n",
    "for i in range(2):\n",
    "    line = real_delay[(real_delay[\"Line\"] == subway_lines[i]) & ((real_delay[\"Code\"] == \"MUWEA\") | (real_delay[\"Code\"] == \"PUSIS\") | (real_delay[\"Code\"] == \"MRWEA\"))]    \n",
    "    weather_delay_line = line.groupby(line.index.year)[\"Min Delay\"].sum()/line.groupby(line.index.year)[\"Min Delay\"].count()\n",
    "    weather_delay_line.plot(ax = axs[i], kind = \"bar\")\n",
    "    axs[i].set_title(f\"TTC Subway Total Delay Time - {subway_lines[i]}\", fontsize = 14)\n",
    "    axs[i].set_xlabel(\"Year\", fontsize = 12)\n",
    "    axs[i].set_ylabel(\"Average Delay Time (min)\", fontsize = 12)\n",
    "\n",
    "plt.subplots_adjust(top=0.5)\n",
    "plt.show()\n"
   ]
  },
  {
   "cell_type": "code",
   "execution_count": null,
   "metadata": {},
   "outputs": [],
   "source": []
  }
 ],
 "metadata": {
  "kernelspec": {
   "display_name": "Python 3",
   "language": "python",
   "name": "python3"
  },
  "language_info": {
   "codemirror_mode": {
    "name": "ipython",
    "version": 3
   },
   "file_extension": ".py",
   "mimetype": "text/x-python",
   "name": "python",
   "nbconvert_exporter": "python",
   "pygments_lexer": "ipython3",
   "version": "3.9.7"
  }
 },
 "nbformat": 4,
 "nbformat_minor": 2
}
