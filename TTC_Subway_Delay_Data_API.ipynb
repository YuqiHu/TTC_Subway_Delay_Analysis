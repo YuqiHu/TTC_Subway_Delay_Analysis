{
 "cells": [
  {
   "cell_type": "code",
   "execution_count": 11,
   "metadata": {},
   "outputs": [],
   "source": [
    "import requests\n",
    "import os"
   ]
  },
  {
   "cell_type": "code",
   "execution_count": 12,
   "metadata": {},
   "outputs": [],
   "source": [
    "def download_file(url, destination):\n",
    "    response = requests.get(url)\n",
    "    \n",
    "    if response.status_code == 200:\n",
    "        with open(destination, 'wb') as file:\n",
    "            file.write(response.content)\n",
    "        print(\"File downloaded successfully.\")\n",
    "    else:\n",
    "        print(f\"Failed to download file. Status code: {response.status_code}\")"
   ]
  },
  {
   "cell_type": "code",
   "execution_count": 39,
   "metadata": {},
   "outputs": [
    {
     "name": "stdout",
     "output_type": "stream",
     "text": [
      "{'help': 'https://ckan0.cf.opendata.inter.prod-toronto.ca/api/3/action/help_show?name=resource_show', 'success': True, 'result': {'cache_last_updated': None, 'cache_url': None, 'created': '2019-07-23T18:12:29.977939', 'datastore_active': False, 'extract_job': 'Airflow: upload_remote_files', 'format': 'XLSX', 'hash': '', 'id': '3900e649-f31e-4b79-9f20-4731bbfd94f7', 'is_datastore_cache_file': False, 'is_preview': 'False', 'last_modified': '2022-04-06T18:51:05', 'metadata_modified': '2022-04-12T18:45:09.131087', 'mimetype': 'application/vnd.openxmlformats-officedocument.spreadsheetml.sheet', 'mimetype_inner': None, 'name': 'ttc-subway-delay-codes', 'package_id': '996cfe8d-fb35-40ce-b569-698d51fc683b', 'position': 0, 'resource_type': None, 'revision_id': 'c67fd8f7-cf16-41a7-b7f2-d508acaee8f1', 'size': 20206, 'state': 'active', 'url': 'https://ckan0.cf.opendata.inter.prod-toronto.ca/dataset/996cfe8d-fb35-40ce-b569-698d51fc683b/resource/3900e649-f31e-4b79-9f20-4731bbfd94f7/download/ttc-subway-delay-codes.xlsx', 'url_type': 'upload'}}\n",
      "File downloaded successfully.\n",
      "{'help': 'https://ckan0.cf.opendata.inter.prod-toronto.ca/api/3/action/help_show?name=resource_show', 'success': True, 'result': {'cache_last_updated': None, 'cache_url': None, 'created': '2022-04-12T17:28:50.270883', 'datastore_active': False, 'extract_job': 'Airflow: upload_remote_files', 'format': 'XLSX', 'hash': '', 'id': 'ca43ac3d-3940-4315-889b-a9375e7b8aa4', 'is_datastore_cache_file': False, 'is_preview': 'False', 'last_modified': '2022-04-06T18:51:09', 'metadata_modified': '2022-04-12T18:45:06.882356', 'mimetype': 'application/vnd.openxmlformats-officedocument.spreadsheetml.sheet', 'mimetype_inner': None, 'name': 'ttc-subway-delay-data-readme', 'package_id': '996cfe8d-fb35-40ce-b569-698d51fc683b', 'position': 1, 'resource_type': None, 'size': 12704, 'state': 'active', 'url': 'https://ckan0.cf.opendata.inter.prod-toronto.ca/dataset/996cfe8d-fb35-40ce-b569-698d51fc683b/resource/ca43ac3d-3940-4315-889b-a9375e7b8aa4/download/ttc-subway-delay-readme.xlsx', 'url_type': 'upload'}}\n",
      "File downloaded successfully.\n",
      "{'help': 'https://ckan0.cf.opendata.inter.prod-toronto.ca/api/3/action/help_show?name=resource_show', 'success': True, 'result': {'cache_last_updated': None, 'cache_url': None, 'created': '2019-07-23T18:12:32.134571', 'datastore_active': False, 'extract_job': 'Airflow: upload_remote_files', 'format': 'XLSX', 'hash': '', 'id': '8ca4a6ed-5e7e-4b9d-b950-bf45e4b2fe20', 'is_datastore_cache_file': False, 'is_preview': 'False', 'last_modified': '2022-04-06T15:11:29', 'metadata_modified': '2022-04-12T18:45:15.279710', 'mimetype': 'application/vnd.openxmlformats-officedocument.spreadsheetml.sheet', 'mimetype_inner': None, 'name': 'ttc-subway-delay-jan-2014-april-2017', 'package_id': '996cfe8d-fb35-40ce-b569-698d51fc683b', 'position': 2, 'resource_type': None, 'revision_id': 'c67fd8f7-cf16-41a7-b7f2-d508acaee8f1', 'size': 3698719, 'state': 'active', 'url': 'https://ckan0.cf.opendata.inter.prod-toronto.ca/dataset/996cfe8d-fb35-40ce-b569-698d51fc683b/resource/8ca4a6ed-5e7e-4b9d-b950-bf45e4b2fe20/download/ttc-subway-delay-jan-2014-april-2017.xlsx', 'url_type': 'upload'}}\n",
      "File downloaded successfully.\n",
      "{'help': 'https://ckan0.cf.opendata.inter.prod-toronto.ca/api/3/action/help_show?name=resource_show', 'success': True, 'result': {'cache_last_updated': None, 'cache_url': None, 'created': '2022-04-12T17:28:59.821812', 'datastore_active': False, 'extract_job': 'Airflow: upload_remote_files', 'format': 'XLSX', 'hash': '', 'id': 'e2ee9f63-3130-4d6a-a259-ce79c9c2f1bc', 'is_datastore_cache_file': False, 'is_preview': 'False', 'last_modified': '2022-04-06T15:09:14', 'metadata_modified': '2022-04-12T18:45:18.651822', 'mimetype': 'application/vnd.openxmlformats-officedocument.spreadsheetml.sheet', 'mimetype_inner': None, 'name': 'ttc-subway-delay-may-december-2017', 'package_id': '996cfe8d-fb35-40ce-b569-698d51fc683b', 'position': 3, 'resource_type': None, 'size': 688838, 'state': 'active', 'url': 'https://ckan0.cf.opendata.inter.prod-toronto.ca/dataset/996cfe8d-fb35-40ce-b569-698d51fc683b/resource/e2ee9f63-3130-4d6a-a259-ce79c9c2f1bc/download/ttc-subway-delay-may-december-2017.xlsx', 'url_type': 'upload'}}\n",
      "File downloaded successfully.\n",
      "{'help': 'https://ckan0.cf.opendata.inter.prod-toronto.ca/api/3/action/help_show?name=resource_show', 'success': True, 'result': {'cache_last_updated': None, 'cache_url': None, 'created': '2022-04-12T17:29:02.859425', 'datastore_active': False, 'extract_job': 'Airflow: upload_remote_files', 'format': 'XLSX', 'hash': '', 'id': '32bd0973-e83d-4df1-8219-c8c55cf34c6d', 'is_datastore_cache_file': False, 'is_preview': 'False', 'last_modified': '2022-04-06T15:40:34', 'metadata_modified': '2022-04-12T18:45:22.422577', 'mimetype': 'application/vnd.openxmlformats-officedocument.spreadsheetml.sheet', 'mimetype_inner': None, 'name': 'ttc-subway-delay-data-2018', 'package_id': '996cfe8d-fb35-40ce-b569-698d51fc683b', 'position': 4, 'resource_type': None, 'size': 1087991, 'state': 'active', 'url': 'https://ckan0.cf.opendata.inter.prod-toronto.ca/dataset/996cfe8d-fb35-40ce-b569-698d51fc683b/resource/32bd0973-e83d-4df1-8219-c8c55cf34c6d/download/ttc-subway-delay-data-2018.xlsx', 'url_type': 'upload'}}\n",
      "File downloaded successfully.\n",
      "{'help': 'https://ckan0.cf.opendata.inter.prod-toronto.ca/api/3/action/help_show?name=resource_show', 'success': True, 'result': {'cache_last_updated': None, 'cache_url': None, 'created': '2022-04-12T17:29:05.545072', 'datastore_active': False, 'extract_job': 'Airflow: upload_remote_files', 'format': 'XLSX', 'hash': '', 'id': '1df6aace-fa16-40e9-a0d3-416a912bfaf1', 'is_datastore_cache_file': False, 'is_preview': 'False', 'last_modified': '2022-04-06T15:52:59', 'metadata_modified': '2022-04-12T18:45:25.317594', 'mimetype': 'application/vnd.openxmlformats-officedocument.spreadsheetml.sheet', 'mimetype_inner': None, 'name': 'ttc-subway-delay-data-2019', 'package_id': '996cfe8d-fb35-40ce-b569-698d51fc683b', 'position': 5, 'resource_type': None, 'size': 1012697, 'state': 'active', 'url': 'https://ckan0.cf.opendata.inter.prod-toronto.ca/dataset/996cfe8d-fb35-40ce-b569-698d51fc683b/resource/1df6aace-fa16-40e9-a0d3-416a912bfaf1/download/ttc-subway-delay-data-2019.xlsx', 'url_type': 'upload'}}\n",
      "File downloaded successfully.\n",
      "{'help': 'https://ckan0.cf.opendata.inter.prod-toronto.ca/api/3/action/help_show?name=resource_show', 'success': True, 'result': {'cache_last_updated': None, 'cache_url': None, 'created': '2022-04-12T17:29:08.331884', 'datastore_active': False, 'extract_job': 'Airflow: upload_remote_files', 'format': 'XLSX', 'hash': '', 'id': '1ba66ead-cddf-453d-859d-b349d3286f02', 'is_datastore_cache_file': False, 'is_preview': 'False', 'last_modified': '2022-04-06T18:45:26', 'metadata_modified': '2022-04-12T18:45:27.899114', 'mimetype': 'application/vnd.openxmlformats-officedocument.spreadsheetml.sheet', 'mimetype_inner': None, 'name': 'ttc-subway-delay-data-2020', 'package_id': '996cfe8d-fb35-40ce-b569-698d51fc683b', 'position': 6, 'resource_type': None, 'size': 782670, 'state': 'active', 'url': 'https://ckan0.cf.opendata.inter.prod-toronto.ca/dataset/996cfe8d-fb35-40ce-b569-698d51fc683b/resource/1ba66ead-cddf-453d-859d-b349d3286f02/download/ttc-subway-delay-2020.xlsx', 'url_type': 'upload'}}\n",
      "File downloaded successfully.\n",
      "{'help': 'https://ckan0.cf.opendata.inter.prod-toronto.ca/api/3/action/help_show?name=resource_show', 'success': True, 'result': {'cache_last_updated': None, 'cache_url': None, 'created': '2022-04-12T17:29:11.054202', 'datastore_active': False, 'extract_job': 'Airflow: upload_remote_files', 'format': 'XLSX', 'hash': '', 'id': 'c6e4f5eb-6ed7-4db1-944f-87406faa5a09', 'is_datastore_cache_file': False, 'is_preview': 'False', 'last_modified': '2022-04-06T15:27:54', 'metadata_modified': '2022-04-12T18:45:29.856664', 'mimetype': 'application/vnd.openxmlformats-officedocument.spreadsheetml.sheet', 'mimetype_inner': None, 'name': 'ttc-subway-delay-data-2021', 'package_id': '996cfe8d-fb35-40ce-b569-698d51fc683b', 'position': 7, 'resource_type': None, 'size': 889437, 'state': 'active', 'url': 'https://ckan0.cf.opendata.inter.prod-toronto.ca/dataset/996cfe8d-fb35-40ce-b569-698d51fc683b/resource/c6e4f5eb-6ed7-4db1-944f-87406faa5a09/download/ttc-subway-delay-2021.xlsx', 'url_type': 'upload'}}\n",
      "File downloaded successfully.\n",
      "{'help': 'https://ckan0.cf.opendata.inter.prod-toronto.ca/api/3/action/help_show?name=resource_show', 'success': True, 'result': {'cache_last_updated': None, 'cache_url': None, 'created': '2022-04-25T14:15:19.228251', 'datastore_active': False, 'extract_job': 'Airflow: upload_remote_files', 'format': 'XLSX', 'hash': '', 'id': '441143ca-8194-44ce-a954-19f8141817c7', 'is_preview': 'False', 'last_modified': '2023-01-23T13:53:00', 'metadata_modified': '2023-01-24T17:15:14.440983', 'mimetype': 'application/vnd.openxmlformats-officedocument.spreadsheetml.sheet', 'mimetype_inner': None, 'name': 'ttc-subway-delay-data-2022', 'package_id': '996cfe8d-fb35-40ce-b569-698d51fc683b', 'position': 8, 'resource_type': None, 'size': 292580, 'state': 'active', 'url': 'https://ckan0.cf.opendata.inter.prod-toronto.ca/dataset/996cfe8d-fb35-40ce-b569-698d51fc683b/resource/441143ca-8194-44ce-a954-19f8141817c7/download/ttc-subway-delay-2022.xlsx', 'url_type': 'upload'}}\n",
      "File downloaded successfully.\n",
      "{'help': 'https://ckan0.cf.opendata.inter.prod-toronto.ca/api/3/action/help_show?name=resource_show', 'success': True, 'result': {'cache_last_updated': None, 'cache_url': None, 'created': '2023-06-14T14:30:15.099881', 'datastore_active': False, 'extract_job': 'Airflow: upload_remote_files', 'format': 'XLSX', 'hash': '', 'id': '2fbec48b-33d9-4897-a572-96c9f002d66a', 'is_preview': 'False', 'last_modified': '2023-11-21T13:53:55', 'metadata_modified': '2023-11-21T15:15:17.003037', 'mimetype': 'application/vnd.openxmlformats-officedocument.spreadsheetml.sheet', 'mimetype_inner': None, 'name': 'ttc-subway-delay-data-2023', 'package_id': '996cfe8d-fb35-40ce-b569-698d51fc683b', 'position': 9, 'resource_type': None, 'size': 1020118, 'state': 'active', 'url': 'https://ckan0.cf.opendata.inter.prod-toronto.ca/dataset/996cfe8d-fb35-40ce-b569-698d51fc683b/resource/2fbec48b-33d9-4897-a572-96c9f002d66a/download/ttc-subway-delay-2023.xlsx', 'url_type': 'upload'}}\n",
      "File downloaded successfully.\n"
     ]
    }
   ],
   "source": [
    "# Toronto Open Data is stored in a CKAN instance. It's APIs are documented here:\n",
    "# https://docs.ckan.org/en/latest/api/\n",
    "\n",
    "# To hit our API, you'll be making requests to:\n",
    "base_url = \"https://ckan0.cf.opendata.inter.prod-toronto.ca\"\n",
    "\n",
    "# Datasets are called \"packages\". Each package can contain many \"resources\"\n",
    "# To retrieve the metadata for this package and its resources, use the package name in this page's URL:\n",
    "url = base_url + \"/api/3/action/package_show\"\n",
    "params = { \"id\": \"ttc-subway-delay-data\"}\n",
    "package = requests.get(url, params = params).json()\n",
    "\n",
    "# Create a folder named \"Test\"\n",
    "output_folder = os.path.join(os.getcwd(), \"Test\")\n",
    "if not os.path.exists(output_folder):\n",
    "    os.makedirs(output_folder)\n",
    "    print(f\"Folder 'Test' created successfully at '{output_folder}'.\")\n",
    "\n",
    "# To get resource data:\n",
    "for idx, resource in enumerate(package[\"result\"][\"resources\"]):\n",
    "\n",
    "        # To get metadata for non datastore_active resources:\n",
    "        if not resource[\"datastore_active\"]:\n",
    "            url = base_url + \"/api/3/action/resource_show?id=\" + resource[\"id\"]\n",
    "            resource_metadata = requests.get(url).json()\n",
    "            print(resource_metadata)\n",
    "\n",
    "            # From here, you can use the \"url\" attribute to download this file\n",
    "            download_file(resource_metadata[\"result\"][\"url\"], output_folder)\n",
    "\n"
   ]
  },
  {
   "cell_type": "code",
   "execution_count": 43,
   "metadata": {},
   "outputs": [
    {
     "name": "stdout",
     "output_type": "stream",
     "text": [
      "File downloaded successfully to 'c:\\Users\\yuqih\\Documents\\GitHub\\TTC_Subway_Delay_Analysis\\Test'.\n",
      "File downloaded successfully to 'c:\\Users\\yuqih\\Documents\\GitHub\\TTC_Subway_Delay_Analysis\\Test'.\n",
      "File downloaded successfully to 'c:\\Users\\yuqih\\Documents\\GitHub\\TTC_Subway_Delay_Analysis\\Test'.\n",
      "File downloaded successfully to 'c:\\Users\\yuqih\\Documents\\GitHub\\TTC_Subway_Delay_Analysis\\Test'.\n",
      "File downloaded successfully to 'c:\\Users\\yuqih\\Documents\\GitHub\\TTC_Subway_Delay_Analysis\\Test'.\n",
      "File downloaded successfully to 'c:\\Users\\yuqih\\Documents\\GitHub\\TTC_Subway_Delay_Analysis\\Test'.\n",
      "File downloaded successfully to 'c:\\Users\\yuqih\\Documents\\GitHub\\TTC_Subway_Delay_Analysis\\Test'.\n",
      "File downloaded successfully to 'c:\\Users\\yuqih\\Documents\\GitHub\\TTC_Subway_Delay_Analysis\\Test'.\n",
      "File downloaded successfully to 'c:\\Users\\yuqih\\Documents\\GitHub\\TTC_Subway_Delay_Analysis\\Test'.\n",
      "File downloaded successfully to 'c:\\Users\\yuqih\\Documents\\GitHub\\TTC_Subway_Delay_Analysis\\Test'.\n"
     ]
    }
   ],
   "source": [
    "import os\n",
    "import requests\n",
    "\n",
    "def download_file(url, destination):\n",
    "    response = requests.get(url)\n",
    "    \n",
    "    if response.status_code == 200:\n",
    "        with open(destination, 'wb') as file:\n",
    "            file.write(response.content)\n",
    "        print(f\"File downloaded successfully to '{destination}'.\")\n",
    "    else:\n",
    "        print(f\"Failed to download file. Status code: {response.status_code}\")\n",
    "\n",
    "# Base URL for CKAN instance\n",
    "base_url = \"https://ckan0.cf.opendata.inter.prod-toronto.ca\"\n",
    "\n",
    "# Package name\n",
    "package_id = \"ttc-subway-delay-data\"\n",
    "\n",
    "# URL to retrieve metadata for the package\n",
    "url_package_show = base_url + \"/api/3/action/package_show\"\n",
    "params_package_show = {\"id\": package_id}\n",
    "package = requests.get(url_package_show, params=params_package_show).json()\n",
    "\n",
    "# Create a folder named \"Test\"\n",
    "output_folder = os.path.join(os.getcwd(), \"Test\")\n",
    "if not os.path.exists(output_folder):\n",
    "    os.makedirs(output_folder)\n",
    "    print(f\"Folder 'Test' created successfully at '{output_folder}'.\")\n",
    "\n",
    "# Loop through resources in the package\n",
    "for idx, resource in enumerate(package[\"result\"][\"resources\"]):\n",
    "    # Get metadata for non-datastore_active resources\n",
    "    if not resource[\"datastore_active\"]:\n",
    "        url_resource_show = base_url + \"/api/3/action/resource_show\"\n",
    "        params_resource_show = {\"id\": resource[\"id\"]}\n",
    "        resource_metadata = requests.get(url_resource_show, params=params_resource_show).json()\n",
    "\n",
    "        download_file(resource_metadata[\"result\"][\"url\"], output_folder)\n"
   ]
  },
  {
   "cell_type": "code",
   "execution_count": 45,
   "metadata": {},
   "outputs": [
    {
     "name": "stdout",
     "output_type": "stream",
     "text": [
      "File downloaded successfully to 'c:\\Users\\yuqih\\Documents\\GitHub\\TTC_Subway_Delay_Analysis\\Test'.\n"
     ]
    }
   ],
   "source": [
    "import os\n",
    "import requests\n",
    "\n",
    "def download_file(url, destination):\n",
    "    response = requests.get(url)\n",
    "    \n",
    "    if response.status_code == 200:\n",
    "        with open(destination, 'wb') as file:\n",
    "            file.write(response.content)\n",
    "        print(f\"File downloaded successfully to '{destination}'.\")\n",
    "    else:\n",
    "        print(f\"Failed to download file. Status code: {response.status_code}\")\n",
    "\n",
    "# Base URL for CKAN instance\n",
    "base_url = \"https://ckan0.cf.opendata.inter.prod-toronto.ca\"\n",
    "\n",
    "# Package name\n",
    "package_id = \"ttc-subway-delay-data\"\n",
    "\n",
    "# URL to retrieve metadata for the package\n",
    "url_package_show = base_url + \"/api/3/action/package_show\"\n",
    "params_package_show = {\"id\": package_id}\n",
    "package = requests.get(url_package_show, params=params_package_show).json()\n",
    "\n",
    "# Let's try to download the first resource in the package\n",
    "resource = package[\"result\"][\"resources\"][0]\n",
    "\n",
    "# Get metadata for the resource\n",
    "url_resource_show = base_url + \"/api/3/action/resource_show\"\n",
    "params_resource_show = {\"id\": resource[\"id\"]}\n",
    "resource_metadata = requests.get(url_resource_show, params=params_resource_show).json()\n",
    "\n",
    "# Create a folder named \"Test\"\n",
    "output_folder = os.path.join(os.getcwd(), \"Test\")\n",
    "if not os.path.exists(output_folder):\n",
    "    os.makedirs(output_folder)\n",
    "    print(f\"Folder 'Test' created successfully at '{output_folder}'.\")\n",
    "\n",
    "download_file(resource_metadata[\"result\"][\"url\"], output_folder)\n",
    "\n"
   ]
  },
  {
   "cell_type": "code",
   "execution_count": 47,
   "metadata": {},
   "outputs": [
    {
     "name": "stdout",
     "output_type": "stream",
     "text": [
      "File downloaded successfully.\n",
      "File 'Test' is not an Excel file.\n"
     ]
    }
   ],
   "source": [
    "import os\n",
    "import requests\n",
    "import openpyxl\n",
    "\n",
    "def download_excel_file(url, destination):\n",
    "    response = requests.get(url)\n",
    "    \n",
    "    if response.status_code == 200:\n",
    "        with open(destination, 'wb') as file:\n",
    "            file.write(response.content)\n",
    "        print(\"File downloaded successfully.\")\n",
    "\n",
    "        # Check if the file is an Excel file and load it using openpyxl\n",
    "        if destination.lower().endswith('.xlsx'):\n",
    "            workbook = openpyxl.load_workbook(destination)\n",
    "            print(f\"Excel file '{os.path.basename(destination)}' loaded successfully.\")\n",
    "        else:\n",
    "            print(f\"File '{os.path.basename(destination)}' is not an Excel file.\")\n",
    "\n",
    "    else:\n",
    "        print(f\"Failed to download file. Status code: {response.status_code}\")\n",
    "\n",
    "# Base URL for CKAN instance\n",
    "base_url = \"https://ckan0.cf.opendata.inter.prod-toronto.ca\"\n",
    "\n",
    "# Package name\n",
    "package_id = \"ttc-subway-delay-data\"\n",
    "\n",
    "# URL to retrieve metadata for the package\n",
    "url_package_show = base_url + \"/api/3/action/package_show\"\n",
    "params_package_show = {\"id\": package_id}\n",
    "package = requests.get(url_package_show, params=params_package_show).json()\n",
    "\n",
    "# Let's try to download the first resource in the package\n",
    "resource = package[\"result\"][\"resources\"][0]\n",
    "\n",
    "# Get metadata for the resource\n",
    "url_resource_show = base_url + \"/api/3/action/resource_show\"\n",
    "params_resource_show = {\"id\": resource[\"id\"]}\n",
    "resource_metadata = requests.get(url_resource_show, params=params_resource_show).json()\n",
    "\n",
    "# Create a folder named \"Test\"\n",
    "output_folder = os.path.join(os.getcwd(), \"Test\")\n",
    "if not os.path.exists(output_folder):\n",
    "    os.makedirs(output_folder)\n",
    "    print(f\"Folder 'Test' created successfully at '{output_folder}'.\")\n",
    "\n",
    "download_excel_file(resource_metadata[\"result\"][\"url\"], output_folder)\n"
   ]
  },
  {
   "cell_type": "code",
   "execution_count": null,
   "metadata": {},
   "outputs": [],
   "source": []
  }
 ],
 "metadata": {
  "kernelspec": {
   "display_name": "Python 3",
   "language": "python",
   "name": "python3"
  },
  "language_info": {
   "codemirror_mode": {
    "name": "ipython",
    "version": 3
   },
   "file_extension": ".py",
   "mimetype": "text/x-python",
   "name": "python",
   "nbconvert_exporter": "python",
   "pygments_lexer": "ipython3",
   "version": "3.9.7"
  }
 },
 "nbformat": 4,
 "nbformat_minor": 2
}
