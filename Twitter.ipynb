{
 "cells": [
  {
   "cell_type": "markdown",
   "metadata": {},
   "source": [
    "# Twitter Information Collection"
   ]
  },
  {
   "cell_type": "markdown",
   "metadata": {},
   "source": [
    "In this section, the team will collect information about TTC subway delay posts and analysis the posting time and combine the information with the current TTC data to analysis the time it took to transfer information from TTC to passengers."
   ]
  },
  {
   "cell_type": "markdown",
   "metadata": {},
   "source": [
    "This section is refer to the example posted on twitterdev GitHub account: https://github.com/twitterdev/Twitter-API-v2-sample-code\n",
    "\n",
    "Retweet Tutorial: https://github.com/twitterdev/Twitter-API-v2-sample-code/blob/main/Retweets-Lookup/retweeted_by.py"
   ]
  },
  {
   "cell_type": "code",
   "execution_count": 1,
   "metadata": {},
   "outputs": [],
   "source": [
    "import requests\n",
    "import os\n",
    "import json"
   ]
  },
  {
   "cell_type": "code",
   "execution_count": 2,
   "metadata": {},
   "outputs": [],
   "source": [
    "# Set my environment variable with my BEARER_TOKEN\n",
    "bearer_token = os.environ.get(\"AAAAAAAAAAAAAAAAAAAAAEXCqwEAAAAAELhv%2FQtFNXbg23%2BXgd0i4e3Q8%2Bk%3DIqb0TvOkWaT8xkF8OFnyrTm7jBkhRmHj3AQv688YE5v2S381uG\")"
   ]
  },
  {
   "cell_type": "code",
   "execution_count": 7,
   "metadata": {},
   "outputs": [],
   "source": [
    "def create_url():\n",
    "    # User fields are adjustable, options include:\n",
    "    # created_at, description, entities, id, location, name,\n",
    "    # pinned_tweet_id, profile_image_url, protected,\n",
    "    # public_metrics, url, username, verified, and withheld\n",
    "    user_fields = \"user.fields=created_at,description\"\n",
    "    # You can replace the ID given with the Tweet ID you wish to lookup Retweeting users for\n",
    "    # You can find an ID by using the Tweet lookup endpoint\n",
    "    id = \"1354143047324299264\"\n",
    "    # You can adjust ids to include a single Tweets.\n",
    "    # Or you can add to up to 100 comma-separated IDs\n",
    "    url = \"https://api.twitter.com/2/tweets/{}/retweeted_by\".format(id)\n",
    "    return url, user_fields"
   ]
  },
  {
   "cell_type": "code",
   "execution_count": 8,
   "metadata": {},
   "outputs": [],
   "source": [
    "def bearer_oauth(r):\n",
    "    \"\"\"\n",
    "    Method required by bearer token authentication.\n",
    "    \"\"\"\n",
    "\n",
    "    r.headers[\"Authorization\"] = f\"Bearer {bearer_token}\"\n",
    "    r.headers[\"User-Agent\"] = \"v2RecentSearchPython\"\n",
    "    return r"
   ]
  },
  {
   "cell_type": "code",
   "execution_count": 9,
   "metadata": {},
   "outputs": [],
   "source": [
    "def connect_to_endpoint(url, user_fields):\n",
    "    response = requests.request(\"GET\", url, auth=bearer_oauth, params=user_fields)\n",
    "    print(response.status_code)\n",
    "    if response.status_code != 200:\n",
    "        raise Exception(\n",
    "            \"Request returned an error: {} {}\".format(\n",
    "                response.status_code, response.text\n",
    "            )\n",
    "        )\n",
    "    return response.json()"
   ]
  },
  {
   "cell_type": "code",
   "execution_count": 10,
   "metadata": {},
   "outputs": [
    {
     "name": "stdout",
     "output_type": "stream",
     "text": [
      "401\n"
     ]
    },
    {
     "ename": "Exception",
     "evalue": "Request returned an error: 401 {\n  \"title\": \"Unauthorized\",\n  \"type\": \"about:blank\",\n  \"status\": 401,\n  \"detail\": \"Unauthorized\"\n}",
     "output_type": "error",
     "traceback": [
      "\u001b[1;31m---------------------------------------------------------------------------\u001b[0m",
      "\u001b[1;31mException\u001b[0m                                 Traceback (most recent call last)",
      "\u001b[1;32mc:\\Users\\yuqih\\Documents\\GitHub\\TTC_Subway_Delay_Analysis\\Twitter.ipynb Cell 9\u001b[0m line \u001b[0;36m<cell line: 7>\u001b[1;34m()\u001b[0m\n\u001b[0;32m      <a href='vscode-notebook-cell:/c%3A/Users/yuqih/Documents/GitHub/TTC_Subway_Delay_Analysis/Twitter.ipynb#X11sZmlsZQ%3D%3D?line=3'>4</a>\u001b[0m     \u001b[39mprint\u001b[39m(json\u001b[39m.\u001b[39mdumps(json_response, indent\u001b[39m=\u001b[39m\u001b[39m4\u001b[39m, sort_keys\u001b[39m=\u001b[39m\u001b[39mTrue\u001b[39;00m))\n\u001b[0;32m      <a href='vscode-notebook-cell:/c%3A/Users/yuqih/Documents/GitHub/TTC_Subway_Delay_Analysis/Twitter.ipynb#X11sZmlsZQ%3D%3D?line=6'>7</a>\u001b[0m \u001b[39mif\u001b[39;00m \u001b[39m__name__\u001b[39m \u001b[39m==\u001b[39m \u001b[39m\"\u001b[39m\u001b[39m__main__\u001b[39m\u001b[39m\"\u001b[39m:\n\u001b[1;32m----> <a href='vscode-notebook-cell:/c%3A/Users/yuqih/Documents/GitHub/TTC_Subway_Delay_Analysis/Twitter.ipynb#X11sZmlsZQ%3D%3D?line=7'>8</a>\u001b[0m     main()\n",
      "\u001b[1;32mc:\\Users\\yuqih\\Documents\\GitHub\\TTC_Subway_Delay_Analysis\\Twitter.ipynb Cell 9\u001b[0m line \u001b[0;36mmain\u001b[1;34m()\u001b[0m\n\u001b[0;32m      <a href='vscode-notebook-cell:/c%3A/Users/yuqih/Documents/GitHub/TTC_Subway_Delay_Analysis/Twitter.ipynb#X11sZmlsZQ%3D%3D?line=0'>1</a>\u001b[0m \u001b[39mdef\u001b[39;00m \u001b[39mmain\u001b[39m():\n\u001b[0;32m      <a href='vscode-notebook-cell:/c%3A/Users/yuqih/Documents/GitHub/TTC_Subway_Delay_Analysis/Twitter.ipynb#X11sZmlsZQ%3D%3D?line=1'>2</a>\u001b[0m     url, user_fields \u001b[39m=\u001b[39m create_url()\n\u001b[1;32m----> <a href='vscode-notebook-cell:/c%3A/Users/yuqih/Documents/GitHub/TTC_Subway_Delay_Analysis/Twitter.ipynb#X11sZmlsZQ%3D%3D?line=2'>3</a>\u001b[0m     json_response \u001b[39m=\u001b[39m connect_to_endpoint(url, user_fields)\n\u001b[0;32m      <a href='vscode-notebook-cell:/c%3A/Users/yuqih/Documents/GitHub/TTC_Subway_Delay_Analysis/Twitter.ipynb#X11sZmlsZQ%3D%3D?line=3'>4</a>\u001b[0m     \u001b[39mprint\u001b[39m(json\u001b[39m.\u001b[39mdumps(json_response, indent\u001b[39m=\u001b[39m\u001b[39m4\u001b[39m, sort_keys\u001b[39m=\u001b[39m\u001b[39mTrue\u001b[39;00m))\n",
      "\u001b[1;32mc:\\Users\\yuqih\\Documents\\GitHub\\TTC_Subway_Delay_Analysis\\Twitter.ipynb Cell 9\u001b[0m line \u001b[0;36mconnect_to_endpoint\u001b[1;34m(url, user_fields)\u001b[0m\n\u001b[0;32m      <a href='vscode-notebook-cell:/c%3A/Users/yuqih/Documents/GitHub/TTC_Subway_Delay_Analysis/Twitter.ipynb#X11sZmlsZQ%3D%3D?line=2'>3</a>\u001b[0m \u001b[39mprint\u001b[39m(response\u001b[39m.\u001b[39mstatus_code)\n\u001b[0;32m      <a href='vscode-notebook-cell:/c%3A/Users/yuqih/Documents/GitHub/TTC_Subway_Delay_Analysis/Twitter.ipynb#X11sZmlsZQ%3D%3D?line=3'>4</a>\u001b[0m \u001b[39mif\u001b[39;00m response\u001b[39m.\u001b[39mstatus_code \u001b[39m!=\u001b[39m \u001b[39m200\u001b[39m:\n\u001b[1;32m----> <a href='vscode-notebook-cell:/c%3A/Users/yuqih/Documents/GitHub/TTC_Subway_Delay_Analysis/Twitter.ipynb#X11sZmlsZQ%3D%3D?line=4'>5</a>\u001b[0m     \u001b[39mraise\u001b[39;00m \u001b[39mException\u001b[39;00m(\n\u001b[0;32m      <a href='vscode-notebook-cell:/c%3A/Users/yuqih/Documents/GitHub/TTC_Subway_Delay_Analysis/Twitter.ipynb#X11sZmlsZQ%3D%3D?line=5'>6</a>\u001b[0m         \u001b[39m\"\u001b[39m\u001b[39mRequest returned an error: \u001b[39m\u001b[39m{}\u001b[39;00m\u001b[39m \u001b[39m\u001b[39m{}\u001b[39;00m\u001b[39m\"\u001b[39m\u001b[39m.\u001b[39mformat(\n\u001b[0;32m      <a href='vscode-notebook-cell:/c%3A/Users/yuqih/Documents/GitHub/TTC_Subway_Delay_Analysis/Twitter.ipynb#X11sZmlsZQ%3D%3D?line=6'>7</a>\u001b[0m             response\u001b[39m.\u001b[39mstatus_code, response\u001b[39m.\u001b[39mtext\n\u001b[0;32m      <a href='vscode-notebook-cell:/c%3A/Users/yuqih/Documents/GitHub/TTC_Subway_Delay_Analysis/Twitter.ipynb#X11sZmlsZQ%3D%3D?line=7'>8</a>\u001b[0m         )\n\u001b[0;32m      <a href='vscode-notebook-cell:/c%3A/Users/yuqih/Documents/GitHub/TTC_Subway_Delay_Analysis/Twitter.ipynb#X11sZmlsZQ%3D%3D?line=8'>9</a>\u001b[0m     )\n\u001b[0;32m     <a href='vscode-notebook-cell:/c%3A/Users/yuqih/Documents/GitHub/TTC_Subway_Delay_Analysis/Twitter.ipynb#X11sZmlsZQ%3D%3D?line=9'>10</a>\u001b[0m \u001b[39mreturn\u001b[39;00m response\u001b[39m.\u001b[39mjson()\n",
      "\u001b[1;31mException\u001b[0m: Request returned an error: 401 {\n  \"title\": \"Unauthorized\",\n  \"type\": \"about:blank\",\n  \"status\": 401,\n  \"detail\": \"Unauthorized\"\n}"
     ]
    }
   ],
   "source": [
    "def main():\n",
    "    url, user_fields = create_url()\n",
    "    json_response = connect_to_endpoint(url, user_fields)\n",
    "    print(json.dumps(json_response, indent=4, sort_keys=True))\n",
    "\n",
    "\n",
    "if __name__ == \"__main__\":\n",
    "    main()"
   ]
  },
  {
   "cell_type": "code",
   "execution_count": null,
   "metadata": {},
   "outputs": [],
   "source": []
  }
 ],
 "metadata": {
  "kernelspec": {
   "display_name": "Python 3",
   "language": "python",
   "name": "python3"
  },
  "language_info": {
   "codemirror_mode": {
    "name": "ipython",
    "version": 3
   },
   "file_extension": ".py",
   "mimetype": "text/x-python",
   "name": "python",
   "nbconvert_exporter": "python",
   "pygments_lexer": "ipython3",
   "version": "3.9.7"
  }
 },
 "nbformat": 4,
 "nbformat_minor": 2
}
